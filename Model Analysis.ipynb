{
 "cells": [
  {
   "cell_type": "code",
   "execution_count": 1,
   "metadata": {},
   "outputs": [],
   "source": [
    "import os\n",
    "import matplotlib.pylab as plt\n",
    "%matplotlib inline\n",
    "import numpy as np\n",
    "import pickle\n",
    "import torch\n",
    "import seaborn as sns\n",
    "from scipy.stats import pearsonr\n",
    "from sklearn.metrics import accuracy_score"
   ]
  },
  {
   "cell_type": "code",
   "execution_count": 2,
   "metadata": {},
   "outputs": [],
   "source": [
    "def fetch_model(fpath):\n",
    "    infile = open(fpath, 'rb')\n",
    "    res_dict = pickle.load(infile)\n",
    "    infile.close()\n",
    "    return res_dict"
   ]
  },
  {
   "cell_type": "code",
   "execution_count": 3,
   "metadata": {},
   "outputs": [],
   "source": [
    "def coef2matrix(coef, n_roi=192, top_coef_ratio=0.03):\n",
    "    coef = coef.reshape(-1)\n",
    "    n_top_coef = int(coef.shape[0] * top_coef_ratio)\n",
    "    print(n_top_coef)\n",
    "    idx_sorted = (-abs(coef)).argsort()\n",
    "    coef_ = np.zeros(coef.shape)\n",
    "    coef_[idx_sorted[:n_top_coef]] = coef[idx_sorted[:n_top_coef]]\n",
    "    idx = np.triu_indices(n_roi, k=1)\n",
    "    coef_matrix = np.zeros((n_roi, n_roi))\n",
    "    coef_matrix[idx] = coef_[:]\n",
    "    coef_matrix = coef_matrix.T\n",
    "    coef_matrix[idx] = coef_[:]\n",
    "    \n",
    "    return coef_matrix"
   ]
  },
  {
   "cell_type": "code",
   "execution_count": 4,
   "metadata": {},
   "outputs": [],
   "source": [
    "import seaborn as sns\n",
    "\n",
    "def plot_tri_coef(coef_matrix, xlabels=False, ylabels=False, fig_name='figure.pdf', cmap='coolwarm'):\n",
    "    mask = np.zeros_like(coef_matrix)\n",
    "    mask[np.triu_indices_from(mask)] = True\n",
    "    plt.figure(figsize=(16,12))\n",
    "    sns.heatmap(data=coef_matrix, mask=mask, xticklabels=xlabels, yticklabels=ylabels, cmap=cmap)\n",
    "    plt.yticks(fontsize=3)\n",
    "    plt.xticks(fontsize=3)\n",
    "    plt.savefig(fig_name, bbox_inches='tight')\n",
    "    plt.show()"
   ]
  },
  {
   "cell_type": "code",
   "execution_count": 5,
   "metadata": {},
   "outputs": [],
   "source": [
    "def cat_coef(res_dict, kernel_rev=False):\n",
    "    coef_ = []\n",
    "    for i in range(len(res_dict['clf'])):\n",
    "        pca = res_dict['embed'][i]\n",
    "        clf = res_dict['clf'][i]\n",
    "        clf_coef = clf.coef_\n",
    "        if kernel_rev:\n",
    "            clf_coef = np.dot(clf_coef.T, clf._X)\n",
    "        coef_.append(pca.inverse_transform(clf_coef).reshape((1, -1)))\n",
    "        \n",
    "    return np.concatenate(coef_, axis=0)"
   ]
  },
  {
   "cell_type": "markdown",
   "metadata": {},
   "source": [
    "### AICHA Model"
   ]
  },
  {
   "cell_type": "code",
   "execution_count": 15,
   "metadata": {},
   "outputs": [],
   "source": [
    "# redige coefficients\n",
    "basedir = 'D:/ShareFolder/AICHA_VolFC/Result'\n",
    "fname = 'intra_half_brain_Ridge_REST1_144.pickle'\n",
    "# fname = 'intra_half_brain_Ridge_REST1_144.pickle'\n",
    "res_dict = fetch_model(os.path.join(basedir, fname))\n",
    "ridge_coef = cat_coef(res_dict)"
   ]
  },
  {
   "cell_type": "code",
   "execution_count": 36,
   "metadata": {},
   "outputs": [],
   "source": [
    "# regularised clf coefficients\n",
    "basedir = 'D:/ShareFolder/AICHA_VolFC/Result'\n",
    "# fname = 'intra_half_brain_SIDeRLS_REST1_144.pickle'\n",
    "# fname = 'intra_half_brain_Ridge_REST1_144.pickle'\n",
    "fname =  'intra_half_brain_SVC_REST1_LR_144.pickle'\n",
    "res_dict = fetch_model(os.path.join(basedir, fname))\n",
    "sider_coef = cat_coef(res_dict)"
   ]
  },
  {
   "cell_type": "code",
   "execution_count": 37,
   "metadata": {},
   "outputs": [
    {
     "name": "stdout",
     "output_type": "stream",
     "text": [
      "0.8647510166402261\n",
      "0.8651446054186045\n",
      "0.8437044303181862\n",
      "0.8374912044418097\n",
      "0.8710054184975751\n",
      "0.850399131778997\n",
      "0.8622856164678376\n",
      "0.8660035242510282\n",
      "0.8419745663036243\n",
      "0.8556501173289457\n",
      "0.8628764471305692\n",
      "0.8588365821712928\n",
      "0.8464237171608358\n",
      "0.83196671033154\n",
      "0.8597168998716876\n",
      "0.8406938755746942\n",
      "0.8537188345914943\n",
      "0.8592208306749681\n",
      "0.8381443708929035\n",
      "0.8612533031477312\n",
      "0.8664925855943092\n",
      "0.8711305600746732\n",
      "0.8505240098841522\n",
      "0.8881626194117508\n",
      "0.8721092495956306\n",
      "0.8663602407749613\n",
      "0.8602557888421685\n",
      "0.8676476191780229\n",
      "0.8572080047787044\n",
      "0.8799424204074004\n",
      "0.8715835073012056\n",
      "0.870051159629031\n",
      "0.8655442206505191\n",
      "0.897259936256267\n",
      "0.8777526905786245\n",
      "0.8692775583566157\n",
      "0.8710748851335617\n",
      "0.8677015990275834\n",
      "0.8585039227646498\n",
      "0.8873391246413938\n",
      "0.8594732331637519\n",
      "0.8679175536288505\n",
      "0.860179061941527\n",
      "0.8899474855599432\n",
      "0.8706351180672776\n",
      "0.8708287491130748\n",
      "0.8687769147025071\n",
      "0.8674462539179815\n",
      "0.8672162305459468\n",
      "0.8805353923596881\n",
      "0.8701565101283515\n",
      "0.8766313605596346\n",
      "0.8583776631731129\n",
      "0.8896416732474677\n",
      "0.8707215395870694\n",
      "0.8740168985665625\n",
      "0.872211348793346\n",
      "0.8708717368018257\n",
      "0.8638463386103367\n",
      "0.8816749325200304\n",
      "0.876734012676103\n",
      "0.8747170631139876\n",
      "0.8566996368287185\n",
      "0.8831273293713331\n",
      "0.8753147706153064\n",
      "0.8749511625653569\n",
      "0.8685169493681931\n",
      "0.8744248506071759\n",
      "0.8659673339929582\n",
      "0.8751691418404783\n",
      "0.8661101321589629\n",
      "0.8706194554688533\n",
      "0.8585933127385705\n",
      "0.8898562444071076\n",
      "0.8675367417313885\n",
      "0.8710781826165079\n",
      "0.8684601587889582\n",
      "0.8682979669361356\n",
      "0.8516108997128977\n",
      "0.8766915713928293\n",
      "0.8672130687526393\n",
      "0.8707332929058405\n",
      "0.8531540948426573\n",
      "0.8817630401390423\n",
      "0.8725090406731675\n",
      "0.8724854178071987\n",
      "0.8669248743752366\n",
      "0.8720408767227266\n",
      "0.8499381392843091\n",
      "0.8774328579672326\n",
      "0.8738509695255475\n",
      "0.8755310910845171\n",
      "0.8600804454532869\n",
      "0.8789035508706302\n",
      "0.8778500559442721\n",
      "0.8776159095890914\n",
      "0.8704615055142721\n",
      "0.8704557428125864\n",
      "0.8627184517530978\n",
      "0.8814644366686721\n"
     ]
    }
   ],
   "source": [
    "from scipy.stats import pearsonr\n",
    "\n",
    "corrs = []\n",
    "for i in range(10):\n",
    "    coef_i = ridge_coef[i, :]\n",
    "    for j in range(10):\n",
    "        coef_j = sider_coef[j, :]\n",
    "        corr, _ = pearsonr(coef_i.reshape(-1), coef_j.reshape(-1))\n",
    "        corrs.append(corr)\n",
    "        print(corr)"
   ]
  },
  {
   "cell_type": "code",
   "execution_count": 38,
   "metadata": {},
   "outputs": [
    {
     "data": {
      "text/plain": [
       "0.8674589268048192"
      ]
     },
     "execution_count": 38,
     "metadata": {},
     "output_type": "execute_result"
    }
   ],
   "source": [
    "np.mean(corrs)"
   ]
  },
  {
   "cell_type": "code",
   "execution_count": 39,
   "metadata": {},
   "outputs": [
    {
     "data": {
      "text/plain": [
       "0.011832011856053502"
      ]
     },
     "execution_count": 39,
     "metadata": {},
     "output_type": "execute_result"
    }
   ],
   "source": [
    "np.std(corrs)"
   ]
  },
  {
   "cell_type": "code",
   "execution_count": 29,
   "metadata": {},
   "outputs": [
    {
     "data": {
      "text/plain": [
       "(10, 18336)"
      ]
     },
     "execution_count": 29,
     "metadata": {},
     "output_type": "execute_result"
    }
   ],
   "source": [
    "ridge_coef.shape"
   ]
  },
  {
   "cell_type": "code",
   "execution_count": 28,
   "metadata": {},
   "outputs": [
    {
     "name": "stdout",
     "output_type": "stream",
     "text": [
      "0.8352216802842669\n"
     ]
    }
   ],
   "source": [
    "print(corr)"
   ]
  },
  {
   "cell_type": "code",
   "execution_count": 7,
   "metadata": {},
   "outputs": [],
   "source": [
    "import pandas as pd\n",
    "\n",
    "roi_list_fpath = 'D:\\ShareFolder\\AICHA_VolFC\\AtlasInfo\\AICHA_ROI_MNI_V1.txt'\n",
    "\n",
    "rois = pd.read_table(roi_list_fpath, header=None)\n",
    "roi_list = list(rois.loc[0::2, 0])\n",
    "sub_roi_names = [sub_roi.replace('-L', '') for sub_roi in roi_list]\n",
    "roi_nams = [name.split('-')[0] for name in sub_roi_names]"
   ]
  },
  {
   "cell_type": "code",
   "execution_count": null,
   "metadata": {},
   "outputs": [],
   "source": [
    "plot_tri_coef()"
   ]
  },
  {
   "cell_type": "code",
   "execution_count": 8,
   "metadata": {},
   "outputs": [
    {
     "data": {
      "text/plain": [
       "(10, 18336)"
      ]
     },
     "execution_count": 8,
     "metadata": {},
     "output_type": "execute_result"
    }
   ],
   "source": [
    "coef_all.shape"
   ]
  },
  {
   "cell_type": "markdown",
   "metadata": {},
   "source": [
    "### BNA Model"
   ]
  },
  {
   "cell_type": "code",
   "execution_count": 3,
   "metadata": {},
   "outputs": [],
   "source": [
    "basedir = 'D:/ShareFolder/BNA/Result'\n",
    "fname = 'intra_half_brain_SVC_REST1_144.pickle'\n",
    "res_dict = fetch_model(os.path.join(basedir, fname))"
   ]
  },
  {
   "cell_type": "code",
   "execution_count": 22,
   "metadata": {},
   "outputs": [
    {
     "name": "stdout",
     "output_type": "stream",
     "text": [
      "225\n"
     ]
    }
   ],
   "source": [
    "pca = res_dict['embed'][0]\n",
    "clf = res_dict['clf'][0]\n",
    "coef_ = pca.inverse_transform(clf.coef_)\n",
    "coef_matrix = coef2matrix(coef_, n_roi=123)"
   ]
  },
  {
   "cell_type": "code",
   "execution_count": 23,
   "metadata": {},
   "outputs": [],
   "source": [
    "import pandas as pd\n",
    "import io_\n",
    "\n",
    "roi_list_fpath = 'D:\\ShareFolder\\BNA\\subregion_func_network.xlsx'\n",
    "\n",
    "rois = io_.read_table(roi_list_fpath, sheet_name='Brainnetome')['region']\n",
    "roi_list = list(rois.loc[0::2])\n",
    "roi_names = [sub_roi.replace('_L', '') for sub_roi in roi_list]\n",
    "# roi_nams = [name.split('-')[0] for name in sub_roi_names]"
   ]
  },
  {
   "cell_type": "code",
   "execution_count": 24,
   "metadata": {
    "collapsed": true,
    "jupyter": {
     "outputs_hidden": true
    },
    "scrolled": true
   },
   "outputs": [
    {
     "data": {
      "image/png": "[encoded data removed]",
      "text/plain": [
       "<Figure size 1152x864 with 2 Axes>"
      ]
     },
     "metadata": {
      "needs_background": "light"
     },
     "output_type": "display_data"
    }
   ],
   "source": [
    "plot_tri_coef(coef_matrix, cmap='coolwarm', xlabels=roi_names, ylabels=roi_names, fig_name='BNA_SVC.pdf')"
   ]
  },
  {
   "cell_type": "markdown",
   "metadata": {},
   "source": [
    "### Correlation analysis"
   ]
  },
  {
   "cell_type": "code",
   "execution_count": 19,
   "metadata": {},
   "outputs": [
    {
     "data": {
      "text/plain": [
       "{'acc': [1.0, 1.0, 1.0, 1.0, 1.0, 1.0, 0.9951690821256038, 1.0, 1.0, 1.0],\n",
       " 'auc': [1.0, 1.0, 1.0, 1.0, 1.0, 1.0, 1.0, 1.0, 1.0, 1.0],\n",
       " 'embed': [PCA(n_components=500, random_state=144),\n",
       "  PCA(n_components=500, random_state=144),\n",
       "  PCA(n_components=500, random_state=144),\n",
       "  PCA(n_components=500, random_state=144),\n",
       "  PCA(n_components=500, random_state=144),\n",
       "  PCA(n_components=500, random_state=144),\n",
       "  PCA(n_components=500, random_state=144),\n",
       "  PCA(n_components=500, random_state=144),\n",
       "  PCA(n_components=500, random_state=144),\n",
       "  PCA(n_components=500, random_state=144)],\n",
       " 'clf': [SVC(C=1, kernel='linear'),\n",
       "  SVC(C=1, kernel='linear'),\n",
       "  SVC(C=1, kernel='linear'),\n",
       "  SVC(C=1, kernel='linear'),\n",
       "  SVC(C=1, kernel='linear'),\n",
       "  SVC(C=1, kernel='linear'),\n",
       "  SVC(C=1, kernel='linear'),\n",
       "  SVC(C=1, kernel='linear'),\n",
       "  SVC(C=1, kernel='linear'),\n",
       "  SVC(C=1, kernel='linear')],\n",
       " 'params': [{'PCA': {'n_components': 500},\n",
       "   'clf': {'C': 1, 'kernel': 'linear'}},\n",
       "  {'PCA': {'n_components': 500}, 'clf': {'C': 1, 'kernel': 'linear'}},\n",
       "  {'PCA': {'n_components': 500}, 'clf': {'C': 1, 'kernel': 'linear'}},\n",
       "  {'PCA': {'n_components': 500}, 'clf': {'C': 1, 'kernel': 'linear'}},\n",
       "  {'PCA': {'n_components': 500}, 'clf': {'C': 1, 'kernel': 'linear'}},\n",
       "  {'PCA': {'n_components': 500}, 'clf': {'C': 1, 'kernel': 'linear'}},\n",
       "  {'PCA': {'n_components': 500}, 'clf': {'C': 1, 'kernel': 'linear'}},\n",
       "  {'PCA': {'n_components': 500}, 'clf': {'C': 1, 'kernel': 'linear'}},\n",
       "  {'PCA': {'n_components': 500}, 'clf': {'C': 1, 'kernel': 'linear'}},\n",
       "  {'PCA': {'n_components': 500}, 'clf': {'C': 1, 'kernel': 'linear'}}]}"
      ]
     },
     "execution_count": 19,
     "metadata": {},
     "output_type": "execute_result"
    }
   ],
   "source": [
    "res_dict"
   ]
  },
  {
   "cell_type": "code",
   "execution_count": 20,
   "metadata": {},
   "outputs": [],
   "source": [
    "pca1 = res_dict['embed'][3]\n",
    "clf1 = res_dict['clf'][3]\n",
    "coef1_ = pca1.inverse_transform(clf1.coef_)"
   ]
  },
  {
   "cell_type": "code",
   "execution_count": 21,
   "metadata": {},
   "outputs": [],
   "source": [
    "from scipy.stats import pearsonr\n",
    "\n",
    "corr, _ = pearsonr(coef_.reshape(-1), coef1_.reshape(-1))"
   ]
  },
  {
   "cell_type": "code",
   "execution_count": 22,
   "metadata": {},
   "outputs": [
    {
     "data": {
      "text/plain": [
       "0.8571242875472798"
      ]
     },
     "execution_count": 22,
     "metadata": {},
     "output_type": "execute_result"
    }
   ],
   "source": [
    "corr"
   ]
  },
  {
   "cell_type": "code",
   "execution_count": 35,
   "metadata": {},
   "outputs": [],
   "source": [
    "coef_random0 = np.random.random(coef_.shape)\n",
    "coef_random1 = np.random.random(coef_.shape)\n",
    "\n",
    "corr, _ = pearsonr(coef_random0.reshape(-1), coef_random1.reshape(-1))"
   ]
  },
  {
   "cell_type": "code",
   "execution_count": 5,
   "metadata": {},
   "outputs": [
    {
     "name": "stdout",
     "output_type": "stream",
     "text": [
      "916\n"
     ]
    }
   ],
   "source": [
    "coef_matrix = coef2matrix(coef_)"
   ]
  },
  {
   "cell_type": "code",
   "execution_count": 5,
   "metadata": {},
   "outputs": [],
   "source": [
    "def plot_coef(coef_matrix, xlabels=None, ylabels=None, cmap='gist_heat', fig_name='figure.pdf'):\n",
    "    if xlabels is not None:\n",
    "        plt.xticks(ticks=np.arange(len(xlabels)),labels=xlabels, rotation=90)\n",
    "    if ylabels is not None:\n",
    "        plt.yticks(ticks=np.arange(len(ylabels)),labels=ylabels)    \n",
    "    plt.imshow(coef_matrix, cmap='cool',interpolation=\"nearest\")\n",
    "    plt.savefig(fig_name, bbox_inches='tight')\n",
    "    plt.show()"
   ]
  },
  {
   "cell_type": "code",
   "execution_count": 11,
   "metadata": {},
   "outputs": [],
   "source": [
    "import seaborn as sns\n",
    "\n",
    "def plot_coef(coef_matrix, xlabels=False, ylabels=False, fig_name='figure.pdf'):\n",
    "    \n",
    "    sns.heatmap(data=coef_matrix, xticklabels=xlabels, yticklabels=ylabels)\n",
    "    plt.savefig(fig_name, bbox_inches='tight')\n",
    "    plt.show()"
   ]
  },
  {
   "cell_type": "code",
   "execution_count": 56,
   "metadata": {},
   "outputs": [],
   "source": [
    "import chart_studio.plotly as ply\n",
    "import plotly.graph_objs as go\n",
    "\n",
    "def make_layout(title, plot_size):\n",
    "    axis=dict(showline=False, # hide axis line, grid, ticklabels and  title\n",
    "          zeroline=False,\n",
    "          showgrid=False,\n",
    "          showticklabels=False,\n",
    "          title=''\n",
    "          )\n",
    "\n",
    "    return go.Layout(title=title,\n",
    "                  xaxis=dict(axis),\n",
    "                  yaxis=dict(axis),\n",
    "                  showlegend=False,\n",
    "                  width=plot_size,\n",
    "                  height=plot_size,\n",
    "                  margin=dict(t=25, b=25, l=25, r=25),\n",
    "                  hovermode='closest',\n",
    "                  shapes=[]# to this list one appends below the dicts defining the ribbon,\n",
    "                           #respectively the ideogram shapes\n",
    "                 )"
   ]
  },
  {
   "cell_type": "code",
   "execution_count": null,
   "metadata": {},
   "outputs": [],
   "source": [
    "link = {'source': [], 'target': [], 'value': []}\n",
    "\n",
    "for i in range(192):\n",
    "    for j in range\n",
    "    link['source'].append"
   ]
  },
  {
   "cell_type": "code",
   "execution_count": 14,
   "metadata": {},
   "outputs": [],
   "source": [
    "coef_df = pd.DataFrame(data=coef_matrix, columns=roi_names)\n",
    "coef_df.to_csv('Coef_matrix_sample1.csv', index=False)"
   ]
  },
  {
   "cell_type": "code",
   "execution_count": null,
   "metadata": {},
   "outputs": [],
   "source": [
    "layout=make_layout('Chord diagram', 400)"
   ]
  },
  {
   "cell_type": "code",
   "execution_count": 44,
   "metadata": {},
   "outputs": [
    {
     "name": "stdout",
     "output_type": "stream",
     "text": [
      "0.9655831739961759\n",
      "0.9933078393881453\n",
      "1.0\n",
      "1.0\n",
      "0.9794661190965093\n",
      "0.9856262833675564\n",
      "1.0\n",
      "1.0\n"
     ]
    }
   ],
   "source": [
    "from sklearn.metrics import accuracy_score, roc_auc_score\n",
    "import io_\n",
    "\n",
    "pca = res_dict['embed'][0]\n",
    "clf = res_dict['clf'][0]\n",
    "\n",
    "data_dir = 'D:/ShareFolder/AICHA_VolFC/Proc'\n",
    "sessions = ['REST1', 'REST2']\n",
    "runs = ['RL', 'LR']\n",
    "connection_type = 'intra'\n",
    "atlas = 'AICHA'\n",
    "for session in sessions:\n",
    "    for run_ in runs:\n",
    "        data = io_.load_half_brain(data_dir, atlas, session, run_, connection_type)\n",
    "        x_left = data['Left']\n",
    "        y_pred = clf.predict(pca.transform(x_left))\n",
    "        print(accuracy_score(np.ones(y_pred.shape), y_pred))\n",
    "        \n",
    "        x_right = data['Right']\n",
    "        y_pred = clf.predict(pca.transform(x_right))\n",
    "        print(accuracy_score(-1 * np.ones(y_pred.shape), y_pred))\n",
    "        "
   ]
  },
  {
   "cell_type": "code",
   "execution_count": 10,
   "metadata": {},
   "outputs": [],
   "source": [
    "model_dir = \"/media/shuoz/MyDrive/data/HCP/BNA/Results/Rand_Half\"\n",
    "male_model1 = \"model_REST1_0.pt\"\n",
    "male_model2 = \"model_REST2_0.pt\"\n",
    "female_model1 = \"model_REST1_1.pt\"\n",
    "female_model2 = \"model_REST2_1.pt\""
   ]
  },
  {
   "cell_type": "code",
   "execution_count": 13,
   "metadata": {},
   "outputs": [],
   "source": [
    "weight_1 = get_model_weight(female_model1, model_dir)\n",
    "weight_2 = get_model_weight(female_model2, model_dir)"
   ]
  },
  {
   "cell_type": "code",
   "execution_count": 14,
   "metadata": {},
   "outputs": [
    {
     "data": {
      "text/plain": [
       "(-0.39809138686131806, 2.111313188172552e-283)"
      ]
     },
     "execution_count": 14,
     "metadata": {},
     "output_type": "execute_result"
    }
   ],
   "source": [
    "pearsonr(weight_1[:, 0], weight_2[:, 0])"
   ]
  },
  {
   "cell_type": "code",
   "execution_count": 5,
   "metadata": {},
   "outputs": [],
   "source": [
    "rand_dir = '/media/shuoz/MyDrive/HCP/BNA/Results/Rand_Half'\n",
    "ind_dir = '/media/shuoz/MyDrive/HCP/BNA/Results/IND_Half'\n",
    "sub_dir = '/media/shuoz/MyDrive/HCP/BNA/Results/Sub_Half_Fisherz'\n",
    "fix_dir = '/media/shuoz/MyDrive/HCP/BNA/Results/Fix_OC'"
   ]
  },
  {
   "cell_type": "code",
   "execution_count": 9,
   "metadata": {},
   "outputs": [],
   "source": [
    "sub_dir = '/media/shuoz/MyDrive/data/HCP/BNA/Results/RandSubHalf'"
   ]
  },
  {
   "cell_type": "code",
   "execution_count": 5,
   "metadata": {},
   "outputs": [],
   "source": [
    "sub_dir = '/media/shuoz/MyDrive/data/HCP/BNA/Analysis/Models'"
   ]
  },
  {
   "cell_type": "code",
   "execution_count": null,
   "metadata": {},
   "outputs": [],
   "source": []
  },
  {
   "cell_type": "code",
   "execution_count": 18,
   "metadata": {},
   "outputs": [],
   "source": [
    "splits = 5\n",
    "halfs = [0, 1]\n",
    "genders = [0, 1]\n",
    "half = 0\n",
    "gender = 0\n",
    "lambda_ = 2.0\n",
    "\n",
    "weight = []\n",
    "gender_labels = []\n",
    "for gender in genders:\n",
    "    for session_i in ['REST1', 'REST2']:\n",
    "        for half_i in halfs:\n",
    "            for i in range(splits):\n",
    "                model_file = 'lambda_%s_%s_%s_%s_gender_%s.pt' % (lambda_, session_i, i, half_i, gender)\n",
    "\n",
    "                if os.path.exists(os.path.join(sub_dir, model_file)):\n",
    "                    w_ =  get_model_weight(model_file, sub_dir)[:, 0].reshape(1, -1)\n",
    "                    weight.append(w_)\n",
    "                    gender_labels.append(gender)\n",
    "                \n",
    "# for model_file in np.asarray(file_names)[sort_idx]:\n",
    "#     print(model_file)\n",
    "#     w_ = get_model_weight(model_file, sub_dir)[:, 0].reshape(1, -1)\n",
    "#     weight.append(w_)\n",
    "\n",
    "weight = np.concatenate(weight)\n",
    "w_mean = np.mean(weight, axis=0)"
   ]
  },
  {
   "cell_type": "code",
   "execution_count": 20,
   "metadata": {},
   "outputs": [
    {
     "data": {
      "text/plain": [
       "[0, 0, 0, 0, 0, 0, 0, 0, 0, 0, 0, 1, 1, 1, 1, 1, 1, 1, 1, 1, 1]"
      ]
     },
     "execution_count": 20,
     "metadata": {},
     "output_type": "execute_result"
    }
   ],
   "source": [
    "gender_labels"
   ]
  },
  {
   "cell_type": "code",
   "execution_count": 14,
   "metadata": {},
   "outputs": [],
   "source": [
    "from sklearn.feature_selection import f_classif, SelectKBest"
   ]
  },
  {
   "cell_type": "code",
   "execution_count": 21,
   "metadata": {},
   "outputs": [
    {
     "data": {
      "text/plain": [
       "21"
      ]
     },
     "execution_count": 21,
     "metadata": {},
     "output_type": "execute_result"
    }
   ],
   "source": [
    "len(gender_labels)"
   ]
  },
  {
   "cell_type": "code",
   "execution_count": 144,
   "metadata": {},
   "outputs": [
    {
     "data": {
      "text/plain": [
       "array([ 0.00264719, -0.00189924, -0.00190468, -0.00208452,  0.00154795,\n",
       "       -0.00165208,  0.00282769,  0.00260985,  0.00290966, -0.00251524,\n",
       "        0.00252943, -0.00188403, -0.00164057, -0.00172692,  0.00163356,\n",
       "       -0.00099336,  0.00154631,  0.00228713,  0.00202518, -0.00182058],\n",
       "      dtype=float32)"
      ]
     },
     "execution_count": 144,
     "metadata": {},
     "output_type": "execute_result"
    }
   ],
   "source": [
    "np.mean(weight[:20, :], axis=1)"
   ]
  },
  {
   "cell_type": "code",
   "execution_count": 116,
   "metadata": {},
   "outputs": [],
   "source": [
    "kbest = SelectKBest(f_classif, k=100)\n",
    "weight_new = kbest.fit_transform(weight, gender_labels)"
   ]
  },
  {
   "cell_type": "code",
   "execution_count": 117,
   "metadata": {},
   "outputs": [
    {
     "data": {
      "text/plain": [
       "(7503,)"
      ]
     },
     "execution_count": 117,
     "metadata": {},
     "output_type": "execute_result"
    }
   ],
   "source": [
    "kbest.scores_.shape"
   ]
  },
  {
   "cell_type": "code",
   "execution_count": 37,
   "metadata": {},
   "outputs": [
    {
     "data": {
      "text/plain": [
       "(40, 100)"
      ]
     },
     "execution_count": 37,
     "metadata": {},
     "output_type": "execute_result"
    }
   ],
   "source": [
    "weight_new.shape"
   ]
  },
  {
   "cell_type": "code",
   "execution_count": 26,
   "metadata": {},
   "outputs": [],
   "source": [
    "corr_mat = np.ones((21, 21))\n",
    "for i in range(21):\n",
    "    w_i = weight[i, :]\n",
    "    for j in range(21):\n",
    "        w_j = weight[j, :]\n",
    "        corr, _ = pearsonr(w_i, w_j)\n",
    "        corr_mat[i, j] = corr"
   ]
  },
  {
   "cell_type": "code",
   "execution_count": 27,
   "metadata": {},
   "outputs": [
    {
     "data": {
      "image/png": "[encoded data removed]",
      "text/plain": [
       "<Figure size 1080x864 with 2 Axes>"
      ]
     },
     "metadata": {
      "needs_background": "light"
     },
     "output_type": "display_data"
    }
   ],
   "source": [
    "# corr_mat\n",
    "fig, ax = plt.subplots(figsize=(15,12)) \n",
    "ax = sns.heatmap(corr_mat, vmin=-1, vmax=1, annot=True, cmap='RdBu')"
   ]
  },
  {
   "cell_type": "code",
   "execution_count": 118,
   "metadata": {},
   "outputs": [
    {
     "data": {
      "text/plain": [
       "array([0.83567231, 1.        , 0.49312196, 0.68010485, 0.4766694 ,\n",
       "       0.6788363 , 0.48519074, 0.65105282, 0.6513696 , 0.88002625,\n",
       "       0.63604248, 0.76218083, 0.77285425, 0.90464436, 0.75608278,\n",
       "       0.89792149, 0.75106862, 0.91354182, 0.46392585, 0.64774489,\n",
       "       0.79085115, 0.91590433, 0.46572479, 0.68100026, 0.43433689,\n",
       "       0.68068028, 0.45582889, 0.6256709 , 0.66556759, 0.83696799,\n",
       "       0.56941086, 0.72703516, 0.76858715, 0.88047161, 0.73615614,\n",
       "       0.8579964 , 0.74607476, 0.86238902, 0.39558216, 0.83486389])"
      ]
     },
     "execution_count": 118,
     "metadata": {},
     "output_type": "execute_result"
    }
   ],
   "source": [
    "corr_mat[1, :]"
   ]
  },
  {
   "cell_type": "code",
   "execution_count": null,
   "metadata": {},
   "outputs": [],
   "source": []
  },
  {
   "cell_type": "code",
   "execution_count": 15,
   "metadata": {},
   "outputs": [
    {
     "name": "stdout",
     "output_type": "stream",
     "text": [
      "lambda_0.0_REST1_0_0_gender_0.pt\n",
      "lambda_0.0_REST1_1_0_gender_0.pt\n",
      "0.9528667365230732\n",
      "lambda_0.0_REST1_0_0_gender_0.pt\n",
      "lambda_0.0_REST1_2_0_gender_0.pt\n",
      "0.95415639974497\n",
      "lambda_0.0_REST1_0_0_gender_0.pt\n",
      "lambda_0.0_REST1_3_0_gender_0.pt\n",
      "0.9640453256315371\n",
      "lambda_0.0_REST1_0_0_gender_0.pt\n",
      "lambda_0.0_REST1_4_0_gender_0.pt\n",
      "0.9534257737722107\n",
      "lambda_0.0_REST1_0_0_gender_0.pt\n",
      "lambda_0.0_REST1_0_1_gender_0.pt\n",
      "0.9110855544109001\n",
      "lambda_0.0_REST1_0_0_gender_0.pt\n",
      "lambda_0.0_REST1_1_1_gender_0.pt\n",
      "0.9586346851228522\n",
      "lambda_0.0_REST1_0_0_gender_0.pt\n",
      "lambda_0.0_REST1_2_1_gender_0.pt\n",
      "0.9551144442211315\n",
      "lambda_0.0_REST1_0_0_gender_0.pt\n",
      "lambda_0.0_REST1_3_1_gender_0.pt\n",
      "0.948476856580926\n",
      "lambda_0.0_REST1_0_0_gender_0.pt\n",
      "lambda_0.0_REST1_4_1_gender_0.pt\n",
      "0.9549167234714562\n",
      "lambda_0.0_REST1_0_0_gender_0.pt\n",
      "lambda_0.0_REST2_0_0_gender_0.pt\n",
      "0.9353349662813272\n",
      "lambda_0.0_REST1_0_0_gender_0.pt\n",
      "lambda_0.0_REST2_1_0_gender_0.pt\n",
      "0.9276238171838789\n",
      "lambda_0.0_REST1_0_0_gender_0.pt\n",
      "lambda_0.0_REST2_2_0_gender_0.pt\n",
      "0.9310549337669141\n",
      "lambda_0.0_REST1_0_0_gender_0.pt\n",
      "lambda_0.0_REST2_3_0_gender_0.pt\n",
      "0.9261165470764798\n",
      "lambda_0.0_REST1_0_0_gender_0.pt\n",
      "lambda_0.0_REST2_4_0_gender_0.pt\n",
      "0.9330178449710431\n",
      "lambda_0.0_REST1_0_0_gender_0.pt\n",
      "lambda_0.0_REST2_0_1_gender_0.pt\n",
      "0.9350365521898919\n",
      "lambda_0.0_REST1_0_0_gender_0.pt\n",
      "lambda_0.0_REST2_1_1_gender_0.pt\n",
      "0.9406393634403591\n",
      "lambda_0.0_REST1_0_0_gender_0.pt\n",
      "lambda_0.0_REST2_2_1_gender_0.pt\n",
      "0.9379788560783443\n",
      "lambda_0.0_REST1_0_0_gender_0.pt\n",
      "lambda_0.0_REST2_3_1_gender_0.pt\n",
      "0.9417943335172431\n",
      "lambda_0.0_REST1_0_0_gender_0.pt\n",
      "lambda_0.0_REST2_4_1_gender_0.pt\n",
      "0.9344678554655111\n",
      "lambda_0.0_REST1_1_0_gender_0.pt\n",
      "lambda_0.0_REST1_0_0_gender_0.pt\n",
      "0.9528667365230732\n",
      "lambda_0.0_REST1_1_0_gender_0.pt\n",
      "lambda_0.0_REST1_2_0_gender_0.pt\n",
      "0.9511990339170605\n",
      "lambda_0.0_REST1_1_0_gender_0.pt\n",
      "lambda_0.0_REST1_3_0_gender_0.pt\n",
      "0.960588145731947\n",
      "lambda_0.0_REST1_1_0_gender_0.pt\n",
      "lambda_0.0_REST1_4_0_gender_0.pt\n",
      "0.9540291947717598\n",
      "lambda_0.0_REST1_1_0_gender_0.pt\n",
      "lambda_0.0_REST1_0_1_gender_0.pt\n",
      "0.9600666367491736\n",
      "lambda_0.0_REST1_1_0_gender_0.pt\n",
      "lambda_0.0_REST1_1_1_gender_0.pt\n",
      "0.9154406204388874\n",
      "lambda_0.0_REST1_1_0_gender_0.pt\n",
      "lambda_0.0_REST1_2_1_gender_0.pt\n",
      "0.9614921773351017\n",
      "lambda_0.0_REST1_1_0_gender_0.pt\n",
      "lambda_0.0_REST1_3_1_gender_0.pt\n",
      "0.9569431310337414\n",
      "lambda_0.0_REST1_1_0_gender_0.pt\n",
      "lambda_0.0_REST1_4_1_gender_0.pt\n",
      "0.9571061651929739\n",
      "lambda_0.0_REST1_1_0_gender_0.pt\n",
      "lambda_0.0_REST2_0_0_gender_0.pt\n",
      "0.9286255806612228\n",
      "lambda_0.0_REST1_1_0_gender_0.pt\n",
      "lambda_0.0_REST2_1_0_gender_0.pt\n",
      "0.9399475495358193\n",
      "lambda_0.0_REST1_1_0_gender_0.pt\n",
      "lambda_0.0_REST2_2_0_gender_0.pt\n",
      "0.937689667707789\n",
      "lambda_0.0_REST1_1_0_gender_0.pt\n",
      "lambda_0.0_REST2_3_0_gender_0.pt\n",
      "0.9315602522129124\n",
      "lambda_0.0_REST1_1_0_gender_0.pt\n",
      "lambda_0.0_REST2_4_0_gender_0.pt\n",
      "0.9347733068692161\n",
      "lambda_0.0_REST1_1_0_gender_0.pt\n",
      "lambda_0.0_REST2_0_1_gender_0.pt\n",
      "0.9423202339240873\n",
      "lambda_0.0_REST1_1_0_gender_0.pt\n",
      "lambda_0.0_REST2_1_1_gender_0.pt\n",
      "0.9277652716524003\n",
      "lambda_0.0_REST1_1_0_gender_0.pt\n",
      "lambda_0.0_REST2_2_1_gender_0.pt\n",
      "0.9333364089151547\n",
      "lambda_0.0_REST1_1_0_gender_0.pt\n",
      "lambda_0.0_REST2_3_1_gender_0.pt\n",
      "0.9379481353833794\n",
      "lambda_0.0_REST1_1_0_gender_0.pt\n",
      "lambda_0.0_REST2_4_1_gender_0.pt\n",
      "0.9356936448056815\n",
      "lambda_0.0_REST1_2_0_gender_0.pt\n",
      "lambda_0.0_REST1_0_0_gender_0.pt\n",
      "0.95415639974497\n",
      "lambda_0.0_REST1_2_0_gender_0.pt\n",
      "lambda_0.0_REST1_1_0_gender_0.pt\n",
      "0.9511990339170605\n",
      "lambda_0.0_REST1_2_0_gender_0.pt\n",
      "lambda_0.0_REST1_3_0_gender_0.pt\n",
      "0.9531453648814375\n",
      "lambda_0.0_REST1_2_0_gender_0.pt\n",
      "lambda_0.0_REST1_4_0_gender_0.pt\n",
      "0.9545991020613254\n",
      "lambda_0.0_REST1_2_0_gender_0.pt\n",
      "lambda_0.0_REST1_0_1_gender_0.pt\n",
      "0.95438949818308\n",
      "lambda_0.0_REST1_2_0_gender_0.pt\n",
      "lambda_0.0_REST1_1_1_gender_0.pt\n",
      "0.9603585307849916\n",
      "lambda_0.0_REST1_2_0_gender_0.pt\n",
      "lambda_0.0_REST1_2_1_gender_0.pt\n",
      "0.9120977663120801\n",
      "lambda_0.0_REST1_2_0_gender_0.pt\n",
      "lambda_0.0_REST1_3_1_gender_0.pt\n",
      "0.9593461541427465\n",
      "lambda_0.0_REST1_2_0_gender_0.pt\n",
      "lambda_0.0_REST1_4_1_gender_0.pt\n",
      "0.9539468192238698\n",
      "lambda_0.0_REST1_2_0_gender_0.pt\n",
      "lambda_0.0_REST2_0_0_gender_0.pt\n",
      "0.9325810130125805\n",
      "lambda_0.0_REST1_2_0_gender_0.pt\n",
      "lambda_0.0_REST2_1_0_gender_0.pt\n",
      "0.9345008117774899\n",
      "lambda_0.0_REST1_2_0_gender_0.pt\n",
      "lambda_0.0_REST2_2_0_gender_0.pt\n",
      "0.9347744227071468\n",
      "lambda_0.0_REST1_2_0_gender_0.pt\n",
      "lambda_0.0_REST2_3_0_gender_0.pt\n",
      "0.9262391370632266\n",
      "lambda_0.0_REST1_2_0_gender_0.pt\n",
      "lambda_0.0_REST2_4_0_gender_0.pt\n",
      "0.9321951807111812\n",
      "lambda_0.0_REST1_2_0_gender_0.pt\n",
      "lambda_0.0_REST2_0_1_gender_0.pt\n",
      "0.9404004280114859\n",
      "lambda_0.0_REST1_2_0_gender_0.pt\n",
      "lambda_0.0_REST2_1_1_gender_0.pt\n",
      "0.9371378768064457\n",
      "lambda_0.0_REST1_2_0_gender_0.pt\n",
      "lambda_0.0_REST2_2_1_gender_0.pt\n",
      "0.9388675972772649\n",
      "lambda_0.0_REST1_2_0_gender_0.pt\n",
      "lambda_0.0_REST2_3_1_gender_0.pt\n",
      "0.9447162279501029\n",
      "lambda_0.0_REST1_2_0_gender_0.pt\n",
      "lambda_0.0_REST2_4_1_gender_0.pt\n",
      "0.9388954889976897\n",
      "lambda_0.0_REST1_3_0_gender_0.pt\n",
      "lambda_0.0_REST1_0_0_gender_0.pt\n",
      "0.9640453256315371\n",
      "lambda_0.0_REST1_3_0_gender_0.pt\n",
      "lambda_0.0_REST1_1_0_gender_0.pt\n",
      "0.960588145731947\n",
      "lambda_0.0_REST1_3_0_gender_0.pt\n",
      "lambda_0.0_REST1_2_0_gender_0.pt\n",
      "0.9531453648814375\n",
      "lambda_0.0_REST1_3_0_gender_0.pt\n",
      "lambda_0.0_REST1_4_0_gender_0.pt\n",
      "0.9579018670455854\n",
      "lambda_0.0_REST1_3_0_gender_0.pt\n",
      "lambda_0.0_REST1_0_1_gender_0.pt\n",
      "0.9487577889937218\n",
      "lambda_0.0_REST1_3_0_gender_0.pt\n",
      "lambda_0.0_REST1_1_1_gender_0.pt\n",
      "0.9534222384570363\n",
      "lambda_0.0_REST1_3_0_gender_0.pt\n",
      "lambda_0.0_REST1_2_1_gender_0.pt\n",
      "0.9587455064740267\n",
      "lambda_0.0_REST1_3_0_gender_0.pt\n",
      "lambda_0.0_REST1_3_1_gender_0.pt\n",
      "0.9184577934420067\n",
      "lambda_0.0_REST1_3_0_gender_0.pt\n",
      "lambda_0.0_REST1_4_1_gender_0.pt\n",
      "0.9518808974037912\n",
      "lambda_0.0_REST1_3_0_gender_0.pt\n",
      "lambda_0.0_REST2_0_0_gender_0.pt\n",
      "0.928816239004032\n",
      "lambda_0.0_REST1_3_0_gender_0.pt\n",
      "lambda_0.0_REST2_1_0_gender_0.pt\n",
      "0.9330740129057434\n",
      "lambda_0.0_REST1_3_0_gender_0.pt\n",
      "lambda_0.0_REST2_2_0_gender_0.pt\n",
      "0.9380587780503524\n",
      "lambda_0.0_REST1_3_0_gender_0.pt\n",
      "lambda_0.0_REST2_3_0_gender_0.pt\n",
      "0.9292633509429089\n",
      "lambda_0.0_REST1_3_0_gender_0.pt\n",
      "lambda_0.0_REST2_4_0_gender_0.pt\n",
      "0.9373271732840502\n",
      "lambda_0.0_REST1_3_0_gender_0.pt\n",
      "lambda_0.0_REST2_0_1_gender_0.pt\n",
      "0.94481389550421\n",
      "lambda_0.0_REST1_3_0_gender_0.pt\n",
      "lambda_0.0_REST2_1_1_gender_0.pt\n",
      "0.9379922083662712\n",
      "lambda_0.0_REST1_3_0_gender_0.pt\n",
      "lambda_0.0_REST2_2_1_gender_0.pt\n",
      "0.9345709254390013\n",
      "lambda_0.0_REST1_3_0_gender_0.pt\n",
      "lambda_0.0_REST2_3_1_gender_0.pt\n",
      "0.9420322865680492\n",
      "lambda_0.0_REST1_3_0_gender_0.pt\n",
      "lambda_0.0_REST2_4_1_gender_0.pt\n",
      "0.9344246755328594\n",
      "lambda_0.0_REST1_4_0_gender_0.pt\n",
      "lambda_0.0_REST1_0_0_gender_0.pt\n",
      "0.9534257737722107\n",
      "lambda_0.0_REST1_4_0_gender_0.pt\n",
      "lambda_0.0_REST1_1_0_gender_0.pt\n",
      "0.9540291947717598\n",
      "lambda_0.0_REST1_4_0_gender_0.pt\n",
      "lambda_0.0_REST1_2_0_gender_0.pt\n",
      "0.9545991020613254\n",
      "lambda_0.0_REST1_4_0_gender_0.pt\n",
      "lambda_0.0_REST1_3_0_gender_0.pt\n",
      "0.9579018670455854\n",
      "lambda_0.0_REST1_4_0_gender_0.pt\n",
      "lambda_0.0_REST1_0_1_gender_0.pt\n",
      "0.9561667599492536\n",
      "lambda_0.0_REST1_4_0_gender_0.pt\n",
      "lambda_0.0_REST1_1_1_gender_0.pt\n",
      "0.957395125886071\n",
      "lambda_0.0_REST1_4_0_gender_0.pt\n",
      "lambda_0.0_REST1_2_1_gender_0.pt\n",
      "0.9551566152268212\n",
      "lambda_0.0_REST1_4_0_gender_0.pt\n",
      "lambda_0.0_REST1_3_1_gender_0.pt\n",
      "0.9557115900982345\n",
      "lambda_0.0_REST1_4_0_gender_0.pt\n",
      "lambda_0.0_REST1_4_1_gender_0.pt\n",
      "0.9075966112952616\n",
      "lambda_0.0_REST1_4_0_gender_0.pt\n",
      "lambda_0.0_REST2_0_0_gender_0.pt\n",
      "0.9305948321428471\n",
      "lambda_0.0_REST1_4_0_gender_0.pt\n",
      "lambda_0.0_REST2_1_0_gender_0.pt\n",
      "0.9348234520254806\n",
      "lambda_0.0_REST1_4_0_gender_0.pt\n",
      "lambda_0.0_REST2_2_0_gender_0.pt\n",
      "0.9368912412615261\n",
      "lambda_0.0_REST1_4_0_gender_0.pt\n",
      "lambda_0.0_REST2_3_0_gender_0.pt\n",
      "0.9301351397852282\n",
      "lambda_0.0_REST1_4_0_gender_0.pt\n",
      "lambda_0.0_REST2_4_0_gender_0.pt\n",
      "0.9320239690220367\n",
      "lambda_0.0_REST1_4_0_gender_0.pt\n",
      "lambda_0.0_REST2_0_1_gender_0.pt\n",
      "0.9366017370376085\n",
      "lambda_0.0_REST1_4_0_gender_0.pt\n",
      "lambda_0.0_REST2_1_1_gender_0.pt\n",
      "0.929956818970319\n",
      "lambda_0.0_REST1_4_0_gender_0.pt\n",
      "lambda_0.0_REST2_2_1_gender_0.pt\n",
      "0.9298872505102007\n",
      "lambda_0.0_REST1_4_0_gender_0.pt\n",
      "lambda_0.0_REST2_3_1_gender_0.pt\n",
      "0.9353661372237311\n",
      "lambda_0.0_REST1_4_0_gender_0.pt\n",
      "lambda_0.0_REST2_4_1_gender_0.pt\n",
      "0.9337506109008453\n",
      "lambda_0.0_REST1_0_1_gender_0.pt\n",
      "lambda_0.0_REST1_0_0_gender_0.pt\n",
      "0.9110855544109001\n",
      "lambda_0.0_REST1_0_1_gender_0.pt\n",
      "lambda_0.0_REST1_1_0_gender_0.pt\n",
      "0.9600666367491736\n",
      "lambda_0.0_REST1_0_1_gender_0.pt\n",
      "lambda_0.0_REST1_2_0_gender_0.pt\n",
      "0.95438949818308\n",
      "lambda_0.0_REST1_0_1_gender_0.pt\n",
      "lambda_0.0_REST1_3_0_gender_0.pt\n",
      "0.9487577889937218\n",
      "lambda_0.0_REST1_0_1_gender_0.pt\n",
      "lambda_0.0_REST1_4_0_gender_0.pt\n",
      "0.9561667599492536\n",
      "lambda_0.0_REST1_0_1_gender_0.pt\n",
      "lambda_0.0_REST1_1_1_gender_0.pt\n",
      "0.9530061099813509\n",
      "lambda_0.0_REST1_0_1_gender_0.pt\n",
      "lambda_0.0_REST1_2_1_gender_0.pt\n",
      "0.9567000013531419\n",
      "lambda_0.0_REST1_0_1_gender_0.pt\n",
      "lambda_0.0_REST1_3_1_gender_0.pt\n",
      "0.966631203156253\n",
      "lambda_0.0_REST1_0_1_gender_0.pt\n",
      "lambda_0.0_REST1_4_1_gender_0.pt\n",
      "0.9519183018551391\n",
      "lambda_0.0_REST1_0_1_gender_0.pt\n",
      "lambda_0.0_REST2_0_0_gender_0.pt\n",
      "0.9263286947705807\n",
      "lambda_0.0_REST1_0_1_gender_0.pt\n",
      "lambda_0.0_REST2_1_0_gender_0.pt\n",
      "0.93941055219661\n",
      "lambda_0.0_REST1_0_1_gender_0.pt\n",
      "lambda_0.0_REST2_2_0_gender_0.pt\n",
      "0.9413251665453868\n",
      "lambda_0.0_REST1_0_1_gender_0.pt\n",
      "lambda_0.0_REST2_3_0_gender_0.pt\n",
      "0.9372282891274867\n",
      "lambda_0.0_REST1_0_1_gender_0.pt\n",
      "lambda_0.0_REST2_4_0_gender_0.pt\n",
      "0.9352350760103537\n",
      "lambda_0.0_REST1_0_1_gender_0.pt\n",
      "lambda_0.0_REST2_0_1_gender_0.pt\n",
      "0.945063974649122\n",
      "lambda_0.0_REST1_0_1_gender_0.pt\n",
      "lambda_0.0_REST2_1_1_gender_0.pt\n",
      "0.9301396696141913\n",
      "lambda_0.0_REST1_0_1_gender_0.pt\n",
      "lambda_0.0_REST2_2_1_gender_0.pt\n",
      "0.9311863738977841\n",
      "lambda_0.0_REST1_0_1_gender_0.pt\n",
      "lambda_0.0_REST2_3_1_gender_0.pt\n",
      "0.9334983591586681\n",
      "lambda_0.0_REST1_0_1_gender_0.pt\n",
      "lambda_0.0_REST2_4_1_gender_0.pt\n",
      "0.9351885687322758\n",
      "lambda_0.0_REST1_1_1_gender_0.pt\n",
      "lambda_0.0_REST1_0_0_gender_0.pt\n",
      "0.9586346851228522\n",
      "lambda_0.0_REST1_1_1_gender_0.pt\n",
      "lambda_0.0_REST1_1_0_gender_0.pt\n",
      "0.9154406204388874\n",
      "lambda_0.0_REST1_1_1_gender_0.pt\n",
      "lambda_0.0_REST1_2_0_gender_0.pt\n",
      "0.9603585307849916\n",
      "lambda_0.0_REST1_1_1_gender_0.pt\n",
      "lambda_0.0_REST1_3_0_gender_0.pt\n",
      "0.9534222384570363\n",
      "lambda_0.0_REST1_1_1_gender_0.pt\n",
      "lambda_0.0_REST1_4_0_gender_0.pt\n",
      "0.957395125886071\n",
      "lambda_0.0_REST1_1_1_gender_0.pt\n",
      "lambda_0.0_REST1_0_1_gender_0.pt\n",
      "0.9530061099813509\n",
      "lambda_0.0_REST1_1_1_gender_0.pt\n",
      "lambda_0.0_REST1_2_1_gender_0.pt\n",
      "0.951862338719601\n",
      "lambda_0.0_REST1_1_1_gender_0.pt\n",
      "lambda_0.0_REST1_3_1_gender_0.pt\n",
      "0.9610701393831403\n",
      "lambda_0.0_REST1_1_1_gender_0.pt\n",
      "lambda_0.0_REST1_4_1_gender_0.pt\n",
      "0.9523539959286411\n",
      "lambda_0.0_REST1_1_1_gender_0.pt\n",
      "lambda_0.0_REST2_0_0_gender_0.pt\n",
      "0.9333492274542485\n",
      "lambda_0.0_REST1_1_1_gender_0.pt\n",
      "lambda_0.0_REST2_1_0_gender_0.pt\n",
      "0.9275285905504591\n",
      "lambda_0.0_REST1_1_1_gender_0.pt\n",
      "lambda_0.0_REST2_2_0_gender_0.pt\n",
      "0.9344150565216269\n",
      "lambda_0.0_REST1_1_1_gender_0.pt\n",
      "lambda_0.0_REST2_3_0_gender_0.pt\n",
      "0.9313451378157354\n",
      "lambda_0.0_REST1_1_1_gender_0.pt\n",
      "lambda_0.0_REST2_4_0_gender_0.pt\n",
      "0.9335980303667393\n",
      "lambda_0.0_REST1_1_1_gender_0.pt\n",
      "lambda_0.0_REST2_0_1_gender_0.pt\n",
      "0.9391705686186367\n",
      "lambda_0.0_REST1_1_1_gender_0.pt\n",
      "lambda_0.0_REST2_1_1_gender_0.pt\n",
      "0.9442922225841393\n",
      "lambda_0.0_REST1_1_1_gender_0.pt\n",
      "lambda_0.0_REST2_2_1_gender_0.pt\n",
      "0.9376297552942773\n",
      "lambda_0.0_REST1_1_1_gender_0.pt\n",
      "lambda_0.0_REST2_3_1_gender_0.pt\n",
      "0.9394474415277957\n",
      "lambda_0.0_REST1_1_1_gender_0.pt\n",
      "lambda_0.0_REST2_4_1_gender_0.pt\n",
      "0.9356490878458874\n",
      "lambda_0.0_REST1_2_1_gender_0.pt\n",
      "lambda_0.0_REST1_0_0_gender_0.pt\n",
      "0.9551144442211315\n",
      "lambda_0.0_REST1_2_1_gender_0.pt\n",
      "lambda_0.0_REST1_1_0_gender_0.pt\n",
      "0.9614921773351017\n",
      "lambda_0.0_REST1_2_1_gender_0.pt\n",
      "lambda_0.0_REST1_2_0_gender_0.pt\n",
      "0.9120977663120801\n",
      "lambda_0.0_REST1_2_1_gender_0.pt\n",
      "lambda_0.0_REST1_3_0_gender_0.pt\n",
      "0.9587455064740267\n",
      "lambda_0.0_REST1_2_1_gender_0.pt\n",
      "lambda_0.0_REST1_4_0_gender_0.pt\n",
      "0.9551566152268212\n",
      "lambda_0.0_REST1_2_1_gender_0.pt\n",
      "lambda_0.0_REST1_0_1_gender_0.pt\n",
      "0.9567000013531419\n",
      "lambda_0.0_REST1_2_1_gender_0.pt\n",
      "lambda_0.0_REST1_1_1_gender_0.pt\n",
      "0.951862338719601\n",
      "lambda_0.0_REST1_2_1_gender_0.pt\n",
      "lambda_0.0_REST1_3_1_gender_0.pt\n",
      "0.9566436819890045\n",
      "lambda_0.0_REST1_2_1_gender_0.pt\n",
      "lambda_0.0_REST1_4_1_gender_0.pt\n",
      "0.9527568282609824\n",
      "lambda_0.0_REST1_2_1_gender_0.pt\n",
      "lambda_0.0_REST2_0_0_gender_0.pt\n",
      "0.9274365181954597\n",
      "lambda_0.0_REST1_2_1_gender_0.pt\n",
      "lambda_0.0_REST2_1_0_gender_0.pt\n",
      "0.9319105781887469\n",
      "lambda_0.0_REST1_2_1_gender_0.pt\n",
      "lambda_0.0_REST2_2_0_gender_0.pt\n",
      "0.9368613234123108\n",
      "lambda_0.0_REST1_2_1_gender_0.pt\n",
      "lambda_0.0_REST2_3_0_gender_0.pt\n",
      "0.936829229605447\n",
      "lambda_0.0_REST1_2_1_gender_0.pt\n",
      "lambda_0.0_REST2_4_0_gender_0.pt\n",
      "0.9350043594650999\n",
      "lambda_0.0_REST1_2_1_gender_0.pt\n",
      "lambda_0.0_REST2_0_1_gender_0.pt\n",
      "0.9416260669984963\n",
      "lambda_0.0_REST1_2_1_gender_0.pt\n",
      "lambda_0.0_REST2_1_1_gender_0.pt\n",
      "0.9342530889108218\n",
      "lambda_0.0_REST1_2_1_gender_0.pt\n",
      "lambda_0.0_REST2_2_1_gender_0.pt\n",
      "0.9309841276312641\n",
      "lambda_0.0_REST1_2_1_gender_0.pt\n",
      "lambda_0.0_REST2_3_1_gender_0.pt\n",
      "0.9309156239848982\n",
      "lambda_0.0_REST1_2_1_gender_0.pt\n",
      "lambda_0.0_REST2_4_1_gender_0.pt\n",
      "0.9320148352418619\n",
      "lambda_0.0_REST1_3_1_gender_0.pt\n",
      "lambda_0.0_REST1_0_0_gender_0.pt\n",
      "0.948476856580926\n",
      "lambda_0.0_REST1_3_1_gender_0.pt\n",
      "lambda_0.0_REST1_1_0_gender_0.pt\n",
      "0.9569431310337414\n",
      "lambda_0.0_REST1_3_1_gender_0.pt\n",
      "lambda_0.0_REST1_2_0_gender_0.pt\n",
      "0.9593461541427465\n",
      "lambda_0.0_REST1_3_1_gender_0.pt\n",
      "lambda_0.0_REST1_3_0_gender_0.pt\n",
      "0.9184577934420067\n",
      "lambda_0.0_REST1_3_1_gender_0.pt\n",
      "lambda_0.0_REST1_4_0_gender_0.pt\n",
      "0.9557115900982345\n",
      "lambda_0.0_REST1_3_1_gender_0.pt\n",
      "lambda_0.0_REST1_0_1_gender_0.pt\n",
      "0.966631203156253\n",
      "lambda_0.0_REST1_3_1_gender_0.pt\n",
      "lambda_0.0_REST1_1_1_gender_0.pt\n",
      "0.9610701393831403\n",
      "lambda_0.0_REST1_3_1_gender_0.pt\n",
      "lambda_0.0_REST1_2_1_gender_0.pt\n",
      "0.9566436819890045\n",
      "lambda_0.0_REST1_3_1_gender_0.pt\n",
      "lambda_0.0_REST1_4_1_gender_0.pt\n",
      "0.9581166831803501\n",
      "lambda_0.0_REST1_3_1_gender_0.pt\n",
      "lambda_0.0_REST2_0_0_gender_0.pt\n",
      "0.9361813785305931\n",
      "lambda_0.0_REST1_3_1_gender_0.pt\n",
      "lambda_0.0_REST2_1_0_gender_0.pt\n",
      "0.9371138533938429\n",
      "lambda_0.0_REST1_3_1_gender_0.pt\n",
      "lambda_0.0_REST2_2_0_gender_0.pt\n",
      "0.9387698310670275\n",
      "lambda_0.0_REST1_3_1_gender_0.pt\n",
      "lambda_0.0_REST2_3_0_gender_0.pt\n",
      "0.9375068564049026\n",
      "lambda_0.0_REST1_3_1_gender_0.pt\n",
      "lambda_0.0_REST2_4_0_gender_0.pt\n",
      "0.934437544174921\n",
      "lambda_0.0_REST1_3_1_gender_0.pt\n",
      "lambda_0.0_REST2_0_1_gender_0.pt\n",
      "0.9394299153445176\n",
      "lambda_0.0_REST1_3_1_gender_0.pt\n",
      "lambda_0.0_REST2_1_1_gender_0.pt\n",
      "0.9369791915748238\n",
      "lambda_0.0_REST1_3_1_gender_0.pt\n",
      "lambda_0.0_REST2_2_1_gender_0.pt\n",
      "0.9375845119287496\n",
      "lambda_0.0_REST1_3_1_gender_0.pt\n",
      "lambda_0.0_REST2_3_1_gender_0.pt\n",
      "0.937194465870116\n",
      "lambda_0.0_REST1_3_1_gender_0.pt\n",
      "lambda_0.0_REST2_4_1_gender_0.pt\n",
      "0.9394597248083449\n",
      "lambda_0.0_REST1_4_1_gender_0.pt\n",
      "lambda_0.0_REST1_0_0_gender_0.pt\n",
      "0.9549167234714562\n",
      "lambda_0.0_REST1_4_1_gender_0.pt\n",
      "lambda_0.0_REST1_1_0_gender_0.pt\n",
      "0.9571061651929739\n",
      "lambda_0.0_REST1_4_1_gender_0.pt\n",
      "lambda_0.0_REST1_2_0_gender_0.pt\n",
      "0.9539468192238698\n",
      "lambda_0.0_REST1_4_1_gender_0.pt\n",
      "lambda_0.0_REST1_3_0_gender_0.pt\n",
      "0.9518808974037912\n",
      "lambda_0.0_REST1_4_1_gender_0.pt\n",
      "lambda_0.0_REST1_4_0_gender_0.pt\n",
      "0.9075966112952616\n",
      "lambda_0.0_REST1_4_1_gender_0.pt\n",
      "lambda_0.0_REST1_0_1_gender_0.pt\n",
      "0.9519183018551391\n",
      "lambda_0.0_REST1_4_1_gender_0.pt\n",
      "lambda_0.0_REST1_1_1_gender_0.pt\n",
      "0.9523539959286411\n",
      "lambda_0.0_REST1_4_1_gender_0.pt\n",
      "lambda_0.0_REST1_2_1_gender_0.pt\n",
      "0.9527568282609824\n",
      "lambda_0.0_REST1_4_1_gender_0.pt\n",
      "lambda_0.0_REST1_3_1_gender_0.pt\n",
      "0.9581166831803501\n",
      "lambda_0.0_REST1_4_1_gender_0.pt\n",
      "lambda_0.0_REST2_0_0_gender_0.pt\n",
      "0.9280542907179505\n",
      "lambda_0.0_REST1_4_1_gender_0.pt\n",
      "lambda_0.0_REST2_1_0_gender_0.pt\n",
      "0.929896947618118\n",
      "lambda_0.0_REST1_4_1_gender_0.pt\n",
      "lambda_0.0_REST2_2_0_gender_0.pt\n",
      "0.933055408836095\n",
      "lambda_0.0_REST1_4_1_gender_0.pt\n",
      "lambda_0.0_REST2_3_0_gender_0.pt\n",
      "0.9305091662737413\n",
      "lambda_0.0_REST1_4_1_gender_0.pt\n",
      "lambda_0.0_REST2_4_0_gender_0.pt\n",
      "0.9340125655192876\n",
      "lambda_0.0_REST1_4_1_gender_0.pt\n",
      "lambda_0.0_REST2_0_1_gender_0.pt\n",
      "0.9409548178987179\n",
      "lambda_0.0_REST1_4_1_gender_0.pt\n",
      "lambda_0.0_REST2_1_1_gender_0.pt\n",
      "0.937894322274658\n",
      "lambda_0.0_REST1_4_1_gender_0.pt\n",
      "lambda_0.0_REST2_2_1_gender_0.pt\n",
      "0.9363299828991495\n",
      "lambda_0.0_REST1_4_1_gender_0.pt\n",
      "lambda_0.0_REST2_3_1_gender_0.pt\n",
      "0.937282747027858\n",
      "lambda_0.0_REST1_4_1_gender_0.pt\n",
      "lambda_0.0_REST2_4_1_gender_0.pt\n",
      "0.9328048508430473\n",
      "lambda_0.0_REST2_0_0_gender_0.pt\n",
      "lambda_0.0_REST1_0_0_gender_0.pt\n",
      "0.9353349662813272\n",
      "lambda_0.0_REST2_0_0_gender_0.pt\n",
      "lambda_0.0_REST1_1_0_gender_0.pt\n",
      "0.9286255806612228\n",
      "lambda_0.0_REST2_0_0_gender_0.pt\n",
      "lambda_0.0_REST1_2_0_gender_0.pt\n",
      "0.9325810130125805\n",
      "lambda_0.0_REST2_0_0_gender_0.pt\n",
      "lambda_0.0_REST1_3_0_gender_0.pt\n",
      "0.928816239004032\n",
      "lambda_0.0_REST2_0_0_gender_0.pt\n",
      "lambda_0.0_REST1_4_0_gender_0.pt\n",
      "0.9305948321428471\n",
      "lambda_0.0_REST2_0_0_gender_0.pt\n",
      "lambda_0.0_REST1_0_1_gender_0.pt\n",
      "0.9263286947705807\n",
      "lambda_0.0_REST2_0_0_gender_0.pt\n",
      "lambda_0.0_REST1_1_1_gender_0.pt\n",
      "0.9333492274542485\n"
     ]
    },
    {
     "name": "stdout",
     "output_type": "stream",
     "text": [
      "lambda_0.0_REST2_0_0_gender_0.pt\n",
      "lambda_0.0_REST1_2_1_gender_0.pt\n",
      "0.9274365181954597\n",
      "lambda_0.0_REST2_0_0_gender_0.pt\n",
      "lambda_0.0_REST1_3_1_gender_0.pt\n",
      "0.9361813785305931\n",
      "lambda_0.0_REST2_0_0_gender_0.pt\n",
      "lambda_0.0_REST1_4_1_gender_0.pt\n",
      "0.9280542907179505\n",
      "lambda_0.0_REST2_0_0_gender_0.pt\n",
      "lambda_0.0_REST2_1_0_gender_0.pt\n",
      "0.9576189808572566\n",
      "lambda_0.0_REST2_0_0_gender_0.pt\n",
      "lambda_0.0_REST2_2_0_gender_0.pt\n",
      "0.9480702409048949\n",
      "lambda_0.0_REST2_0_0_gender_0.pt\n",
      "lambda_0.0_REST2_3_0_gender_0.pt\n",
      "0.9582948594157363\n",
      "lambda_0.0_REST2_0_0_gender_0.pt\n",
      "lambda_0.0_REST2_4_0_gender_0.pt\n",
      "0.9537589495768648\n",
      "lambda_0.0_REST2_0_0_gender_0.pt\n",
      "lambda_0.0_REST2_0_1_gender_0.pt\n",
      "0.9123460789973568\n",
      "lambda_0.0_REST2_0_0_gender_0.pt\n",
      "lambda_0.0_REST2_1_1_gender_0.pt\n",
      "0.9510919297265001\n",
      "lambda_0.0_REST2_0_0_gender_0.pt\n",
      "lambda_0.0_REST2_2_1_gender_0.pt\n",
      "0.9629058967736087\n",
      "lambda_0.0_REST2_0_0_gender_0.pt\n",
      "lambda_0.0_REST2_3_1_gender_0.pt\n",
      "0.9517677280909955\n",
      "lambda_0.0_REST2_0_0_gender_0.pt\n",
      "lambda_0.0_REST2_4_1_gender_0.pt\n",
      "0.9551146015326024\n",
      "lambda_0.0_REST2_1_0_gender_0.pt\n",
      "lambda_0.0_REST1_0_0_gender_0.pt\n",
      "0.9276238171838789\n",
      "lambda_0.0_REST2_1_0_gender_0.pt\n",
      "lambda_0.0_REST1_1_0_gender_0.pt\n",
      "0.9399475495358193\n",
      "lambda_0.0_REST2_1_0_gender_0.pt\n",
      "lambda_0.0_REST1_2_0_gender_0.pt\n",
      "0.9345008117774899\n",
      "lambda_0.0_REST2_1_0_gender_0.pt\n",
      "lambda_0.0_REST1_3_0_gender_0.pt\n",
      "0.9330740129057434\n",
      "lambda_0.0_REST2_1_0_gender_0.pt\n",
      "lambda_0.0_REST1_4_0_gender_0.pt\n",
      "0.9348234520254806\n",
      "lambda_0.0_REST2_1_0_gender_0.pt\n",
      "lambda_0.0_REST1_0_1_gender_0.pt\n",
      "0.93941055219661\n",
      "lambda_0.0_REST2_1_0_gender_0.pt\n",
      "lambda_0.0_REST1_1_1_gender_0.pt\n",
      "0.9275285905504591\n",
      "lambda_0.0_REST2_1_0_gender_0.pt\n",
      "lambda_0.0_REST1_2_1_gender_0.pt\n",
      "0.9319105781887469\n",
      "lambda_0.0_REST2_1_0_gender_0.pt\n",
      "lambda_0.0_REST1_3_1_gender_0.pt\n",
      "0.9371138533938429\n",
      "lambda_0.0_REST2_1_0_gender_0.pt\n",
      "lambda_0.0_REST1_4_1_gender_0.pt\n",
      "0.929896947618118\n",
      "lambda_0.0_REST2_1_0_gender_0.pt\n",
      "lambda_0.0_REST2_0_0_gender_0.pt\n",
      "0.9576189808572566\n",
      "lambda_0.0_REST2_1_0_gender_0.pt\n",
      "lambda_0.0_REST2_2_0_gender_0.pt\n",
      "0.9538730463969955\n",
      "lambda_0.0_REST2_1_0_gender_0.pt\n",
      "lambda_0.0_REST2_3_0_gender_0.pt\n",
      "0.9624081282888264\n",
      "lambda_0.0_REST2_1_0_gender_0.pt\n",
      "lambda_0.0_REST2_4_0_gender_0.pt\n",
      "0.956243998559076\n",
      "lambda_0.0_REST2_1_0_gender_0.pt\n",
      "lambda_0.0_REST2_0_1_gender_0.pt\n",
      "0.9519877925243574\n",
      "lambda_0.0_REST2_1_0_gender_0.pt\n",
      "lambda_0.0_REST2_1_1_gender_0.pt\n",
      "0.9083471460208911\n",
      "lambda_0.0_REST2_1_0_gender_0.pt\n",
      "lambda_0.0_REST2_2_1_gender_0.pt\n",
      "0.9581062781830638\n",
      "lambda_0.0_REST2_1_0_gender_0.pt\n",
      "lambda_0.0_REST2_3_1_gender_0.pt\n",
      "0.9460038462218233\n",
      "lambda_0.0_REST2_1_0_gender_0.pt\n",
      "lambda_0.0_REST2_4_1_gender_0.pt\n",
      "0.951713615377118\n",
      "lambda_0.0_REST2_2_0_gender_0.pt\n",
      "lambda_0.0_REST1_0_0_gender_0.pt\n",
      "0.9310549337669141\n",
      "lambda_0.0_REST2_2_0_gender_0.pt\n",
      "lambda_0.0_REST1_1_0_gender_0.pt\n",
      "0.937689667707789\n",
      "lambda_0.0_REST2_2_0_gender_0.pt\n",
      "lambda_0.0_REST1_2_0_gender_0.pt\n",
      "0.9347744227071468\n",
      "lambda_0.0_REST2_2_0_gender_0.pt\n",
      "lambda_0.0_REST1_3_0_gender_0.pt\n",
      "0.9380587780503524\n",
      "lambda_0.0_REST2_2_0_gender_0.pt\n",
      "lambda_0.0_REST1_4_0_gender_0.pt\n",
      "0.9368912412615261\n",
      "lambda_0.0_REST2_2_0_gender_0.pt\n",
      "lambda_0.0_REST1_0_1_gender_0.pt\n",
      "0.9413251665453868\n",
      "lambda_0.0_REST2_2_0_gender_0.pt\n",
      "lambda_0.0_REST1_1_1_gender_0.pt\n",
      "0.9344150565216269\n",
      "lambda_0.0_REST2_2_0_gender_0.pt\n",
      "lambda_0.0_REST1_2_1_gender_0.pt\n",
      "0.9368613234123108\n",
      "lambda_0.0_REST2_2_0_gender_0.pt\n",
      "lambda_0.0_REST1_3_1_gender_0.pt\n",
      "0.9387698310670275\n",
      "lambda_0.0_REST2_2_0_gender_0.pt\n",
      "lambda_0.0_REST1_4_1_gender_0.pt\n",
      "0.933055408836095\n",
      "lambda_0.0_REST2_2_0_gender_0.pt\n",
      "lambda_0.0_REST2_0_0_gender_0.pt\n",
      "0.9480702409048949\n",
      "lambda_0.0_REST2_2_0_gender_0.pt\n",
      "lambda_0.0_REST2_1_0_gender_0.pt\n",
      "0.9538730463969955\n",
      "lambda_0.0_REST2_2_0_gender_0.pt\n",
      "lambda_0.0_REST2_3_0_gender_0.pt\n",
      "0.9551775592718277\n",
      "lambda_0.0_REST2_2_0_gender_0.pt\n",
      "lambda_0.0_REST2_4_0_gender_0.pt\n",
      "0.9583786927176644\n",
      "lambda_0.0_REST2_2_0_gender_0.pt\n",
      "lambda_0.0_REST2_0_1_gender_0.pt\n",
      "0.9648386373800071\n",
      "lambda_0.0_REST2_2_0_gender_0.pt\n",
      "lambda_0.0_REST2_1_1_gender_0.pt\n",
      "0.9564763422985076\n",
      "lambda_0.0_REST2_2_0_gender_0.pt\n",
      "lambda_0.0_REST2_2_1_gender_0.pt\n",
      "0.9138936907101807\n",
      "lambda_0.0_REST2_2_0_gender_0.pt\n",
      "lambda_0.0_REST2_3_1_gender_0.pt\n",
      "0.9559282696107598\n",
      "lambda_0.0_REST2_2_0_gender_0.pt\n",
      "lambda_0.0_REST2_4_1_gender_0.pt\n",
      "0.951522050064276\n",
      "lambda_0.0_REST2_3_0_gender_0.pt\n",
      "lambda_0.0_REST1_0_0_gender_0.pt\n",
      "0.9261165470764798\n",
      "lambda_0.0_REST2_3_0_gender_0.pt\n",
      "lambda_0.0_REST1_1_0_gender_0.pt\n",
      "0.9315602522129124\n",
      "lambda_0.0_REST2_3_0_gender_0.pt\n",
      "lambda_0.0_REST1_2_0_gender_0.pt\n",
      "0.9262391370632266\n",
      "lambda_0.0_REST2_3_0_gender_0.pt\n",
      "lambda_0.0_REST1_3_0_gender_0.pt\n",
      "0.9292633509429089\n",
      "lambda_0.0_REST2_3_0_gender_0.pt\n",
      "lambda_0.0_REST1_4_0_gender_0.pt\n",
      "0.9301351397852282\n",
      "lambda_0.0_REST2_3_0_gender_0.pt\n",
      "lambda_0.0_REST1_0_1_gender_0.pt\n",
      "0.9372282891274867\n",
      "lambda_0.0_REST2_3_0_gender_0.pt\n",
      "lambda_0.0_REST1_1_1_gender_0.pt\n",
      "0.9313451378157354\n",
      "lambda_0.0_REST2_3_0_gender_0.pt\n",
      "lambda_0.0_REST1_2_1_gender_0.pt\n",
      "0.936829229605447\n",
      "lambda_0.0_REST2_3_0_gender_0.pt\n",
      "lambda_0.0_REST1_3_1_gender_0.pt\n",
      "0.9375068564049026\n",
      "lambda_0.0_REST2_3_0_gender_0.pt\n",
      "lambda_0.0_REST1_4_1_gender_0.pt\n",
      "0.9305091662737413\n",
      "lambda_0.0_REST2_3_0_gender_0.pt\n",
      "lambda_0.0_REST2_0_0_gender_0.pt\n",
      "0.9582948594157363\n",
      "lambda_0.0_REST2_3_0_gender_0.pt\n",
      "lambda_0.0_REST2_1_0_gender_0.pt\n",
      "0.9624081282888264\n",
      "lambda_0.0_REST2_3_0_gender_0.pt\n",
      "lambda_0.0_REST2_2_0_gender_0.pt\n",
      "0.9551775592718277\n",
      "lambda_0.0_REST2_3_0_gender_0.pt\n",
      "lambda_0.0_REST2_4_0_gender_0.pt\n",
      "0.9612247854657501\n",
      "lambda_0.0_REST2_3_0_gender_0.pt\n",
      "lambda_0.0_REST2_0_1_gender_0.pt\n",
      "0.9526285877137474\n",
      "lambda_0.0_REST2_3_0_gender_0.pt\n",
      "lambda_0.0_REST2_1_1_gender_0.pt\n",
      "0.9462281221319133\n",
      "lambda_0.0_REST2_3_0_gender_0.pt\n",
      "lambda_0.0_REST2_2_1_gender_0.pt\n",
      "0.9563082078161296\n",
      "lambda_0.0_REST2_3_0_gender_0.pt\n",
      "lambda_0.0_REST2_3_1_gender_0.pt\n",
      "0.908657063911583\n",
      "lambda_0.0_REST2_3_0_gender_0.pt\n",
      "lambda_0.0_REST2_4_1_gender_0.pt\n",
      "0.9469098503561107\n",
      "lambda_0.0_REST2_4_0_gender_0.pt\n",
      "lambda_0.0_REST1_0_0_gender_0.pt\n",
      "0.9330178449710431\n",
      "lambda_0.0_REST2_4_0_gender_0.pt\n",
      "lambda_0.0_REST1_1_0_gender_0.pt\n",
      "0.9347733068692161\n",
      "lambda_0.0_REST2_4_0_gender_0.pt\n",
      "lambda_0.0_REST1_2_0_gender_0.pt\n",
      "0.9321951807111812\n",
      "lambda_0.0_REST2_4_0_gender_0.pt\n",
      "lambda_0.0_REST1_3_0_gender_0.pt\n",
      "0.9373271732840502\n",
      "lambda_0.0_REST2_4_0_gender_0.pt\n",
      "lambda_0.0_REST1_4_0_gender_0.pt\n",
      "0.9320239690220367\n",
      "lambda_0.0_REST2_4_0_gender_0.pt\n",
      "lambda_0.0_REST1_0_1_gender_0.pt\n",
      "0.9352350760103537\n",
      "lambda_0.0_REST2_4_0_gender_0.pt\n",
      "lambda_0.0_REST1_1_1_gender_0.pt\n",
      "0.9335980303667393\n",
      "lambda_0.0_REST2_4_0_gender_0.pt\n",
      "lambda_0.0_REST1_2_1_gender_0.pt\n",
      "0.9350043594650999\n",
      "lambda_0.0_REST2_4_0_gender_0.pt\n",
      "lambda_0.0_REST1_3_1_gender_0.pt\n",
      "0.934437544174921\n",
      "lambda_0.0_REST2_4_0_gender_0.pt\n",
      "lambda_0.0_REST1_4_1_gender_0.pt\n",
      "0.9340125655192876\n",
      "lambda_0.0_REST2_4_0_gender_0.pt\n",
      "lambda_0.0_REST2_0_0_gender_0.pt\n",
      "0.9537589495768648\n",
      "lambda_0.0_REST2_4_0_gender_0.pt\n",
      "lambda_0.0_REST2_1_0_gender_0.pt\n",
      "0.956243998559076\n",
      "lambda_0.0_REST2_4_0_gender_0.pt\n",
      "lambda_0.0_REST2_2_0_gender_0.pt\n",
      "0.9583786927176644\n",
      "lambda_0.0_REST2_4_0_gender_0.pt\n",
      "lambda_0.0_REST2_3_0_gender_0.pt\n",
      "0.9612247854657501\n",
      "lambda_0.0_REST2_4_0_gender_0.pt\n",
      "lambda_0.0_REST2_0_1_gender_0.pt\n",
      "0.9559745710534935\n",
      "lambda_0.0_REST2_4_0_gender_0.pt\n",
      "lambda_0.0_REST2_1_1_gender_0.pt\n",
      "0.9519930892664004\n",
      "lambda_0.0_REST2_4_0_gender_0.pt\n",
      "lambda_0.0_REST2_2_1_gender_0.pt\n",
      "0.9520333010751001\n",
      "lambda_0.0_REST2_4_0_gender_0.pt\n",
      "lambda_0.0_REST2_3_1_gender_0.pt\n",
      "0.9469504141252292\n",
      "lambda_0.0_REST2_4_0_gender_0.pt\n",
      "lambda_0.0_REST2_4_1_gender_0.pt\n",
      "0.9089066091579624\n",
      "lambda_0.0_REST2_0_1_gender_0.pt\n",
      "lambda_0.0_REST1_0_0_gender_0.pt\n",
      "0.9350365521898919\n",
      "lambda_0.0_REST2_0_1_gender_0.pt\n",
      "lambda_0.0_REST1_1_0_gender_0.pt\n",
      "0.9423202339240873\n",
      "lambda_0.0_REST2_0_1_gender_0.pt\n",
      "lambda_0.0_REST1_2_0_gender_0.pt\n",
      "0.9404004280114859\n",
      "lambda_0.0_REST2_0_1_gender_0.pt\n",
      "lambda_0.0_REST1_3_0_gender_0.pt\n",
      "0.94481389550421\n",
      "lambda_0.0_REST2_0_1_gender_0.pt\n",
      "lambda_0.0_REST1_4_0_gender_0.pt\n",
      "0.9366017370376085\n",
      "lambda_0.0_REST2_0_1_gender_0.pt\n",
      "lambda_0.0_REST1_0_1_gender_0.pt\n",
      "0.945063974649122\n",
      "lambda_0.0_REST2_0_1_gender_0.pt\n",
      "lambda_0.0_REST1_1_1_gender_0.pt\n",
      "0.9391705686186367\n",
      "lambda_0.0_REST2_0_1_gender_0.pt\n",
      "lambda_0.0_REST1_2_1_gender_0.pt\n",
      "0.9416260669984963\n",
      "lambda_0.0_REST2_0_1_gender_0.pt\n",
      "lambda_0.0_REST1_3_1_gender_0.pt\n",
      "0.9394299153445176\n",
      "lambda_0.0_REST2_0_1_gender_0.pt\n",
      "lambda_0.0_REST1_4_1_gender_0.pt\n",
      "0.9409548178987179\n",
      "lambda_0.0_REST2_0_1_gender_0.pt\n",
      "lambda_0.0_REST2_0_0_gender_0.pt\n",
      "0.9123460789973568\n",
      "lambda_0.0_REST2_0_1_gender_0.pt\n",
      "lambda_0.0_REST2_1_0_gender_0.pt\n",
      "0.9519877925243574\n",
      "lambda_0.0_REST2_0_1_gender_0.pt\n",
      "lambda_0.0_REST2_2_0_gender_0.pt\n",
      "0.9648386373800071\n",
      "lambda_0.0_REST2_0_1_gender_0.pt\n",
      "lambda_0.0_REST2_3_0_gender_0.pt\n",
      "0.9526285877137474\n",
      "lambda_0.0_REST2_0_1_gender_0.pt\n",
      "lambda_0.0_REST2_4_0_gender_0.pt\n",
      "0.9559745710534935\n",
      "lambda_0.0_REST2_0_1_gender_0.pt\n",
      "lambda_0.0_REST2_1_1_gender_0.pt\n",
      "0.9580336189497287\n",
      "lambda_0.0_REST2_0_1_gender_0.pt\n",
      "lambda_0.0_REST2_2_1_gender_0.pt\n",
      "0.9484367680024771\n",
      "lambda_0.0_REST2_0_1_gender_0.pt\n",
      "lambda_0.0_REST2_3_1_gender_0.pt\n",
      "0.9567114296964103\n",
      "lambda_0.0_REST2_0_1_gender_0.pt\n",
      "lambda_0.0_REST2_4_1_gender_0.pt\n",
      "0.9539449125521094\n",
      "lambda_0.0_REST2_1_1_gender_0.pt\n",
      "lambda_0.0_REST1_0_0_gender_0.pt\n",
      "0.9406393634403591\n",
      "lambda_0.0_REST2_1_1_gender_0.pt\n",
      "lambda_0.0_REST1_1_0_gender_0.pt\n",
      "0.9277652716524003\n",
      "lambda_0.0_REST2_1_1_gender_0.pt\n",
      "lambda_0.0_REST1_2_0_gender_0.pt\n",
      "0.9371378768064457\n",
      "lambda_0.0_REST2_1_1_gender_0.pt\n",
      "lambda_0.0_REST1_3_0_gender_0.pt\n",
      "0.9379922083662712\n",
      "lambda_0.0_REST2_1_1_gender_0.pt\n",
      "lambda_0.0_REST1_4_0_gender_0.pt\n",
      "0.929956818970319\n",
      "lambda_0.0_REST2_1_1_gender_0.pt\n",
      "lambda_0.0_REST1_0_1_gender_0.pt\n",
      "0.9301396696141913\n",
      "lambda_0.0_REST2_1_1_gender_0.pt\n",
      "lambda_0.0_REST1_1_1_gender_0.pt\n",
      "0.9442922225841393\n",
      "lambda_0.0_REST2_1_1_gender_0.pt\n",
      "lambda_0.0_REST1_2_1_gender_0.pt\n",
      "0.9342530889108218\n",
      "lambda_0.0_REST2_1_1_gender_0.pt\n",
      "lambda_0.0_REST1_3_1_gender_0.pt\n",
      "0.9369791915748238\n",
      "lambda_0.0_REST2_1_1_gender_0.pt\n",
      "lambda_0.0_REST1_4_1_gender_0.pt\n",
      "0.937894322274658\n",
      "lambda_0.0_REST2_1_1_gender_0.pt\n",
      "lambda_0.0_REST2_0_0_gender_0.pt\n",
      "0.9510919297265001\n",
      "lambda_0.0_REST2_1_1_gender_0.pt\n",
      "lambda_0.0_REST2_1_0_gender_0.pt\n",
      "0.9083471460208911\n",
      "lambda_0.0_REST2_1_1_gender_0.pt\n",
      "lambda_0.0_REST2_2_0_gender_0.pt\n",
      "0.9564763422985076\n",
      "lambda_0.0_REST2_1_1_gender_0.pt\n",
      "lambda_0.0_REST2_3_0_gender_0.pt\n",
      "0.9462281221319133\n",
      "lambda_0.0_REST2_1_1_gender_0.pt\n",
      "lambda_0.0_REST2_4_0_gender_0.pt\n",
      "0.9519930892664004\n",
      "lambda_0.0_REST2_1_1_gender_0.pt\n",
      "lambda_0.0_REST2_0_1_gender_0.pt\n",
      "0.9580336189497287\n",
      "lambda_0.0_REST2_1_1_gender_0.pt\n",
      "lambda_0.0_REST2_2_1_gender_0.pt\n",
      "0.9517943815707093\n",
      "lambda_0.0_REST2_1_1_gender_0.pt\n",
      "lambda_0.0_REST2_3_1_gender_0.pt\n",
      "0.9604759523782072\n",
      "lambda_0.0_REST2_1_1_gender_0.pt\n",
      "lambda_0.0_REST2_4_1_gender_0.pt\n",
      "0.9547038314296801\n",
      "lambda_0.0_REST2_2_1_gender_0.pt\n",
      "lambda_0.0_REST1_0_0_gender_0.pt\n",
      "0.9379788560783443\n",
      "lambda_0.0_REST2_2_1_gender_0.pt\n",
      "lambda_0.0_REST1_1_0_gender_0.pt\n",
      "0.9333364089151547\n",
      "lambda_0.0_REST2_2_1_gender_0.pt\n",
      "lambda_0.0_REST1_2_0_gender_0.pt\n",
      "0.9388675972772649\n",
      "lambda_0.0_REST2_2_1_gender_0.pt\n",
      "lambda_0.0_REST1_3_0_gender_0.pt\n",
      "0.9345709254390013\n",
      "lambda_0.0_REST2_2_1_gender_0.pt\n",
      "lambda_0.0_REST1_4_0_gender_0.pt\n",
      "0.9298872505102007\n",
      "lambda_0.0_REST2_2_1_gender_0.pt\n",
      "lambda_0.0_REST1_0_1_gender_0.pt\n",
      "0.9311863738977841\n",
      "lambda_0.0_REST2_2_1_gender_0.pt\n",
      "lambda_0.0_REST1_1_1_gender_0.pt\n",
      "0.9376297552942773\n",
      "lambda_0.0_REST2_2_1_gender_0.pt\n",
      "lambda_0.0_REST1_2_1_gender_0.pt\n",
      "0.9309841276312641\n",
      "lambda_0.0_REST2_2_1_gender_0.pt\n",
      "lambda_0.0_REST1_3_1_gender_0.pt\n",
      "0.9375845119287496\n",
      "lambda_0.0_REST2_2_1_gender_0.pt\n",
      "lambda_0.0_REST1_4_1_gender_0.pt\n",
      "0.9363299828991495\n",
      "lambda_0.0_REST2_2_1_gender_0.pt\n",
      "lambda_0.0_REST2_0_0_gender_0.pt\n",
      "0.9629058967736087\n",
      "lambda_0.0_REST2_2_1_gender_0.pt\n",
      "lambda_0.0_REST2_1_0_gender_0.pt\n",
      "0.9581062781830638\n",
      "lambda_0.0_REST2_2_1_gender_0.pt\n",
      "lambda_0.0_REST2_2_0_gender_0.pt\n",
      "0.9138936907101807\n",
      "lambda_0.0_REST2_2_1_gender_0.pt\n",
      "lambda_0.0_REST2_3_0_gender_0.pt\n",
      "0.9563082078161296\n",
      "lambda_0.0_REST2_2_1_gender_0.pt\n",
      "lambda_0.0_REST2_4_0_gender_0.pt\n",
      "0.9520333010751001\n",
      "lambda_0.0_REST2_2_1_gender_0.pt\n",
      "lambda_0.0_REST2_0_1_gender_0.pt\n",
      "0.9484367680024771\n",
      "lambda_0.0_REST2_2_1_gender_0.pt\n",
      "lambda_0.0_REST2_1_1_gender_0.pt\n",
      "0.9517943815707093\n",
      "lambda_0.0_REST2_2_1_gender_0.pt\n",
      "lambda_0.0_REST2_3_1_gender_0.pt\n",
      "0.9531766243109105\n",
      "lambda_0.0_REST2_2_1_gender_0.pt\n",
      "lambda_0.0_REST2_4_1_gender_0.pt\n",
      "0.9581681571593207\n",
      "lambda_0.0_REST2_3_1_gender_0.pt\n",
      "lambda_0.0_REST1_0_0_gender_0.pt\n",
      "0.9417943335172431\n",
      "lambda_0.0_REST2_3_1_gender_0.pt\n",
      "lambda_0.0_REST1_1_0_gender_0.pt\n",
      "0.9379481353833794\n",
      "lambda_0.0_REST2_3_1_gender_0.pt\n",
      "lambda_0.0_REST1_2_0_gender_0.pt\n",
      "0.9447162279501029\n",
      "lambda_0.0_REST2_3_1_gender_0.pt\n",
      "lambda_0.0_REST1_3_0_gender_0.pt\n",
      "0.9420322865680492\n",
      "lambda_0.0_REST2_3_1_gender_0.pt\n",
      "lambda_0.0_REST1_4_0_gender_0.pt\n",
      "0.9353661372237311\n",
      "lambda_0.0_REST2_3_1_gender_0.pt\n",
      "lambda_0.0_REST1_0_1_gender_0.pt\n",
      "0.9334983591586681\n",
      "lambda_0.0_REST2_3_1_gender_0.pt\n",
      "lambda_0.0_REST1_1_1_gender_0.pt\n",
      "0.9394474415277957\n",
      "lambda_0.0_REST2_3_1_gender_0.pt\n",
      "lambda_0.0_REST1_2_1_gender_0.pt\n",
      "0.9309156239848982\n",
      "lambda_0.0_REST2_3_1_gender_0.pt\n",
      "lambda_0.0_REST1_3_1_gender_0.pt\n",
      "0.937194465870116\n",
      "lambda_0.0_REST2_3_1_gender_0.pt\n",
      "lambda_0.0_REST1_4_1_gender_0.pt\n",
      "0.937282747027858\n",
      "lambda_0.0_REST2_3_1_gender_0.pt\n",
      "lambda_0.0_REST2_0_0_gender_0.pt\n",
      "0.9517677280909955\n",
      "lambda_0.0_REST2_3_1_gender_0.pt\n",
      "lambda_0.0_REST2_1_0_gender_0.pt\n",
      "0.9460038462218233\n",
      "lambda_0.0_REST2_3_1_gender_0.pt\n",
      "lambda_0.0_REST2_2_0_gender_0.pt\n",
      "0.9559282696107598\n",
      "lambda_0.0_REST2_3_1_gender_0.pt\n",
      "lambda_0.0_REST2_3_0_gender_0.pt\n",
      "0.908657063911583\n",
      "lambda_0.0_REST2_3_1_gender_0.pt\n",
      "lambda_0.0_REST2_4_0_gender_0.pt\n",
      "0.9469504141252292\n",
      "lambda_0.0_REST2_3_1_gender_0.pt\n",
      "lambda_0.0_REST2_0_1_gender_0.pt\n",
      "0.9567114296964103\n",
      "lambda_0.0_REST2_3_1_gender_0.pt\n",
      "lambda_0.0_REST2_1_1_gender_0.pt\n",
      "0.9604759523782072\n",
      "lambda_0.0_REST2_3_1_gender_0.pt\n",
      "lambda_0.0_REST2_2_1_gender_0.pt\n",
      "0.9531766243109105\n",
      "lambda_0.0_REST2_3_1_gender_0.pt\n",
      "lambda_0.0_REST2_4_1_gender_0.pt\n",
      "0.9596538381272832\n",
      "lambda_0.0_REST2_4_1_gender_0.pt\n",
      "lambda_0.0_REST1_0_0_gender_0.pt\n",
      "0.9344678554655111\n",
      "lambda_0.0_REST2_4_1_gender_0.pt\n",
      "lambda_0.0_REST1_1_0_gender_0.pt\n",
      "0.9356936448056815\n",
      "lambda_0.0_REST2_4_1_gender_0.pt\n",
      "lambda_0.0_REST1_2_0_gender_0.pt\n",
      "0.9388954889976897\n",
      "lambda_0.0_REST2_4_1_gender_0.pt\n",
      "lambda_0.0_REST1_3_0_gender_0.pt\n",
      "0.9344246755328594\n",
      "lambda_0.0_REST2_4_1_gender_0.pt\n",
      "lambda_0.0_REST1_4_0_gender_0.pt\n",
      "0.9337506109008453\n",
      "lambda_0.0_REST2_4_1_gender_0.pt\n",
      "lambda_0.0_REST1_0_1_gender_0.pt\n",
      "0.9351885687322758\n",
      "lambda_0.0_REST2_4_1_gender_0.pt\n",
      "lambda_0.0_REST1_1_1_gender_0.pt\n",
      "0.9356490878458874\n",
      "lambda_0.0_REST2_4_1_gender_0.pt\n",
      "lambda_0.0_REST1_2_1_gender_0.pt\n",
      "0.9320148352418619\n",
      "lambda_0.0_REST2_4_1_gender_0.pt\n",
      "lambda_0.0_REST1_3_1_gender_0.pt\n",
      "0.9394597248083449\n",
      "lambda_0.0_REST2_4_1_gender_0.pt\n",
      "lambda_0.0_REST1_4_1_gender_0.pt\n",
      "0.9328048508430473\n",
      "lambda_0.0_REST2_4_1_gender_0.pt\n",
      "lambda_0.0_REST2_0_0_gender_0.pt\n",
      "0.9551146015326024\n",
      "lambda_0.0_REST2_4_1_gender_0.pt\n",
      "lambda_0.0_REST2_1_0_gender_0.pt\n",
      "0.951713615377118\n",
      "lambda_0.0_REST2_4_1_gender_0.pt\n",
      "lambda_0.0_REST2_2_0_gender_0.pt\n",
      "0.951522050064276\n",
      "lambda_0.0_REST2_4_1_gender_0.pt\n",
      "lambda_0.0_REST2_3_0_gender_0.pt\n",
      "0.9469098503561107\n",
      "lambda_0.0_REST2_4_1_gender_0.pt\n",
      "lambda_0.0_REST2_4_0_gender_0.pt\n",
      "0.9089066091579624\n",
      "lambda_0.0_REST2_4_1_gender_0.pt\n",
      "lambda_0.0_REST2_0_1_gender_0.pt\n",
      "0.9539449125521094\n",
      "lambda_0.0_REST2_4_1_gender_0.pt\n",
      "lambda_0.0_REST2_1_1_gender_0.pt\n",
      "0.9547038314296801\n",
      "lambda_0.0_REST2_4_1_gender_0.pt\n",
      "lambda_0.0_REST2_2_1_gender_0.pt\n",
      "0.9581681571593207\n",
      "lambda_0.0_REST2_4_1_gender_0.pt\n",
      "lambda_0.0_REST2_3_1_gender_0.pt\n",
      "0.9596538381272832\n"
     ]
    }
   ],
   "source": [
    "splits = 5\n",
    "halfs = [0, 1]\n",
    "genders = [0, 1]\n",
    "half = 0\n",
    "gender = 0\n",
    "lambda_ = 0.0\n",
    "\n",
    "corr_mat = np.ones((splits * 4, splits * 4))\n",
    "corrs = []\n",
    "\n",
    "row = 0\n",
    "file_names = []\n",
    "ws = []\n",
    "for session_i in ['REST1', 'REST2']:\n",
    "    for half_i in halfs:\n",
    "        for i in range(splits):\n",
    "            file_i = 'lambda_%s_%s_%s_%s_gender_%s.pt' % (lambda_, session_i, i, half_i, gender)\n",
    "            weight_i = get_model_weight(file_i, sub_dir)\n",
    "            col = 0\n",
    "            file_names.append(file_i)\n",
    "            for session_j in ['REST1', 'REST2']:\n",
    "                for half_j in halfs:\n",
    "                    for j in range(splits):\n",
    "                        file_j = 'lambda_%s_%s_%s_%s_gender_%s.pt' % (lambda_, session_j, j, half_j, gender)\n",
    "                        if file_i == file_j:\n",
    "                            col += 1\n",
    "                            continue\n",
    "                        else:\n",
    "                            weight_j = get_model_weight(file_j, sub_dir)\n",
    "                            corr, _ = pearsonr(weight_i[:, 0], weight_j[:, 0])\n",
    "                            corr_mat[row, col] = corr\n",
    "                            corrs.append(corr)\n",
    "                            col += 1\n",
    "                            print(file_i)\n",
    "                            print(file_j)\n",
    "                            print(corr)\n",
    "            row += 1"
   ]
  },
  {
   "cell_type": "code",
   "execution_count": 14,
   "metadata": {},
   "outputs": [
    {
     "name": "stdout",
     "output_type": "stream",
     "text": [
      "lambda_1.0_REST1_0_0_gender_0.pt\n",
      "lambda_1.0_REST1_1_0_gender_0.pt\n",
      "0.9719906115565562\n",
      "lambda_1.0_REST1_0_0_gender_0.pt\n",
      "lambda_1.0_REST1_2_0_gender_0.pt\n",
      "0.7594508119401568\n",
      "lambda_1.0_REST1_0_0_gender_0.pt\n",
      "lambda_1.0_REST1_3_0_gender_0.pt\n",
      "0.9945849127469353\n",
      "lambda_1.0_REST1_0_0_gender_0.pt\n",
      "lambda_1.0_REST1_4_0_gender_0.pt\n",
      "0.9788682353157075\n",
      "lambda_1.0_REST1_0_0_gender_0.pt\n",
      "lambda_1.0_REST1_1_0_gender_0.pt\n",
      "0.9719906115565562\n",
      "lambda_1.0_REST1_0_0_gender_0.pt\n",
      "lambda_1.0_REST1_2_0_gender_0.pt\n",
      "0.7594508119401568\n",
      "lambda_1.0_REST1_0_0_gender_0.pt\n",
      "lambda_1.0_REST1_3_0_gender_0.pt\n",
      "0.9945849127469353\n",
      "lambda_1.0_REST1_0_0_gender_0.pt\n",
      "lambda_1.0_REST1_4_0_gender_0.pt\n",
      "0.9788682353157075\n",
      "lambda_1.0_REST1_0_0_gender_0.pt\n",
      "lambda_1.0_REST2_0_0_gender_0.pt\n",
      "0.9323238728397472\n",
      "lambda_1.0_REST1_0_0_gender_0.pt\n",
      "lambda_1.0_REST2_1_0_gender_0.pt\n",
      "0.8113742282079841\n",
      "lambda_1.0_REST1_0_0_gender_0.pt\n",
      "lambda_1.0_REST2_2_0_gender_0.pt\n",
      "0.9636248818122233\n",
      "lambda_1.0_REST1_0_0_gender_0.pt\n",
      "lambda_1.0_REST2_3_0_gender_0.pt\n",
      "0.755213142248051\n",
      "lambda_1.0_REST1_0_0_gender_0.pt\n",
      "lambda_1.0_REST2_4_0_gender_0.pt\n",
      "0.8555858699252973\n",
      "lambda_1.0_REST1_0_0_gender_0.pt\n",
      "lambda_1.0_REST2_0_0_gender_0.pt\n",
      "0.9323238728397472\n",
      "lambda_1.0_REST1_0_0_gender_0.pt\n",
      "lambda_1.0_REST2_1_0_gender_0.pt\n",
      "0.8113742282079841\n",
      "lambda_1.0_REST1_0_0_gender_0.pt\n",
      "lambda_1.0_REST2_2_0_gender_0.pt\n",
      "0.9636248818122233\n",
      "lambda_1.0_REST1_0_0_gender_0.pt\n",
      "lambda_1.0_REST2_3_0_gender_0.pt\n",
      "0.755213142248051\n",
      "lambda_1.0_REST1_0_0_gender_0.pt\n",
      "lambda_1.0_REST2_4_0_gender_0.pt\n",
      "0.8555858699252973\n",
      "lambda_1.0_REST1_1_0_gender_0.pt\n",
      "lambda_1.0_REST1_0_0_gender_0.pt\n",
      "0.9797678092357609\n",
      "lambda_1.0_REST1_1_0_gender_0.pt\n",
      "lambda_1.0_REST1_2_0_gender_0.pt\n",
      "0.9457157631257186\n",
      "lambda_1.0_REST1_1_0_gender_0.pt\n",
      "lambda_1.0_REST1_3_0_gender_0.pt\n",
      "0.9770302786581744\n",
      "lambda_1.0_REST1_1_0_gender_0.pt\n",
      "lambda_1.0_REST1_4_0_gender_0.pt\n",
      "0.9390653201074977\n",
      "lambda_1.0_REST1_1_0_gender_0.pt\n",
      "lambda_1.0_REST1_0_0_gender_0.pt\n",
      "0.9797678092357609\n",
      "lambda_1.0_REST1_1_0_gender_0.pt\n",
      "lambda_1.0_REST1_2_0_gender_0.pt\n",
      "0.9457157631257186\n",
      "lambda_1.0_REST1_1_0_gender_0.pt\n",
      "lambda_1.0_REST1_3_0_gender_0.pt\n",
      "0.9770302786581744\n",
      "lambda_1.0_REST1_1_0_gender_0.pt\n",
      "lambda_1.0_REST1_4_0_gender_0.pt\n",
      "0.9390653201074977\n",
      "lambda_1.0_REST1_1_0_gender_0.pt\n",
      "lambda_1.0_REST2_0_0_gender_0.pt\n",
      "0.9840086438511417\n",
      "lambda_1.0_REST1_1_0_gender_0.pt\n",
      "lambda_1.0_REST2_1_0_gender_0.pt\n",
      "0.9519712132794762\n",
      "lambda_1.0_REST1_1_0_gender_0.pt\n",
      "lambda_1.0_REST2_2_0_gender_0.pt\n",
      "0.8859201468542461\n",
      "lambda_1.0_REST1_1_0_gender_0.pt\n",
      "lambda_1.0_REST2_3_0_gender_0.pt\n",
      "0.934272197449797\n",
      "lambda_1.0_REST1_1_0_gender_0.pt\n",
      "lambda_1.0_REST2_4_0_gender_0.pt\n",
      "0.9644527780458434\n",
      "lambda_1.0_REST1_1_0_gender_0.pt\n",
      "lambda_1.0_REST2_0_0_gender_0.pt\n",
      "0.9840086438511417\n",
      "lambda_1.0_REST1_1_0_gender_0.pt\n",
      "lambda_1.0_REST2_1_0_gender_0.pt\n",
      "0.9519712132794762\n",
      "lambda_1.0_REST1_1_0_gender_0.pt\n",
      "lambda_1.0_REST2_2_0_gender_0.pt\n",
      "0.8859201468542461\n",
      "lambda_1.0_REST1_1_0_gender_0.pt\n",
      "lambda_1.0_REST2_3_0_gender_0.pt\n",
      "0.934272197449797\n",
      "lambda_1.0_REST1_1_0_gender_0.pt\n",
      "lambda_1.0_REST2_4_0_gender_0.pt\n",
      "0.9644527780458434\n",
      "lambda_1.0_REST1_2_0_gender_0.pt\n",
      "lambda_1.0_REST1_0_0_gender_0.pt\n",
      "0.6732225992912227\n",
      "lambda_1.0_REST1_2_0_gender_0.pt\n",
      "lambda_1.0_REST1_1_0_gender_0.pt\n",
      "0.9082534537020309\n",
      "lambda_1.0_REST1_2_0_gender_0.pt\n",
      "lambda_1.0_REST1_3_0_gender_0.pt\n",
      "0.6066915929757731\n",
      "lambda_1.0_REST1_2_0_gender_0.pt\n",
      "lambda_1.0_REST1_4_0_gender_0.pt\n",
      "0.2562521095477216\n",
      "lambda_1.0_REST1_2_0_gender_0.pt\n",
      "lambda_1.0_REST1_0_0_gender_0.pt\n",
      "0.6732225992912227\n",
      "lambda_1.0_REST1_2_0_gender_0.pt\n",
      "lambda_1.0_REST1_1_0_gender_0.pt\n",
      "0.9082534537020309\n",
      "lambda_1.0_REST1_2_0_gender_0.pt\n",
      "lambda_1.0_REST1_3_0_gender_0.pt\n",
      "0.6066915929757731\n",
      "lambda_1.0_REST1_2_0_gender_0.pt\n",
      "lambda_1.0_REST1_4_0_gender_0.pt\n",
      "0.2562521095477216\n",
      "lambda_1.0_REST1_2_0_gender_0.pt\n",
      "lambda_1.0_REST2_0_0_gender_0.pt\n",
      "0.9397734566504028\n",
      "lambda_1.0_REST1_2_0_gender_0.pt\n",
      "lambda_1.0_REST2_1_0_gender_0.pt\n",
      "0.9715596145941816\n",
      "lambda_1.0_REST1_2_0_gender_0.pt\n",
      "lambda_1.0_REST2_2_0_gender_0.pt\n",
      "0.093854202551355\n",
      "lambda_1.0_REST1_2_0_gender_0.pt\n",
      "lambda_1.0_REST2_3_0_gender_0.pt\n",
      "0.9700493947234666\n",
      "lambda_1.0_REST1_2_0_gender_0.pt\n",
      "lambda_1.0_REST2_4_0_gender_0.pt\n",
      "0.9691957221525412\n",
      "lambda_1.0_REST1_2_0_gender_0.pt\n",
      "lambda_1.0_REST2_0_0_gender_0.pt\n",
      "0.9397734566504028\n",
      "lambda_1.0_REST1_2_0_gender_0.pt\n",
      "lambda_1.0_REST2_1_0_gender_0.pt\n",
      "0.9715596145941816\n",
      "lambda_1.0_REST1_2_0_gender_0.pt\n",
      "lambda_1.0_REST2_2_0_gender_0.pt\n",
      "0.093854202551355\n",
      "lambda_1.0_REST1_2_0_gender_0.pt\n",
      "lambda_1.0_REST2_3_0_gender_0.pt\n",
      "0.9700493947234666\n",
      "lambda_1.0_REST1_2_0_gender_0.pt\n",
      "lambda_1.0_REST2_4_0_gender_0.pt\n",
      "0.9691957221525412\n",
      "lambda_1.0_REST1_3_0_gender_0.pt\n",
      "lambda_1.0_REST1_0_0_gender_0.pt\n",
      "0.9941442814688783\n",
      "lambda_1.0_REST1_3_0_gender_0.pt\n",
      "lambda_1.0_REST1_1_0_gender_0.pt\n",
      "0.9693494965015585\n",
      "lambda_1.0_REST1_3_0_gender_0.pt\n",
      "lambda_1.0_REST1_2_0_gender_0.pt\n",
      "0.7332596143829971\n",
      "lambda_1.0_REST1_3_0_gender_0.pt\n",
      "lambda_1.0_REST1_4_0_gender_0.pt\n",
      "0.9850855199124041\n",
      "lambda_1.0_REST1_3_0_gender_0.pt\n",
      "lambda_1.0_REST1_0_0_gender_0.pt\n",
      "0.9941442814688783\n",
      "lambda_1.0_REST1_3_0_gender_0.pt\n",
      "lambda_1.0_REST1_1_0_gender_0.pt\n",
      "0.9693494965015585\n",
      "lambda_1.0_REST1_3_0_gender_0.pt\n",
      "lambda_1.0_REST1_2_0_gender_0.pt\n",
      "0.7332596143829971\n",
      "lambda_1.0_REST1_3_0_gender_0.pt\n",
      "lambda_1.0_REST1_4_0_gender_0.pt\n",
      "0.9850855199124041\n",
      "lambda_1.0_REST1_3_0_gender_0.pt\n",
      "lambda_1.0_REST2_0_0_gender_0.pt\n",
      "0.9212766153714489\n",
      "lambda_1.0_REST1_3_0_gender_0.pt\n",
      "lambda_1.0_REST2_1_0_gender_0.pt\n",
      "0.7901425236093192\n",
      "lambda_1.0_REST1_3_0_gender_0.pt\n",
      "lambda_1.0_REST2_2_0_gender_0.pt\n",
      "0.9718111296940595\n",
      "lambda_1.0_REST1_3_0_gender_0.pt\n",
      "lambda_1.0_REST2_3_0_gender_0.pt\n",
      "0.7229473699791064\n",
      "lambda_1.0_REST1_3_0_gender_0.pt\n",
      "lambda_1.0_REST2_4_0_gender_0.pt\n",
      "0.8346275990732748\n",
      "lambda_1.0_REST1_3_0_gender_0.pt\n",
      "lambda_1.0_REST2_0_0_gender_0.pt\n",
      "0.9212766153714489\n",
      "lambda_1.0_REST1_3_0_gender_0.pt\n",
      "lambda_1.0_REST2_1_0_gender_0.pt\n",
      "0.7901425236093192\n",
      "lambda_1.0_REST1_3_0_gender_0.pt\n",
      "lambda_1.0_REST2_2_0_gender_0.pt\n",
      "0.9718111296940595\n",
      "lambda_1.0_REST1_3_0_gender_0.pt\n",
      "lambda_1.0_REST2_3_0_gender_0.pt\n",
      "0.7229473699791064\n",
      "lambda_1.0_REST1_3_0_gender_0.pt\n",
      "lambda_1.0_REST2_4_0_gender_0.pt\n",
      "0.8346275990732748\n",
      "lambda_1.0_REST1_4_0_gender_0.pt\n",
      "lambda_1.0_REST1_0_0_gender_0.pt\n",
      "0.9612012217188941\n",
      "lambda_1.0_REST1_4_0_gender_0.pt\n",
      "lambda_1.0_REST1_1_0_gender_0.pt\n",
      "0.8483387165119475\n",
      "lambda_1.0_REST1_4_0_gender_0.pt\n",
      "lambda_1.0_REST1_2_0_gender_0.pt\n",
      "0.23381965636842963\n",
      "lambda_1.0_REST1_4_0_gender_0.pt\n",
      "lambda_1.0_REST1_3_0_gender_0.pt\n",
      "0.9703460580282628\n",
      "lambda_1.0_REST1_4_0_gender_0.pt\n",
      "lambda_1.0_REST1_0_0_gender_0.pt\n",
      "0.9612012217188941\n",
      "lambda_1.0_REST1_4_0_gender_0.pt\n",
      "lambda_1.0_REST1_1_0_gender_0.pt\n",
      "0.8483387165119475\n",
      "lambda_1.0_REST1_4_0_gender_0.pt\n",
      "lambda_1.0_REST1_2_0_gender_0.pt\n",
      "0.23381965636842963\n",
      "lambda_1.0_REST1_4_0_gender_0.pt\n",
      "lambda_1.0_REST1_3_0_gender_0.pt\n",
      "0.9703460580282628\n",
      "lambda_1.0_REST1_4_0_gender_0.pt\n",
      "lambda_1.0_REST2_0_0_gender_0.pt\n",
      "0.7371170714939146\n",
      "lambda_1.0_REST1_4_0_gender_0.pt\n",
      "lambda_1.0_REST2_1_0_gender_0.pt\n",
      "0.37116764404900876\n",
      "lambda_1.0_REST1_4_0_gender_0.pt\n",
      "lambda_1.0_REST2_2_0_gender_0.pt\n",
      "0.9802578133361253\n",
      "lambda_1.0_REST1_4_0_gender_0.pt\n",
      "lambda_1.0_REST2_3_0_gender_0.pt\n",
      "0.24983577115227332\n",
      "lambda_1.0_REST1_4_0_gender_0.pt\n",
      "lambda_1.0_REST2_4_0_gender_0.pt\n",
      "0.4674618115761232\n",
      "lambda_1.0_REST1_4_0_gender_0.pt\n",
      "lambda_1.0_REST2_0_0_gender_0.pt\n",
      "0.7371170714939146\n",
      "lambda_1.0_REST1_4_0_gender_0.pt\n",
      "lambda_1.0_REST2_1_0_gender_0.pt\n",
      "0.37116764404900876\n",
      "lambda_1.0_REST1_4_0_gender_0.pt\n",
      "lambda_1.0_REST2_2_0_gender_0.pt\n",
      "0.9802578133361253\n",
      "lambda_1.0_REST1_4_0_gender_0.pt\n",
      "lambda_1.0_REST2_3_0_gender_0.pt\n",
      "0.24983577115227332\n",
      "lambda_1.0_REST1_4_0_gender_0.pt\n",
      "lambda_1.0_REST2_4_0_gender_0.pt\n",
      "0.4674618115761232\n",
      "lambda_1.0_REST1_0_0_gender_0.pt\n",
      "lambda_1.0_REST1_1_0_gender_0.pt\n",
      "0.9719906115565562\n",
      "lambda_1.0_REST1_0_0_gender_0.pt\n",
      "lambda_1.0_REST1_2_0_gender_0.pt\n",
      "0.7594508119401568\n",
      "lambda_1.0_REST1_0_0_gender_0.pt\n",
      "lambda_1.0_REST1_3_0_gender_0.pt\n",
      "0.9945849127469353\n",
      "lambda_1.0_REST1_0_0_gender_0.pt\n",
      "lambda_1.0_REST1_4_0_gender_0.pt\n",
      "0.9788682353157075\n",
      "lambda_1.0_REST1_0_0_gender_0.pt\n",
      "lambda_1.0_REST1_1_0_gender_0.pt\n",
      "0.9719906115565562\n",
      "lambda_1.0_REST1_0_0_gender_0.pt\n",
      "lambda_1.0_REST1_2_0_gender_0.pt\n",
      "0.7594508119401568\n",
      "lambda_1.0_REST1_0_0_gender_0.pt\n",
      "lambda_1.0_REST1_3_0_gender_0.pt\n",
      "0.9945849127469353\n",
      "lambda_1.0_REST1_0_0_gender_0.pt\n",
      "lambda_1.0_REST1_4_0_gender_0.pt\n",
      "0.9788682353157075\n",
      "lambda_1.0_REST1_0_0_gender_0.pt\n",
      "lambda_1.0_REST2_0_0_gender_0.pt\n",
      "0.9323238728397472\n",
      "lambda_1.0_REST1_0_0_gender_0.pt\n",
      "lambda_1.0_REST2_1_0_gender_0.pt\n",
      "0.8113742282079841\n",
      "lambda_1.0_REST1_0_0_gender_0.pt\n",
      "lambda_1.0_REST2_2_0_gender_0.pt\n",
      "0.9636248818122233\n",
      "lambda_1.0_REST1_0_0_gender_0.pt\n",
      "lambda_1.0_REST2_3_0_gender_0.pt\n",
      "0.755213142248051\n",
      "lambda_1.0_REST1_0_0_gender_0.pt\n",
      "lambda_1.0_REST2_4_0_gender_0.pt\n",
      "0.8555858699252973\n",
      "lambda_1.0_REST1_0_0_gender_0.pt\n",
      "lambda_1.0_REST2_0_0_gender_0.pt\n",
      "0.9323238728397472\n",
      "lambda_1.0_REST1_0_0_gender_0.pt\n",
      "lambda_1.0_REST2_1_0_gender_0.pt\n",
      "0.8113742282079841\n",
      "lambda_1.0_REST1_0_0_gender_0.pt\n",
      "lambda_1.0_REST2_2_0_gender_0.pt\n",
      "0.9636248818122233\n",
      "lambda_1.0_REST1_0_0_gender_0.pt\n",
      "lambda_1.0_REST2_3_0_gender_0.pt\n",
      "0.755213142248051\n",
      "lambda_1.0_REST1_0_0_gender_0.pt\n",
      "lambda_1.0_REST2_4_0_gender_0.pt\n",
      "0.8555858699252973\n",
      "lambda_1.0_REST1_1_0_gender_0.pt\n",
      "lambda_1.0_REST1_0_0_gender_0.pt\n",
      "0.9797678092357609\n",
      "lambda_1.0_REST1_1_0_gender_0.pt\n",
      "lambda_1.0_REST1_2_0_gender_0.pt\n",
      "0.9457157631257186\n",
      "lambda_1.0_REST1_1_0_gender_0.pt\n",
      "lambda_1.0_REST1_3_0_gender_0.pt\n",
      "0.9770302786581744\n",
      "lambda_1.0_REST1_1_0_gender_0.pt\n",
      "lambda_1.0_REST1_4_0_gender_0.pt\n",
      "0.9390653201074977\n",
      "lambda_1.0_REST1_1_0_gender_0.pt\n",
      "lambda_1.0_REST1_0_0_gender_0.pt\n",
      "0.9797678092357609\n",
      "lambda_1.0_REST1_1_0_gender_0.pt\n",
      "lambda_1.0_REST1_2_0_gender_0.pt\n",
      "0.9457157631257186\n",
      "lambda_1.0_REST1_1_0_gender_0.pt\n",
      "lambda_1.0_REST1_3_0_gender_0.pt\n",
      "0.9770302786581744\n",
      "lambda_1.0_REST1_1_0_gender_0.pt\n",
      "lambda_1.0_REST1_4_0_gender_0.pt\n",
      "0.9390653201074977\n",
      "lambda_1.0_REST1_1_0_gender_0.pt\n",
      "lambda_1.0_REST2_0_0_gender_0.pt\n",
      "0.9840086438511417\n",
      "lambda_1.0_REST1_1_0_gender_0.pt\n",
      "lambda_1.0_REST2_1_0_gender_0.pt\n",
      "0.9519712132794762\n",
      "lambda_1.0_REST1_1_0_gender_0.pt\n",
      "lambda_1.0_REST2_2_0_gender_0.pt\n",
      "0.8859201468542461\n",
      "lambda_1.0_REST1_1_0_gender_0.pt\n",
      "lambda_1.0_REST2_3_0_gender_0.pt\n",
      "0.934272197449797\n",
      "lambda_1.0_REST1_1_0_gender_0.pt\n",
      "lambda_1.0_REST2_4_0_gender_0.pt\n",
      "0.9644527780458434\n",
      "lambda_1.0_REST1_1_0_gender_0.pt\n",
      "lambda_1.0_REST2_0_0_gender_0.pt\n",
      "0.9840086438511417\n",
      "lambda_1.0_REST1_1_0_gender_0.pt\n",
      "lambda_1.0_REST2_1_0_gender_0.pt\n",
      "0.9519712132794762\n",
      "lambda_1.0_REST1_1_0_gender_0.pt\n",
      "lambda_1.0_REST2_2_0_gender_0.pt\n",
      "0.8859201468542461\n",
      "lambda_1.0_REST1_1_0_gender_0.pt\n",
      "lambda_1.0_REST2_3_0_gender_0.pt\n",
      "0.934272197449797\n",
      "lambda_1.0_REST1_1_0_gender_0.pt\n",
      "lambda_1.0_REST2_4_0_gender_0.pt\n",
      "0.9644527780458434\n",
      "lambda_1.0_REST1_2_0_gender_0.pt\n",
      "lambda_1.0_REST1_0_0_gender_0.pt\n",
      "0.6732225992912227\n",
      "lambda_1.0_REST1_2_0_gender_0.pt\n",
      "lambda_1.0_REST1_1_0_gender_0.pt\n",
      "0.9082534537020309\n",
      "lambda_1.0_REST1_2_0_gender_0.pt\n",
      "lambda_1.0_REST1_3_0_gender_0.pt\n",
      "0.6066915929757731\n",
      "lambda_1.0_REST1_2_0_gender_0.pt\n",
      "lambda_1.0_REST1_4_0_gender_0.pt\n",
      "0.2562521095477216\n",
      "lambda_1.0_REST1_2_0_gender_0.pt\n",
      "lambda_1.0_REST1_0_0_gender_0.pt\n",
      "0.6732225992912227\n",
      "lambda_1.0_REST1_2_0_gender_0.pt\n",
      "lambda_1.0_REST1_1_0_gender_0.pt\n",
      "0.9082534537020309\n",
      "lambda_1.0_REST1_2_0_gender_0.pt\n",
      "lambda_1.0_REST1_3_0_gender_0.pt\n",
      "0.6066915929757731\n",
      "lambda_1.0_REST1_2_0_gender_0.pt\n",
      "lambda_1.0_REST1_4_0_gender_0.pt\n",
      "0.2562521095477216\n",
      "lambda_1.0_REST1_2_0_gender_0.pt\n",
      "lambda_1.0_REST2_0_0_gender_0.pt\n",
      "0.9397734566504028\n",
      "lambda_1.0_REST1_2_0_gender_0.pt\n",
      "lambda_1.0_REST2_1_0_gender_0.pt\n",
      "0.9715596145941816\n",
      "lambda_1.0_REST1_2_0_gender_0.pt\n",
      "lambda_1.0_REST2_2_0_gender_0.pt\n",
      "0.093854202551355\n",
      "lambda_1.0_REST1_2_0_gender_0.pt\n",
      "lambda_1.0_REST2_3_0_gender_0.pt\n",
      "0.9700493947234666\n",
      "lambda_1.0_REST1_2_0_gender_0.pt\n",
      "lambda_1.0_REST2_4_0_gender_0.pt\n",
      "0.9691957221525412\n",
      "lambda_1.0_REST1_2_0_gender_0.pt\n",
      "lambda_1.0_REST2_0_0_gender_0.pt\n",
      "0.9397734566504028\n",
      "lambda_1.0_REST1_2_0_gender_0.pt\n",
      "lambda_1.0_REST2_1_0_gender_0.pt\n",
      "0.9715596145941816\n",
      "lambda_1.0_REST1_2_0_gender_0.pt\n",
      "lambda_1.0_REST2_2_0_gender_0.pt\n",
      "0.093854202551355\n",
      "lambda_1.0_REST1_2_0_gender_0.pt\n",
      "lambda_1.0_REST2_3_0_gender_0.pt\n",
      "0.9700493947234666\n",
      "lambda_1.0_REST1_2_0_gender_0.pt\n",
      "lambda_1.0_REST2_4_0_gender_0.pt\n",
      "0.9691957221525412\n",
      "lambda_1.0_REST1_3_0_gender_0.pt\n",
      "lambda_1.0_REST1_0_0_gender_0.pt\n",
      "0.9941442814688783\n",
      "lambda_1.0_REST1_3_0_gender_0.pt\n",
      "lambda_1.0_REST1_1_0_gender_0.pt\n",
      "0.9693494965015585\n",
      "lambda_1.0_REST1_3_0_gender_0.pt\n",
      "lambda_1.0_REST1_2_0_gender_0.pt\n",
      "0.7332596143829971\n",
      "lambda_1.0_REST1_3_0_gender_0.pt\n",
      "lambda_1.0_REST1_4_0_gender_0.pt\n",
      "0.9850855199124041\n",
      "lambda_1.0_REST1_3_0_gender_0.pt\n",
      "lambda_1.0_REST1_0_0_gender_0.pt\n",
      "0.9941442814688783\n",
      "lambda_1.0_REST1_3_0_gender_0.pt\n",
      "lambda_1.0_REST1_1_0_gender_0.pt\n",
      "0.9693494965015585\n",
      "lambda_1.0_REST1_3_0_gender_0.pt\n",
      "lambda_1.0_REST1_2_0_gender_0.pt\n",
      "0.7332596143829971\n",
      "lambda_1.0_REST1_3_0_gender_0.pt\n",
      "lambda_1.0_REST1_4_0_gender_0.pt\n",
      "0.9850855199124041\n",
      "lambda_1.0_REST1_3_0_gender_0.pt\n",
      "lambda_1.0_REST2_0_0_gender_0.pt\n",
      "0.9212766153714489\n",
      "lambda_1.0_REST1_3_0_gender_0.pt\n",
      "lambda_1.0_REST2_1_0_gender_0.pt\n",
      "0.7901425236093192\n",
      "lambda_1.0_REST1_3_0_gender_0.pt\n",
      "lambda_1.0_REST2_2_0_gender_0.pt\n",
      "0.9718111296940595\n",
      "lambda_1.0_REST1_3_0_gender_0.pt\n",
      "lambda_1.0_REST2_3_0_gender_0.pt\n",
      "0.7229473699791064\n",
      "lambda_1.0_REST1_3_0_gender_0.pt\n",
      "lambda_1.0_REST2_4_0_gender_0.pt\n",
      "0.8346275990732748\n",
      "lambda_1.0_REST1_3_0_gender_0.pt\n",
      "lambda_1.0_REST2_0_0_gender_0.pt\n",
      "0.9212766153714489\n",
      "lambda_1.0_REST1_3_0_gender_0.pt\n",
      "lambda_1.0_REST2_1_0_gender_0.pt\n",
      "0.7901425236093192\n",
      "lambda_1.0_REST1_3_0_gender_0.pt\n",
      "lambda_1.0_REST2_2_0_gender_0.pt\n",
      "0.9718111296940595\n",
      "lambda_1.0_REST1_3_0_gender_0.pt\n",
      "lambda_1.0_REST2_3_0_gender_0.pt\n",
      "0.7229473699791064\n",
      "lambda_1.0_REST1_3_0_gender_0.pt\n",
      "lambda_1.0_REST2_4_0_gender_0.pt\n",
      "0.8346275990732748\n",
      "lambda_1.0_REST1_4_0_gender_0.pt\n",
      "lambda_1.0_REST1_0_0_gender_0.pt\n",
      "0.9612012217188941\n",
      "lambda_1.0_REST1_4_0_gender_0.pt\n",
      "lambda_1.0_REST1_1_0_gender_0.pt\n",
      "0.8483387165119475\n",
      "lambda_1.0_REST1_4_0_gender_0.pt\n",
      "lambda_1.0_REST1_2_0_gender_0.pt\n",
      "0.23381965636842963\n",
      "lambda_1.0_REST1_4_0_gender_0.pt\n",
      "lambda_1.0_REST1_3_0_gender_0.pt\n",
      "0.9703460580282628\n",
      "lambda_1.0_REST1_4_0_gender_0.pt\n",
      "lambda_1.0_REST1_0_0_gender_0.pt\n",
      "0.9612012217188941\n",
      "lambda_1.0_REST1_4_0_gender_0.pt\n",
      "lambda_1.0_REST1_1_0_gender_0.pt\n",
      "0.8483387165119475\n",
      "lambda_1.0_REST1_4_0_gender_0.pt\n",
      "lambda_1.0_REST1_2_0_gender_0.pt\n",
      "0.23381965636842963\n",
      "lambda_1.0_REST1_4_0_gender_0.pt\n",
      "lambda_1.0_REST1_3_0_gender_0.pt\n",
      "0.9703460580282628\n",
      "lambda_1.0_REST1_4_0_gender_0.pt\n",
      "lambda_1.0_REST2_0_0_gender_0.pt\n",
      "0.7371170714939146\n",
      "lambda_1.0_REST1_4_0_gender_0.pt\n",
      "lambda_1.0_REST2_1_0_gender_0.pt\n",
      "0.37116764404900876\n",
      "lambda_1.0_REST1_4_0_gender_0.pt\n",
      "lambda_1.0_REST2_2_0_gender_0.pt\n",
      "0.9802578133361253\n",
      "lambda_1.0_REST1_4_0_gender_0.pt\n",
      "lambda_1.0_REST2_3_0_gender_0.pt\n",
      "0.24983577115227332\n",
      "lambda_1.0_REST1_4_0_gender_0.pt\n",
      "lambda_1.0_REST2_4_0_gender_0.pt\n",
      "0.4674618115761232\n",
      "lambda_1.0_REST1_4_0_gender_0.pt\n",
      "lambda_1.0_REST2_0_0_gender_0.pt\n",
      "0.7371170714939146\n",
      "lambda_1.0_REST1_4_0_gender_0.pt\n",
      "lambda_1.0_REST2_1_0_gender_0.pt\n",
      "0.37116764404900876\n",
      "lambda_1.0_REST1_4_0_gender_0.pt\n",
      "lambda_1.0_REST2_2_0_gender_0.pt\n",
      "0.9802578133361253\n",
      "lambda_1.0_REST1_4_0_gender_0.pt\n",
      "lambda_1.0_REST2_3_0_gender_0.pt\n",
      "0.24983577115227332\n",
      "lambda_1.0_REST1_4_0_gender_0.pt\n",
      "lambda_1.0_REST2_4_0_gender_0.pt\n",
      "0.4674618115761232\n",
      "lambda_1.0_REST2_0_0_gender_0.pt\n",
      "lambda_1.0_REST1_0_0_gender_0.pt\n",
      "0.9565096432802178\n",
      "lambda_1.0_REST2_0_0_gender_0.pt\n",
      "lambda_1.0_REST1_1_0_gender_0.pt\n",
      "0.9827132031597146\n",
      "lambda_1.0_REST2_0_0_gender_0.pt\n",
      "lambda_1.0_REST1_2_0_gender_0.pt\n",
      "0.9701344623179669\n",
      "lambda_1.0_REST2_0_0_gender_0.pt\n",
      "lambda_1.0_REST1_3_0_gender_0.pt\n",
      "0.9418333367168626\n",
      "lambda_1.0_REST2_0_0_gender_0.pt\n",
      "lambda_1.0_REST1_4_0_gender_0.pt\n",
      "0.8673554600305916\n",
      "lambda_1.0_REST2_0_0_gender_0.pt\n",
      "lambda_1.0_REST1_0_0_gender_0.pt\n",
      "0.9565096432802178\n",
      "lambda_1.0_REST2_0_0_gender_0.pt\n",
      "lambda_1.0_REST1_1_0_gender_0.pt\n",
      "0.9827132031597146\n",
      "lambda_1.0_REST2_0_0_gender_0.pt\n",
      "lambda_1.0_REST1_2_0_gender_0.pt\n",
      "0.9701344623179669\n",
      "lambda_1.0_REST2_0_0_gender_0.pt\n",
      "lambda_1.0_REST1_3_0_gender_0.pt\n",
      "0.9418333367168626\n",
      "lambda_1.0_REST2_0_0_gender_0.pt\n",
      "lambda_1.0_REST1_4_0_gender_0.pt\n",
      "0.8673554600305916\n"
     ]
    },
    {
     "name": "stdout",
     "output_type": "stream",
     "text": [
      "lambda_1.0_REST2_0_0_gender_0.pt\n",
      "lambda_1.0_REST2_1_0_gender_0.pt\n",
      "0.9814603633629411\n",
      "lambda_1.0_REST2_0_0_gender_0.pt\n",
      "lambda_1.0_REST2_2_0_gender_0.pt\n",
      "0.7804460785744479\n",
      "lambda_1.0_REST2_0_0_gender_0.pt\n",
      "lambda_1.0_REST2_3_0_gender_0.pt\n",
      "0.9677908034593041\n",
      "lambda_1.0_REST2_0_0_gender_0.pt\n",
      "lambda_1.0_REST2_4_0_gender_0.pt\n",
      "0.9847691380196181\n",
      "lambda_1.0_REST2_0_0_gender_0.pt\n",
      "lambda_1.0_REST2_1_0_gender_0.pt\n",
      "0.9814603633629411\n",
      "lambda_1.0_REST2_0_0_gender_0.pt\n",
      "lambda_1.0_REST2_2_0_gender_0.pt\n",
      "0.7804460785744479\n",
      "lambda_1.0_REST2_0_0_gender_0.pt\n",
      "lambda_1.0_REST2_3_0_gender_0.pt\n",
      "0.9677908034593041\n",
      "lambda_1.0_REST2_0_0_gender_0.pt\n",
      "lambda_1.0_REST2_4_0_gender_0.pt\n",
      "0.9847691380196181\n",
      "lambda_1.0_REST2_1_0_gender_0.pt\n",
      "lambda_1.0_REST1_0_0_gender_0.pt\n",
      "0.74007405545917\n",
      "lambda_1.0_REST2_1_0_gender_0.pt\n",
      "lambda_1.0_REST1_1_0_gender_0.pt\n",
      "0.9249534264240523\n",
      "lambda_1.0_REST2_1_0_gender_0.pt\n",
      "lambda_1.0_REST1_2_0_gender_0.pt\n",
      "0.9754262877851851\n",
      "lambda_1.0_REST2_1_0_gender_0.pt\n",
      "lambda_1.0_REST1_3_0_gender_0.pt\n",
      "0.6988009921216661\n",
      "lambda_1.0_REST2_1_0_gender_0.pt\n",
      "lambda_1.0_REST1_4_0_gender_0.pt\n",
      "0.3963488209624663\n",
      "lambda_1.0_REST2_1_0_gender_0.pt\n",
      "lambda_1.0_REST1_0_0_gender_0.pt\n",
      "0.74007405545917\n",
      "lambda_1.0_REST2_1_0_gender_0.pt\n",
      "lambda_1.0_REST1_1_0_gender_0.pt\n",
      "0.9249534264240523\n",
      "lambda_1.0_REST2_1_0_gender_0.pt\n",
      "lambda_1.0_REST1_2_0_gender_0.pt\n",
      "0.9754262877851851\n",
      "lambda_1.0_REST2_1_0_gender_0.pt\n",
      "lambda_1.0_REST1_3_0_gender_0.pt\n",
      "0.6988009921216661\n",
      "lambda_1.0_REST2_1_0_gender_0.pt\n",
      "lambda_1.0_REST1_4_0_gender_0.pt\n",
      "0.3963488209624663\n",
      "lambda_1.0_REST2_1_0_gender_0.pt\n",
      "lambda_1.0_REST2_0_0_gender_0.pt\n",
      "0.960573340282257\n",
      "lambda_1.0_REST2_1_0_gender_0.pt\n",
      "lambda_1.0_REST2_2_0_gender_0.pt\n",
      "0.16030773074323257\n",
      "lambda_1.0_REST2_1_0_gender_0.pt\n",
      "lambda_1.0_REST2_3_0_gender_0.pt\n",
      "0.9856558886992453\n",
      "lambda_1.0_REST2_1_0_gender_0.pt\n",
      "lambda_1.0_REST2_4_0_gender_0.pt\n",
      "0.9875541704168799\n",
      "lambda_1.0_REST2_1_0_gender_0.pt\n",
      "lambda_1.0_REST2_0_0_gender_0.pt\n",
      "0.960573340282257\n",
      "lambda_1.0_REST2_1_0_gender_0.pt\n",
      "lambda_1.0_REST2_2_0_gender_0.pt\n",
      "0.16030773074323257\n",
      "lambda_1.0_REST2_1_0_gender_0.pt\n",
      "lambda_1.0_REST2_3_0_gender_0.pt\n",
      "0.9856558886992453\n",
      "lambda_1.0_REST2_1_0_gender_0.pt\n",
      "lambda_1.0_REST2_4_0_gender_0.pt\n",
      "0.9875541704168799\n",
      "lambda_1.0_REST2_2_0_gender_0.pt\n",
      "lambda_1.0_REST1_0_0_gender_0.pt\n",
      "0.9322485676072366\n",
      "lambda_1.0_REST2_2_0_gender_0.pt\n",
      "lambda_1.0_REST1_1_0_gender_0.pt\n",
      "0.7692484127897703\n",
      "lambda_1.0_REST2_2_0_gender_0.pt\n",
      "lambda_1.0_REST1_2_0_gender_0.pt\n",
      "0.08817256560583353\n",
      "lambda_1.0_REST2_2_0_gender_0.pt\n",
      "lambda_1.0_REST1_3_0_gender_0.pt\n",
      "0.9445055197825635\n",
      "lambda_1.0_REST2_2_0_gender_0.pt\n",
      "lambda_1.0_REST1_4_0_gender_0.pt\n",
      "0.9758103099320607\n",
      "lambda_1.0_REST2_2_0_gender_0.pt\n",
      "lambda_1.0_REST1_0_0_gender_0.pt\n",
      "0.9322485676072366\n",
      "lambda_1.0_REST2_2_0_gender_0.pt\n",
      "lambda_1.0_REST1_1_0_gender_0.pt\n",
      "0.7692484127897703\n",
      "lambda_1.0_REST2_2_0_gender_0.pt\n",
      "lambda_1.0_REST1_2_0_gender_0.pt\n",
      "0.08817256560583353\n",
      "lambda_1.0_REST2_2_0_gender_0.pt\n",
      "lambda_1.0_REST1_3_0_gender_0.pt\n",
      "0.9445055197825635\n",
      "lambda_1.0_REST2_2_0_gender_0.pt\n",
      "lambda_1.0_REST1_4_0_gender_0.pt\n",
      "0.9758103099320607\n",
      "lambda_1.0_REST2_2_0_gender_0.pt\n",
      "lambda_1.0_REST2_0_0_gender_0.pt\n",
      "0.6116998265441735\n",
      "lambda_1.0_REST2_2_0_gender_0.pt\n",
      "lambda_1.0_REST2_1_0_gender_0.pt\n",
      "0.14954923680323454\n",
      "lambda_1.0_REST2_2_0_gender_0.pt\n",
      "lambda_1.0_REST2_3_0_gender_0.pt\n",
      "0.021259408202897775\n",
      "lambda_1.0_REST2_2_0_gender_0.pt\n",
      "lambda_1.0_REST2_4_0_gender_0.pt\n",
      "0.26848817956693477\n",
      "lambda_1.0_REST2_2_0_gender_0.pt\n",
      "lambda_1.0_REST2_0_0_gender_0.pt\n",
      "0.6116998265441735\n",
      "lambda_1.0_REST2_2_0_gender_0.pt\n",
      "lambda_1.0_REST2_1_0_gender_0.pt\n",
      "0.14954923680323454\n",
      "lambda_1.0_REST2_2_0_gender_0.pt\n",
      "lambda_1.0_REST2_3_0_gender_0.pt\n",
      "0.021259408202897775\n",
      "lambda_1.0_REST2_2_0_gender_0.pt\n",
      "lambda_1.0_REST2_4_0_gender_0.pt\n",
      "0.26848817956693477\n",
      "lambda_1.0_REST2_3_0_gender_0.pt\n",
      "lambda_1.0_REST1_0_0_gender_0.pt\n",
      "0.636642201478354\n",
      "lambda_1.0_REST2_3_0_gender_0.pt\n",
      "lambda_1.0_REST1_1_0_gender_0.pt\n",
      "0.8913130065228991\n",
      "lambda_1.0_REST2_3_0_gender_0.pt\n",
      "lambda_1.0_REST1_2_0_gender_0.pt\n",
      "0.9712275883515189\n",
      "lambda_1.0_REST2_3_0_gender_0.pt\n",
      "lambda_1.0_REST1_3_0_gender_0.pt\n",
      "0.5823186027573828\n",
      "lambda_1.0_REST2_3_0_gender_0.pt\n",
      "lambda_1.0_REST1_4_0_gender_0.pt\n",
      "0.22648297645742213\n",
      "lambda_1.0_REST2_3_0_gender_0.pt\n",
      "lambda_1.0_REST1_0_0_gender_0.pt\n",
      "0.636642201478354\n",
      "lambda_1.0_REST2_3_0_gender_0.pt\n",
      "lambda_1.0_REST1_1_0_gender_0.pt\n",
      "0.8913130065228991\n",
      "lambda_1.0_REST2_3_0_gender_0.pt\n",
      "lambda_1.0_REST1_2_0_gender_0.pt\n",
      "0.9712275883515189\n",
      "lambda_1.0_REST2_3_0_gender_0.pt\n",
      "lambda_1.0_REST1_3_0_gender_0.pt\n",
      "0.5823186027573828\n",
      "lambda_1.0_REST2_3_0_gender_0.pt\n",
      "lambda_1.0_REST1_4_0_gender_0.pt\n",
      "0.22648297645742213\n",
      "lambda_1.0_REST2_3_0_gender_0.pt\n",
      "lambda_1.0_REST2_0_0_gender_0.pt\n",
      "0.9403066036218874\n",
      "lambda_1.0_REST2_3_0_gender_0.pt\n",
      "lambda_1.0_REST2_1_0_gender_0.pt\n",
      "0.9831704679634756\n",
      "lambda_1.0_REST2_3_0_gender_0.pt\n",
      "lambda_1.0_REST2_2_0_gender_0.pt\n",
      "-0.009702113094249617\n",
      "lambda_1.0_REST2_3_0_gender_0.pt\n",
      "lambda_1.0_REST2_4_0_gender_0.pt\n",
      "0.9741280514742074\n",
      "lambda_1.0_REST2_3_0_gender_0.pt\n",
      "lambda_1.0_REST2_0_0_gender_0.pt\n",
      "0.9403066036218874\n",
      "lambda_1.0_REST2_3_0_gender_0.pt\n",
      "lambda_1.0_REST2_1_0_gender_0.pt\n",
      "0.9831704679634756\n",
      "lambda_1.0_REST2_3_0_gender_0.pt\n",
      "lambda_1.0_REST2_2_0_gender_0.pt\n",
      "-0.009702113094249617\n",
      "lambda_1.0_REST2_3_0_gender_0.pt\n",
      "lambda_1.0_REST2_4_0_gender_0.pt\n",
      "0.9741280514742074\n",
      "lambda_1.0_REST2_4_0_gender_0.pt\n",
      "lambda_1.0_REST1_0_0_gender_0.pt\n",
      "0.8173167585913682\n",
      "lambda_1.0_REST2_4_0_gender_0.pt\n",
      "lambda_1.0_REST1_1_0_gender_0.pt\n",
      "0.9404434254380547\n",
      "lambda_1.0_REST2_4_0_gender_0.pt\n",
      "lambda_1.0_REST1_2_0_gender_0.pt\n",
      "0.9772677763757814\n",
      "lambda_1.0_REST2_4_0_gender_0.pt\n",
      "lambda_1.0_REST1_3_0_gender_0.pt\n",
      "0.7892849508484859\n",
      "lambda_1.0_REST2_4_0_gender_0.pt\n",
      "lambda_1.0_REST1_4_0_gender_0.pt\n",
      "0.5614885919057178\n",
      "lambda_1.0_REST2_4_0_gender_0.pt\n",
      "lambda_1.0_REST1_0_0_gender_0.pt\n",
      "0.8173167585913682\n",
      "lambda_1.0_REST2_4_0_gender_0.pt\n",
      "lambda_1.0_REST1_1_0_gender_0.pt\n",
      "0.9404434254380547\n",
      "lambda_1.0_REST2_4_0_gender_0.pt\n",
      "lambda_1.0_REST1_2_0_gender_0.pt\n",
      "0.9772677763757814\n",
      "lambda_1.0_REST2_4_0_gender_0.pt\n",
      "lambda_1.0_REST1_3_0_gender_0.pt\n",
      "0.7892849508484859\n",
      "lambda_1.0_REST2_4_0_gender_0.pt\n",
      "lambda_1.0_REST1_4_0_gender_0.pt\n",
      "0.5614885919057178\n",
      "lambda_1.0_REST2_4_0_gender_0.pt\n",
      "lambda_1.0_REST2_0_0_gender_0.pt\n",
      "0.9722435049311878\n",
      "lambda_1.0_REST2_4_0_gender_0.pt\n",
      "lambda_1.0_REST2_1_0_gender_0.pt\n",
      "0.9896945283920648\n",
      "lambda_1.0_REST2_4_0_gender_0.pt\n",
      "lambda_1.0_REST2_2_0_gender_0.pt\n",
      "0.3410658541627816\n",
      "lambda_1.0_REST2_4_0_gender_0.pt\n",
      "lambda_1.0_REST2_3_0_gender_0.pt\n",
      "0.9811833240553809\n",
      "lambda_1.0_REST2_4_0_gender_0.pt\n",
      "lambda_1.0_REST2_0_0_gender_0.pt\n",
      "0.9722435049311878\n",
      "lambda_1.0_REST2_4_0_gender_0.pt\n",
      "lambda_1.0_REST2_1_0_gender_0.pt\n",
      "0.9896945283920648\n",
      "lambda_1.0_REST2_4_0_gender_0.pt\n",
      "lambda_1.0_REST2_2_0_gender_0.pt\n",
      "0.3410658541627816\n",
      "lambda_1.0_REST2_4_0_gender_0.pt\n",
      "lambda_1.0_REST2_3_0_gender_0.pt\n",
      "0.9811833240553809\n",
      "lambda_1.0_REST2_0_0_gender_0.pt\n",
      "lambda_1.0_REST1_0_0_gender_0.pt\n",
      "0.9565096432802178\n",
      "lambda_1.0_REST2_0_0_gender_0.pt\n",
      "lambda_1.0_REST1_1_0_gender_0.pt\n",
      "0.9827132031597146\n",
      "lambda_1.0_REST2_0_0_gender_0.pt\n",
      "lambda_1.0_REST1_2_0_gender_0.pt\n",
      "0.9701344623179669\n",
      "lambda_1.0_REST2_0_0_gender_0.pt\n",
      "lambda_1.0_REST1_3_0_gender_0.pt\n",
      "0.9418333367168626\n",
      "lambda_1.0_REST2_0_0_gender_0.pt\n",
      "lambda_1.0_REST1_4_0_gender_0.pt\n",
      "0.8673554600305916\n",
      "lambda_1.0_REST2_0_0_gender_0.pt\n",
      "lambda_1.0_REST1_0_0_gender_0.pt\n",
      "0.9565096432802178\n",
      "lambda_1.0_REST2_0_0_gender_0.pt\n",
      "lambda_1.0_REST1_1_0_gender_0.pt\n",
      "0.9827132031597146\n",
      "lambda_1.0_REST2_0_0_gender_0.pt\n",
      "lambda_1.0_REST1_2_0_gender_0.pt\n",
      "0.9701344623179669\n",
      "lambda_1.0_REST2_0_0_gender_0.pt\n",
      "lambda_1.0_REST1_3_0_gender_0.pt\n",
      "0.9418333367168626\n",
      "lambda_1.0_REST2_0_0_gender_0.pt\n",
      "lambda_1.0_REST1_4_0_gender_0.pt\n",
      "0.8673554600305916\n",
      "lambda_1.0_REST2_0_0_gender_0.pt\n",
      "lambda_1.0_REST2_1_0_gender_0.pt\n",
      "0.9814603633629411\n",
      "lambda_1.0_REST2_0_0_gender_0.pt\n",
      "lambda_1.0_REST2_2_0_gender_0.pt\n",
      "0.7804460785744479\n",
      "lambda_1.0_REST2_0_0_gender_0.pt\n",
      "lambda_1.0_REST2_3_0_gender_0.pt\n",
      "0.9677908034593041\n",
      "lambda_1.0_REST2_0_0_gender_0.pt\n",
      "lambda_1.0_REST2_4_0_gender_0.pt\n",
      "0.9847691380196181\n",
      "lambda_1.0_REST2_0_0_gender_0.pt\n",
      "lambda_1.0_REST2_1_0_gender_0.pt\n",
      "0.9814603633629411\n",
      "lambda_1.0_REST2_0_0_gender_0.pt\n",
      "lambda_1.0_REST2_2_0_gender_0.pt\n",
      "0.7804460785744479\n",
      "lambda_1.0_REST2_0_0_gender_0.pt\n",
      "lambda_1.0_REST2_3_0_gender_0.pt\n",
      "0.9677908034593041\n",
      "lambda_1.0_REST2_0_0_gender_0.pt\n",
      "lambda_1.0_REST2_4_0_gender_0.pt\n",
      "0.9847691380196181\n",
      "lambda_1.0_REST2_1_0_gender_0.pt\n",
      "lambda_1.0_REST1_0_0_gender_0.pt\n",
      "0.74007405545917\n",
      "lambda_1.0_REST2_1_0_gender_0.pt\n",
      "lambda_1.0_REST1_1_0_gender_0.pt\n",
      "0.9249534264240523\n",
      "lambda_1.0_REST2_1_0_gender_0.pt\n",
      "lambda_1.0_REST1_2_0_gender_0.pt\n",
      "0.9754262877851851\n",
      "lambda_1.0_REST2_1_0_gender_0.pt\n",
      "lambda_1.0_REST1_3_0_gender_0.pt\n",
      "0.6988009921216661\n",
      "lambda_1.0_REST2_1_0_gender_0.pt\n",
      "lambda_1.0_REST1_4_0_gender_0.pt\n",
      "0.3963488209624663\n",
      "lambda_1.0_REST2_1_0_gender_0.pt\n",
      "lambda_1.0_REST1_0_0_gender_0.pt\n",
      "0.74007405545917\n",
      "lambda_1.0_REST2_1_0_gender_0.pt\n",
      "lambda_1.0_REST1_1_0_gender_0.pt\n",
      "0.9249534264240523\n",
      "lambda_1.0_REST2_1_0_gender_0.pt\n",
      "lambda_1.0_REST1_2_0_gender_0.pt\n",
      "0.9754262877851851\n",
      "lambda_1.0_REST2_1_0_gender_0.pt\n",
      "lambda_1.0_REST1_3_0_gender_0.pt\n",
      "0.6988009921216661\n",
      "lambda_1.0_REST2_1_0_gender_0.pt\n",
      "lambda_1.0_REST1_4_0_gender_0.pt\n",
      "0.3963488209624663\n",
      "lambda_1.0_REST2_1_0_gender_0.pt\n",
      "lambda_1.0_REST2_0_0_gender_0.pt\n",
      "0.960573340282257\n",
      "lambda_1.0_REST2_1_0_gender_0.pt\n",
      "lambda_1.0_REST2_2_0_gender_0.pt\n",
      "0.16030773074323257\n",
      "lambda_1.0_REST2_1_0_gender_0.pt\n",
      "lambda_1.0_REST2_3_0_gender_0.pt\n",
      "0.9856558886992453\n",
      "lambda_1.0_REST2_1_0_gender_0.pt\n",
      "lambda_1.0_REST2_4_0_gender_0.pt\n",
      "0.9875541704168799\n",
      "lambda_1.0_REST2_1_0_gender_0.pt\n",
      "lambda_1.0_REST2_0_0_gender_0.pt\n",
      "0.960573340282257\n",
      "lambda_1.0_REST2_1_0_gender_0.pt\n",
      "lambda_1.0_REST2_2_0_gender_0.pt\n",
      "0.16030773074323257\n",
      "lambda_1.0_REST2_1_0_gender_0.pt\n",
      "lambda_1.0_REST2_3_0_gender_0.pt\n",
      "0.9856558886992453\n",
      "lambda_1.0_REST2_1_0_gender_0.pt\n",
      "lambda_1.0_REST2_4_0_gender_0.pt\n",
      "0.9875541704168799\n",
      "lambda_1.0_REST2_2_0_gender_0.pt\n",
      "lambda_1.0_REST1_0_0_gender_0.pt\n",
      "0.9322485676072366\n",
      "lambda_1.0_REST2_2_0_gender_0.pt\n",
      "lambda_1.0_REST1_1_0_gender_0.pt\n",
      "0.7692484127897703\n",
      "lambda_1.0_REST2_2_0_gender_0.pt\n",
      "lambda_1.0_REST1_2_0_gender_0.pt\n",
      "0.08817256560583353\n",
      "lambda_1.0_REST2_2_0_gender_0.pt\n",
      "lambda_1.0_REST1_3_0_gender_0.pt\n",
      "0.9445055197825635\n",
      "lambda_1.0_REST2_2_0_gender_0.pt\n",
      "lambda_1.0_REST1_4_0_gender_0.pt\n",
      "0.9758103099320607\n",
      "lambda_1.0_REST2_2_0_gender_0.pt\n",
      "lambda_1.0_REST1_0_0_gender_0.pt\n",
      "0.9322485676072366\n",
      "lambda_1.0_REST2_2_0_gender_0.pt\n",
      "lambda_1.0_REST1_1_0_gender_0.pt\n",
      "0.7692484127897703\n",
      "lambda_1.0_REST2_2_0_gender_0.pt\n",
      "lambda_1.0_REST1_2_0_gender_0.pt\n",
      "0.08817256560583353\n",
      "lambda_1.0_REST2_2_0_gender_0.pt\n",
      "lambda_1.0_REST1_3_0_gender_0.pt\n",
      "0.9445055197825635\n",
      "lambda_1.0_REST2_2_0_gender_0.pt\n",
      "lambda_1.0_REST1_4_0_gender_0.pt\n",
      "0.9758103099320607\n",
      "lambda_1.0_REST2_2_0_gender_0.pt\n",
      "lambda_1.0_REST2_0_0_gender_0.pt\n",
      "0.6116998265441735\n",
      "lambda_1.0_REST2_2_0_gender_0.pt\n",
      "lambda_1.0_REST2_1_0_gender_0.pt\n",
      "0.14954923680323454\n",
      "lambda_1.0_REST2_2_0_gender_0.pt\n",
      "lambda_1.0_REST2_3_0_gender_0.pt\n",
      "0.021259408202897775\n",
      "lambda_1.0_REST2_2_0_gender_0.pt\n",
      "lambda_1.0_REST2_4_0_gender_0.pt\n",
      "0.26848817956693477\n",
      "lambda_1.0_REST2_2_0_gender_0.pt\n",
      "lambda_1.0_REST2_0_0_gender_0.pt\n",
      "0.6116998265441735\n",
      "lambda_1.0_REST2_2_0_gender_0.pt\n",
      "lambda_1.0_REST2_1_0_gender_0.pt\n",
      "0.14954923680323454\n",
      "lambda_1.0_REST2_2_0_gender_0.pt\n",
      "lambda_1.0_REST2_3_0_gender_0.pt\n",
      "0.021259408202897775\n",
      "lambda_1.0_REST2_2_0_gender_0.pt\n",
      "lambda_1.0_REST2_4_0_gender_0.pt\n",
      "0.26848817956693477\n",
      "lambda_1.0_REST2_3_0_gender_0.pt\n",
      "lambda_1.0_REST1_0_0_gender_0.pt\n",
      "0.636642201478354\n",
      "lambda_1.0_REST2_3_0_gender_0.pt\n",
      "lambda_1.0_REST1_1_0_gender_0.pt\n",
      "0.8913130065228991\n",
      "lambda_1.0_REST2_3_0_gender_0.pt\n",
      "lambda_1.0_REST1_2_0_gender_0.pt\n",
      "0.9712275883515189\n",
      "lambda_1.0_REST2_3_0_gender_0.pt\n",
      "lambda_1.0_REST1_3_0_gender_0.pt\n",
      "0.5823186027573828\n",
      "lambda_1.0_REST2_3_0_gender_0.pt\n",
      "lambda_1.0_REST1_4_0_gender_0.pt\n",
      "0.22648297645742213\n",
      "lambda_1.0_REST2_3_0_gender_0.pt\n",
      "lambda_1.0_REST1_0_0_gender_0.pt\n",
      "0.636642201478354\n",
      "lambda_1.0_REST2_3_0_gender_0.pt\n",
      "lambda_1.0_REST1_1_0_gender_0.pt\n",
      "0.8913130065228991\n",
      "lambda_1.0_REST2_3_0_gender_0.pt\n",
      "lambda_1.0_REST1_2_0_gender_0.pt\n",
      "0.9712275883515189\n",
      "lambda_1.0_REST2_3_0_gender_0.pt\n",
      "lambda_1.0_REST1_3_0_gender_0.pt\n",
      "0.5823186027573828\n",
      "lambda_1.0_REST2_3_0_gender_0.pt\n",
      "lambda_1.0_REST1_4_0_gender_0.pt\n",
      "0.22648297645742213\n",
      "lambda_1.0_REST2_3_0_gender_0.pt\n",
      "lambda_1.0_REST2_0_0_gender_0.pt\n",
      "0.9403066036218874\n",
      "lambda_1.0_REST2_3_0_gender_0.pt\n",
      "lambda_1.0_REST2_1_0_gender_0.pt\n",
      "0.9831704679634756\n",
      "lambda_1.0_REST2_3_0_gender_0.pt\n",
      "lambda_1.0_REST2_2_0_gender_0.pt\n",
      "-0.009702113094249617\n",
      "lambda_1.0_REST2_3_0_gender_0.pt\n",
      "lambda_1.0_REST2_4_0_gender_0.pt\n",
      "0.9741280514742074\n",
      "lambda_1.0_REST2_3_0_gender_0.pt\n",
      "lambda_1.0_REST2_0_0_gender_0.pt\n",
      "0.9403066036218874\n",
      "lambda_1.0_REST2_3_0_gender_0.pt\n",
      "lambda_1.0_REST2_1_0_gender_0.pt\n",
      "0.9831704679634756\n",
      "lambda_1.0_REST2_3_0_gender_0.pt\n",
      "lambda_1.0_REST2_2_0_gender_0.pt\n",
      "-0.009702113094249617\n",
      "lambda_1.0_REST2_3_0_gender_0.pt\n",
      "lambda_1.0_REST2_4_0_gender_0.pt\n",
      "0.9741280514742074\n",
      "lambda_1.0_REST2_4_0_gender_0.pt\n",
      "lambda_1.0_REST1_0_0_gender_0.pt\n",
      "0.8173167585913682\n",
      "lambda_1.0_REST2_4_0_gender_0.pt\n",
      "lambda_1.0_REST1_1_0_gender_0.pt\n",
      "0.9404434254380547\n",
      "lambda_1.0_REST2_4_0_gender_0.pt\n",
      "lambda_1.0_REST1_2_0_gender_0.pt\n",
      "0.9772677763757814\n",
      "lambda_1.0_REST2_4_0_gender_0.pt\n",
      "lambda_1.0_REST1_3_0_gender_0.pt\n",
      "0.7892849508484859\n",
      "lambda_1.0_REST2_4_0_gender_0.pt\n",
      "lambda_1.0_REST1_4_0_gender_0.pt\n",
      "0.5614885919057178\n",
      "lambda_1.0_REST2_4_0_gender_0.pt\n",
      "lambda_1.0_REST1_0_0_gender_0.pt\n",
      "0.8173167585913682\n",
      "lambda_1.0_REST2_4_0_gender_0.pt\n",
      "lambda_1.0_REST1_1_0_gender_0.pt\n",
      "0.9404434254380547\n",
      "lambda_1.0_REST2_4_0_gender_0.pt\n",
      "lambda_1.0_REST1_2_0_gender_0.pt\n",
      "0.9772677763757814\n",
      "lambda_1.0_REST2_4_0_gender_0.pt\n",
      "lambda_1.0_REST1_3_0_gender_0.pt\n",
      "0.7892849508484859\n",
      "lambda_1.0_REST2_4_0_gender_0.pt\n",
      "lambda_1.0_REST1_4_0_gender_0.pt\n",
      "0.5614885919057178\n",
      "lambda_1.0_REST2_4_0_gender_0.pt\n",
      "lambda_1.0_REST2_0_0_gender_0.pt\n",
      "0.9722435049311878\n",
      "lambda_1.0_REST2_4_0_gender_0.pt\n",
      "lambda_1.0_REST2_1_0_gender_0.pt\n",
      "0.9896945283920648\n",
      "lambda_1.0_REST2_4_0_gender_0.pt\n",
      "lambda_1.0_REST2_2_0_gender_0.pt\n",
      "0.3410658541627816\n",
      "lambda_1.0_REST2_4_0_gender_0.pt\n",
      "lambda_1.0_REST2_3_0_gender_0.pt\n",
      "0.9811833240553809\n",
      "lambda_1.0_REST2_4_0_gender_0.pt\n",
      "lambda_1.0_REST2_0_0_gender_0.pt\n",
      "0.9722435049311878\n",
      "lambda_1.0_REST2_4_0_gender_0.pt\n",
      "lambda_1.0_REST2_1_0_gender_0.pt\n",
      "0.9896945283920648\n",
      "lambda_1.0_REST2_4_0_gender_0.pt\n",
      "lambda_1.0_REST2_2_0_gender_0.pt\n",
      "0.3410658541627816\n",
      "lambda_1.0_REST2_4_0_gender_0.pt\n",
      "lambda_1.0_REST2_3_0_gender_0.pt\n",
      "0.9811833240553809\n"
     ]
    }
   ],
   "source": [
    "splits = 5\n",
    "halfs = [0, 1]\n",
    "genders = [0, 1]\n",
    "half = 0\n",
    "gender = 0\n",
    "lambda_ = 1.0\n",
    "\n",
    "# corr_mat = np.ones((splits * 4, splits * 4))\n",
    "corrs = []\n",
    "\n",
    "row = 0\n",
    "for session_i in ['REST1', 'REST2']:\n",
    "    for half_i in halfs:\n",
    "        for i in range(splits):\n",
    "            file_i = 'lambda_%s_%s_%s_%s_gender_%s.pt' % (lambda_, session_i, i, half, gender)\n",
    "            weight_i = get_model_weight(file_i, sub_dir)[:, 0]\n",
    "            weight_i[np.where(np.abs(weight_i) < 0.04)] = 0\n",
    "            for session_j in ['REST1', 'REST2']:\n",
    "                for half_j in halfs:\n",
    "                    col = 0\n",
    "                    for j in range(splits):\n",
    "\n",
    "                        file_j = 'lambda_%s_%s_%s_%s_gender_%s.pt' % (lambda_, session_j, j, half, gender)\n",
    "                        if file_i == file_j:\n",
    "                            col += 1\n",
    "                            continue\n",
    "                        else:\n",
    "                            weight_j = get_model_weight(file_j, sub_dir)[:, 0]\n",
    "                            weight_j[np.where(np.abs(weight_i) < 0.04)] = 0\n",
    "                            corr, _ = pearsonr(weight_i, weight_j)\n",
    "#                             corr_mat[row, col] = corr\n",
    "                            corrs.append(corr)\n",
    "                            col += 1\n",
    "                            print(file_i)\n",
    "                            print(file_j)\n",
    "                            print(corr)\n",
    "            row += 1"
   ]
  },
  {
   "cell_type": "code",
   "execution_count": 16,
   "metadata": {},
   "outputs": [
    {
     "data": {
      "image/png": "[encoded data removed]",
      "text/plain": [
       "<Figure size 1080x864 with 2 Axes>"
      ]
     },
     "metadata": {
      "needs_background": "light"
     },
     "output_type": "display_data"
    }
   ],
   "source": [
    "sort_idx = (-1 * corr_mat[14, :]).argsort()\n",
    "fig, ax = plt.subplots(figsize=(15,12)) \n",
    "ax = sns.heatmap(corr_mat[sort_idx][:, sort_idx], vmin=-1, vmax=1, annot=True, cmap='RdBu')"
   ]
  },
  {
   "cell_type": "code",
   "execution_count": 120,
   "metadata": {},
   "outputs": [
    {
     "data": {
      "text/plain": [
       "array(['lambda_2.0_REST2_4_0_gender_1.pt',\n",
       "       'lambda_2.0_REST2_1_0_gender_1.pt',\n",
       "       'lambda_2.0_REST2_3_0_gender_1.pt',\n",
       "       'lambda_2.0_REST2_2_1_gender_1.pt',\n",
       "       'lambda_2.0_REST1_4_1_gender_1.pt',\n",
       "       'lambda_2.0_REST1_1_0_gender_1.pt',\n",
       "       'lambda_2.0_REST1_2_0_gender_1.pt',\n",
       "       'lambda_2.0_REST1_2_1_gender_1.pt',\n",
       "       'lambda_2.0_REST2_4_1_gender_1.pt',\n",
       "       'lambda_2.0_REST1_4_0_gender_1.pt',\n",
       "       'lambda_2.0_REST1_0_0_gender_1.pt',\n",
       "       'lambda_2.0_REST1_3_0_gender_1.pt',\n",
       "       'lambda_2.0_REST1_1_1_gender_1.pt',\n",
       "       'lambda_2.0_REST2_2_0_gender_1.pt',\n",
       "       'lambda_2.0_REST1_0_1_gender_1.pt',\n",
       "       'lambda_2.0_REST1_3_1_gender_1.pt',\n",
       "       'lambda_2.0_REST2_3_1_gender_1.pt',\n",
       "       'lambda_2.0_REST2_1_1_gender_1.pt',\n",
       "       'lambda_2.0_REST2_0_0_gender_1.pt',\n",
       "       'lambda_2.0_REST2_0_1_gender_1.pt'], dtype='<U32')"
      ]
     },
     "execution_count": 120,
     "metadata": {},
     "output_type": "execute_result"
    }
   ],
   "source": [
    "np.asarray(file_names)[sort_idx]"
   ]
  },
  {
   "cell_type": "code",
   "execution_count": 17,
   "metadata": {},
   "outputs": [
    {
     "name": "stdout",
     "output_type": "stream",
     "text": [
      "lambda_0.0_REST2_4_0_gender_0.pt\n",
      "lambda_0.0_REST2_3_0_gender_0.pt\n",
      "lambda_0.0_REST2_2_0_gender_0.pt\n",
      "lambda_0.0_REST2_1_0_gender_0.pt\n",
      "lambda_0.0_REST2_0_1_gender_0.pt\n",
      "lambda_0.0_REST2_0_0_gender_0.pt\n",
      "lambda_0.0_REST2_2_1_gender_0.pt\n",
      "lambda_0.0_REST2_1_1_gender_0.pt\n",
      "lambda_0.0_REST2_3_1_gender_0.pt\n",
      "lambda_0.0_REST1_3_0_gender_0.pt\n",
      "lambda_0.0_REST1_0_1_gender_0.pt\n",
      "lambda_0.0_REST1_2_1_gender_0.pt\n",
      "lambda_0.0_REST1_1_0_gender_0.pt\n",
      "lambda_0.0_REST1_3_1_gender_0.pt\n",
      "lambda_0.0_REST1_4_1_gender_0.pt\n",
      "lambda_0.0_REST1_1_1_gender_0.pt\n",
      "lambda_0.0_REST1_0_0_gender_0.pt\n",
      "lambda_0.0_REST1_2_0_gender_0.pt\n",
      "lambda_0.0_REST1_4_0_gender_0.pt\n",
      "lambda_0.0_REST2_4_1_gender_0.pt\n"
     ]
    }
   ],
   "source": [
    "weight = []\n",
    "for model_file in np.asarray(file_names)[sort_idx]:\n",
    "    print(model_file)\n",
    "    w_ = get_model_weight(model_file, sub_dir)[:, 0].reshape(1, -1)\n",
    "    weight.append(w_)\n",
    "\n",
    "weight = np.concatenate(weight)\n",
    "w_mean = np.mean(weight, axis=0)"
   ]
  },
  {
   "cell_type": "code",
   "execution_count": 13,
   "metadata": {},
   "outputs": [],
   "source": [
    "# weight = {\"REST1_0\"}\n",
    "models = [\"REST1_0\", \"REST1_1\", \"REST2_0\", \"REST2_1\"]\n",
    "mdic = dict()\n",
    "for model in models:\n",
    "    mdic[model] = get_model_weight(\"model_%s.pt\" % model, \"D:\\ShareFolder\\BNA\\Result\")[:, 0].reshape(1, -1)\n"
   ]
  },
  {
   "cell_type": "code",
   "execution_count": 11,
   "metadata": {},
   "outputs": [
    {
     "data": {
      "text/plain": [
       "{'REST1_0': array([[ 0.05619045,  0.08969803,  0.01697333, ...,  0.02476346,\n",
       "         -0.00053791,  0.00060103]], dtype=float32),\n",
       " 'REST1_1': array([[ 0.05837349,  0.0556205 ,  0.00193159, ...,  0.00930105,\n",
       "         -0.00375327, -0.0121294 ]], dtype=float32),\n",
       " 'REST2_0': array([[ 0.05998529, -0.02345737, -0.08157925, ..., -0.03417065,\n",
       "         -0.05096567, -0.01382918]], dtype=float32),\n",
       " 'REST2_1': array([[ 0.0723104 , -0.01946526, -0.09715977, ..., -0.0357911 ,\n",
       "         -0.0413949 , -0.0093546 ]], dtype=float32)}"
      ]
     },
     "execution_count": 11,
     "metadata": {},
     "output_type": "execute_result"
    }
   ],
   "source": [
    "mdic"
   ]
  },
  {
   "cell_type": "code",
   "execution_count": 18,
   "metadata": {},
   "outputs": [
    {
     "data": {
      "text/plain": [
       "(20, 7503)"
      ]
     },
     "execution_count": 18,
     "metadata": {},
     "output_type": "execute_result"
    }
   ],
   "source": [
    "weight.shape"
   ]
  },
  {
   "cell_type": "code",
   "execution_count": 123,
   "metadata": {},
   "outputs": [
    {
     "data": {
      "text/plain": [
       "numpy.ndarray"
      ]
     },
     "execution_count": 123,
     "metadata": {},
     "output_type": "execute_result"
    }
   ],
   "source": [
    "type(weight)"
   ]
  },
  {
   "cell_type": "code",
   "execution_count": 7,
   "metadata": {},
   "outputs": [],
   "source": [
    "from scipy.io import savemat"
   ]
  },
  {
   "cell_type": "code",
   "execution_count": 14,
   "metadata": {},
   "outputs": [],
   "source": [
    "# mdic = {\"weights\": weights}\n",
    "savemat(\"model_weights.mat\", mdic)"
   ]
  },
  {
   "cell_type": "code",
   "execution_count": 125,
   "metadata": {},
   "outputs": [],
   "source": [
    "savemat(\"matlab_matrix.mat\", mdic)"
   ]
  },
  {
   "cell_type": "code",
   "execution_count": 58,
   "metadata": {},
   "outputs": [],
   "source": [
    "w2 = get_model_weight(model_file, sub_dir)[:, 1]"
   ]
  },
  {
   "cell_type": "code",
   "execution_count": 108,
   "metadata": {},
   "outputs": [],
   "source": [
    "pred = torch.sigmoid(torch.from_numpy(np.dot(x, w_mean))).numpy()\n",
    "y_pred = prob2label(pred)"
   ]
  },
  {
   "cell_type": "code",
   "execution_count": 102,
   "metadata": {},
   "outputs": [],
   "source": [
    "pred_ = torch.sigmoid(torch.from_numpy(np.dot(x, w1))).numpy()"
   ]
  },
  {
   "cell_type": "code",
   "execution_count": 62,
   "metadata": {},
   "outputs": [
    {
     "data": {
      "text/plain": [
       "array([0.19092312, 0.938666  , 0.04380769, ..., 0.02266825, 0.2393961 ,\n",
       "       0.0981056 ])"
      ]
     },
     "execution_count": 62,
     "metadata": {},
     "output_type": "execute_result"
    }
   ],
   "source": [
    "pred_"
   ]
  },
  {
   "cell_type": "code",
   "execution_count": 59,
   "metadata": {},
   "outputs": [],
   "source": [
    "pred = torch.sigmoid(torch.from_numpy(np.dot(x, w2))).numpy()"
   ]
  },
  {
   "cell_type": "code",
   "execution_count": 60,
   "metadata": {},
   "outputs": [
    {
     "data": {
      "text/plain": [
       "array([9.15256417e-01, 1.75434251e-04, 9.96646187e-01, ...,\n",
       "       9.98154864e-01, 5.61346203e-02, 9.75472673e-01])"
      ]
     },
     "execution_count": 60,
     "metadata": {},
     "output_type": "execute_result"
    }
   ],
   "source": [
    "pred"
   ]
  },
  {
   "cell_type": "code",
   "execution_count": 63,
   "metadata": {},
   "outputs": [
    {
     "data": {
      "text/plain": [
       "array([1.10617954, 0.93884144, 1.04045388, ..., 1.02082312, 0.29553072,\n",
       "       1.07357827])"
      ]
     },
     "execution_count": 63,
     "metadata": {},
     "output_type": "execute_result"
    }
   ],
   "source": [
    "pred + pred_"
   ]
  },
  {
   "cell_type": "code",
   "execution_count": null,
   "metadata": {},
   "outputs": [],
   "source": [
    "pred_ = torch.sigmoid(torch.from_numpy(np.dot(x, weight[2]))).numpy()"
   ]
  },
  {
   "cell_type": "code",
   "execution_count": 109,
   "metadata": {},
   "outputs": [
    {
     "name": "stdout",
     "output_type": "stream",
     "text": [
      "0.7158081705150977\n",
      "0.9595744680851064\n"
     ]
    }
   ],
   "source": [
    "print(accuracy_score(y[idx_female], y_pred[idx_female]))\n",
    "print(accuracy_score(y[idx_male], y_pred[idx_male]))"
   ]
  },
  {
   "cell_type": "code",
   "execution_count": 118,
   "metadata": {},
   "outputs": [
    {
     "data": {
      "image/png": "[encoded data removed]",
      "text/plain": [
       "<Figure size 1080x864 with 2 Axes>"
      ]
     },
     "metadata": {
      "needs_background": "light"
     },
     "output_type": "display_data"
    }
   ],
   "source": [
    "fig, ax = plt.subplots(figsize=(15,12)) \n",
    "ax = sns.heatmap(corr_mat, vmin=-1, vmax=1, annot=True, cmap='RdBu')"
   ]
  },
  {
   "cell_type": "code",
   "execution_count": 2,
   "metadata": {},
   "outputs": [],
   "source": [
    "def prob2label(prob):\n",
    "    prob_ = prob.copy()\n",
    "    prob_[np.where(prob<0.5)] = 0\n",
    "    prob_[np.where(prob>0.5)] = 1\n",
    "    return prob_"
   ]
  },
  {
   "cell_type": "code",
   "execution_count": 3,
   "metadata": {},
   "outputs": [],
   "source": [
    "def get_model_weight(file_name, file_dir):\n",
    "    file_path = os.path.join(file_dir, file_name)\n",
    "    model = torch.load(file_path)\n",
    "    return model.model.weight.data.numpy().T"
   ]
  },
  {
   "cell_type": "code",
   "execution_count": 4,
   "metadata": {},
   "outputs": [],
   "source": [
    "def weight_threshold(w, threshold):\n",
    "    w_new = w.copy()\n",
    "    w_new[np.where(np.abs(w)<threshold)] = 0\n",
    "    return w_new"
   ]
  },
  {
   "cell_type": "code",
   "execution_count": 110,
   "metadata": {},
   "outputs": [
    {
     "data": {
      "image/png": "[encoded data removed]",
      "text/plain": [
       "<Figure size 432x288 with 1 Axes>"
      ]
     },
     "metadata": {
      "needs_background": "light"
     },
     "output_type": "display_data"
    }
   ],
   "source": [
    "splits = 5\n",
    "halfs = [0, 1]\n",
    "genders = [0, 1]\n",
    "half = 0\n",
    "gender = 1\n",
    "lambda_ = 1.0\n",
    "weights = []\n",
    "for session_i in ['REST1', 'REST2']:\n",
    "    for half_i in halfs:\n",
    "        for i in range(splits):\n",
    "#             file_i = 'lambda_%s_%s_%s_%s_gender_%s.pt' % (lambda_, session_i, i, half_i, gender)\n",
    "            file_i = 'lambda_%s_%s_%s_%s_gender_%s.pt' % (lambda_, session_i, i, half_i, gender)\n",
    "            weight = get_model_weight(file_i, sub_dir)\n",
    "            weights.append(weight[:, 0])\n",
    "#             plt.hist(weight, bins=100)\n",
    "#             plt.show()\n",
    "weights = np.concatenate(weights)\n",
    "plt.hist(weights, bins=200)\n",
    "plt.show()"
   ]
  },
  {
   "cell_type": "code",
   "execution_count": 114,
   "metadata": {},
   "outputs": [],
   "source": [
    "sub_dir = '/media/shuoz/MyDrive/HCP/BNA/Results/Sub_Half'\n",
    "\n",
    "splits = 5\n",
    "halfs = [0, 1]\n",
    "genders = [0, 1]\n",
    "half = 0\n",
    "gender = 1\n",
    "lambda_ = 1.0\n",
    "weights = []\n",
    "for session_i in ['REST1', 'REST2']:\n",
    "    for half_i in halfs:\n",
    "        for i in range(splits):\n",
    "            file_i = 'lambda_%s_%s_%s_%s_gender_%s.pt' % (lambda_, session_i, i, half_i, gender)\n",
    "            weight = get_model_weight(file_i, sub_dir)\n",
    "            weights.append(weight[:, 0].reshape(1, -1))\n",
    "weights = np.concatenate(weights)"
   ]
  },
  {
   "cell_type": "code",
   "execution_count": 115,
   "metadata": {},
   "outputs": [],
   "source": [
    "weights_mean = np.mean(weights, axis=0)\n",
    "w_std = np.std(weights, axis=0)"
   ]
  },
  {
   "cell_type": "code",
   "execution_count": 12,
   "metadata": {},
   "outputs": [],
   "source": [
    "weights_mean_thre = weights_mean.copy()\n",
    "weights_mean_thre[np.where(np.abs(weights_mean_thre)<0.022)] = 0"
   ]
  },
  {
   "cell_type": "code",
   "execution_count": 40,
   "metadata": {},
   "outputs": [],
   "source": [
    "w_mean_thre = weights_mean.copy()\n",
    "w_mean_thre[np.where(np.abs(w_std)>0.003)] = 0"
   ]
  },
  {
   "cell_type": "code",
   "execution_count": 116,
   "metadata": {},
   "outputs": [
    {
     "data": {
      "text/plain": [
       "(7503,)"
      ]
     },
     "execution_count": 116,
     "metadata": {},
     "output_type": "execute_result"
    }
   ],
   "source": [
    "w_std.shape"
   ]
  },
  {
   "cell_type": "code",
   "execution_count": 117,
   "metadata": {},
   "outputs": [
    {
     "data": {
      "image/png": "[encoded data removed]",
      "text/plain": [
       "<Figure size 432x288 with 1 Axes>"
      ]
     },
     "metadata": {
      "needs_background": "light"
     },
     "output_type": "display_data"
    }
   ],
   "source": [
    "plt.hist(weights_mean, bins=50)\n",
    "plt.show()"
   ]
  },
  {
   "cell_type": "code",
   "execution_count": 121,
   "metadata": {},
   "outputs": [
    {
     "data": {
      "image/png": "[encoded data removed]",
      "text/plain": [
       "<Figure size 432x288 with 1 Axes>"
      ]
     },
     "metadata": {
      "needs_background": "light"
     },
     "output_type": "display_data"
    }
   ],
   "source": [
    "plt.hist(w_std, bins=50)\n",
    "plt.show()"
   ]
  },
  {
   "cell_type": "code",
   "execution_count": 118,
   "metadata": {},
   "outputs": [
    {
     "data": {
      "text/plain": [
       "array([-0.03214842, -0.01287848,  0.02396869, ...,  0.00867555,\n",
       "        0.0092159 ,  0.00412023], dtype=float32)"
      ]
     },
     "execution_count": 118,
     "metadata": {},
     "output_type": "execute_result"
    }
   ],
   "source": [
    "weights_mean"
   ]
  },
  {
   "cell_type": "code",
   "execution_count": 119,
   "metadata": {},
   "outputs": [
    {
     "data": {
      "text/plain": [
       "0.0102899475"
      ]
     },
     "execution_count": 119,
     "metadata": {},
     "output_type": "execute_result"
    }
   ],
   "source": [
    "np.std(weights_mean)"
   ]
  },
  {
   "cell_type": "code",
   "execution_count": null,
   "metadata": {},
   "outputs": [],
   "source": [
    "plt.hist(weights_mean, bins=50)\n",
    "plt.show()"
   ]
  },
  {
   "cell_type": "code",
   "execution_count": 120,
   "metadata": {},
   "outputs": [
    {
     "data": {
      "text/plain": [
       "0.0102899475"
      ]
     },
     "execution_count": 120,
     "metadata": {},
     "output_type": "execute_result"
    }
   ],
   "source": [
    "np.std(weights_mean)"
   ]
  },
  {
   "cell_type": "code",
   "execution_count": 41,
   "metadata": {},
   "outputs": [],
   "source": [
    "pred_mean_thre = torch.sigmoid(torch.from_numpy(np.dot(x, w_mean_thre))).numpy()\n",
    "pred_mean_thre_ = prob2label(pred_mean_thre)"
   ]
  },
  {
   "cell_type": "code",
   "execution_count": 42,
   "metadata": {},
   "outputs": [
    {
     "name": "stdout",
     "output_type": "stream",
     "text": [
      "0.8703374777975134\n",
      "0.8595744680851064\n"
     ]
    }
   ],
   "source": [
    "print(accuracy_score(y[idx_female], pred_mean_thre_[idx_female]))\n",
    "print(accuracy_score(y[idx_male], pred_mean_thre_[idx_male]))"
   ]
  },
  {
   "cell_type": "code",
   "execution_count": 56,
   "metadata": {},
   "outputs": [],
   "source": [
    "from _base import _pick_half\n",
    "from sklearn.preprocessing import label_binarize\n",
    "import torch\n",
    "import io_"
   ]
  },
  {
   "cell_type": "code",
   "execution_count": 21,
   "metadata": {},
   "outputs": [],
   "source": [
    "atlas = 'BNA'\n",
    "run_ = 'Fisherz'\n",
    "session = 'REST1'\n",
    "connection_type = 'intra'\n",
    "random_state = 144\n",
    "data_dir = \"/media/shuoz/MyDrive/HCP/%s/Proc\" % atlas\n",
    "out_dir = '/media/shuoz/MyDrive/HCP/%s/Results/Sub_Half_%s' % (atlas, run_)\n",
    "info_file = 'HCP_%s_half_brain_%s.csv' % (atlas, session)\n",
    "info = io_.read_table(os.path.join(data_dir, info_file), index_col='ID')\n",
    "data = io_.load_half_brain(data_dir, atlas, session, run_, connection_type)\n",
    "\n",
    "genders = info['gender'].values\n",
    "idx_male = np.where(genders == 0)[0]\n",
    "idx_female = np.where(genders == 1)[0]\n",
    "\n",
    "x, y, x1, y1 = _pick_half(data, random_state=random_state)\n",
    "\n",
    "y = label_binarize(y, classes=[-1, 1]).reshape(-1)\n",
    "y1 = label_binarize(y1, classes=[-1, 1]).reshape(-1)"
   ]
  },
  {
   "cell_type": "code",
   "execution_count": 96,
   "metadata": {},
   "outputs": [],
   "source": [
    "atlas = 'BNA'\n",
    "run_ = 'Fisherz'\n",
    "session = 'REST1'\n",
    "connection_type = 'intra'\n",
    "random_state = 144\n",
    "data_dir = \"/media/shuoz/MyDrive/data/HCP/%s/Proc\" % atlas\n",
    "info_file = 'HCP_%s_half_brain.csv' % (atlas)\n",
    "info = io_.read_table(os.path.join(data_dir, info_file), index_col='ID')\n",
    "data = io_.load_half_brain(data_dir, atlas, session, run_, connection_type)\n",
    "\n",
    "genders = info['gender'].values\n",
    "x, y, x1, y1 = _pick_half(data, random_state=random_state)\n",
    "\n",
    "y = label_binarize(y, classes=[-1, 1]).reshape(-1)\n",
    "y1 = label_binarize(y1, classes=[-1, 1]).reshape(-1)\n",
    "\n",
    "x = np.concatenate((x, x1))\n",
    "y = np.concatenate((y, y1))\n",
    "genders = np.concatenate((genders, genders))"
   ]
  },
  {
   "cell_type": "code",
   "execution_count": 119,
   "metadata": {},
   "outputs": [],
   "source": [
    "x_new = kbest.transform(x)"
   ]
  },
  {
   "cell_type": "code",
   "execution_count": 73,
   "metadata": {},
   "outputs": [],
   "source": [
    "idx_male = np.where(genders == 0)[0]\n",
    "idx_female = np.where(genders == 1)[0]"
   ]
  },
  {
   "cell_type": "code",
   "execution_count": 161,
   "metadata": {},
   "outputs": [
    {
     "name": "stdout",
     "output_type": "stream",
     "text": [
      "0.9728155339805825\n",
      "0.750561797752809\n"
     ]
    }
   ],
   "source": [
    "pred = torch.sigmoid(torch.from_numpy(np.dot(x, weight[20, :]))).numpy()\n",
    "pred = prob2label(pred)\n",
    "\n",
    "print(accuracy_score(y[idx_female], pred[idx_female]))\n",
    "print(accuracy_score(y[idx_male], pred[idx_male]))"
   ]
  },
  {
   "cell_type": "code",
   "execution_count": null,
   "metadata": {},
   "outputs": [],
   "source": []
  },
  {
   "cell_type": "code",
   "execution_count": 163,
   "metadata": {},
   "outputs": [],
   "source": [
    "prob1 = torch.sigmoid(torch.tensor(np.dot(x, weight[0, :])))"
   ]
  },
  {
   "cell_type": "code",
   "execution_count": 162,
   "metadata": {},
   "outputs": [],
   "source": [
    "prob2 = torch.sigmoid(torch.tensor(np.dot(x, weight[20, :])))"
   ]
  },
  {
   "cell_type": "code",
   "execution_count": 164,
   "metadata": {},
   "outputs": [],
   "source": [
    "corr, _ = pearsonr(x_mut, x_mut1)"
   ]
  },
  {
   "cell_type": "code",
   "execution_count": 165,
   "metadata": {},
   "outputs": [
    {
     "data": {
      "text/plain": [
       "0.9517090523045706"
      ]
     },
     "execution_count": 165,
     "metadata": {},
     "output_type": "execute_result"
    }
   ],
   "source": [
    "corr"
   ]
  },
  {
   "cell_type": "code",
   "execution_count": 166,
   "metadata": {},
   "outputs": [],
   "source": [
    "x_mut = np.multiply(x[0, :], weight[0, :])\n",
    "x_mut1 = np.multiply(x[0, :], weight[20, :])"
   ]
  },
  {
   "cell_type": "code",
   "execution_count": 167,
   "metadata": {},
   "outputs": [],
   "source": [
    "corr, _ = pearsonr(x_mut, x_mut1)"
   ]
  },
  {
   "cell_type": "code",
   "execution_count": 168,
   "metadata": {},
   "outputs": [
    {
     "data": {
      "text/plain": [
       "0.9517090523045706"
      ]
     },
     "execution_count": 168,
     "metadata": {},
     "output_type": "execute_result"
    }
   ],
   "source": [
    "corr"
   ]
  },
  {
   "cell_type": "code",
   "execution_count": 171,
   "metadata": {},
   "outputs": [
    {
     "data": {
      "text/plain": [
       "tensor(0.3680, dtype=torch.float64)"
      ]
     },
     "execution_count": 171,
     "metadata": {},
     "output_type": "execute_result"
    }
   ],
   "source": [
    "torch.mean(prob1)"
   ]
  },
  {
   "cell_type": "code",
   "execution_count": 172,
   "metadata": {},
   "outputs": [
    {
     "data": {
      "text/plain": [
       "tensor(0.6144, dtype=torch.float64)"
      ]
     },
     "execution_count": 172,
     "metadata": {},
     "output_type": "execute_result"
    }
   ],
   "source": [
    "torch.mean(prob2)"
   ]
  },
  {
   "cell_type": "code",
   "execution_count": 146,
   "metadata": {},
   "outputs": [
    {
     "data": {
      "text/plain": [
       "8.881784197001252e-16"
      ]
     },
     "execution_count": 146,
     "metadata": {},
     "output_type": "execute_result"
    }
   ],
   "source": [
    "np.sum(x_mut - np.mean(x_mut))"
   ]
  },
  {
   "cell_type": "code",
   "execution_count": 145,
   "metadata": {},
   "outputs": [
    {
     "data": {
      "text/plain": [
       "-2.220446049250313e-16"
      ]
     },
     "execution_count": 145,
     "metadata": {},
     "output_type": "execute_result"
    }
   ],
   "source": [
    "np.sum(x_mut1 - np.mean(x_mut1))"
   ]
  },
  {
   "cell_type": "code",
   "execution_count": null,
   "metadata": {},
   "outputs": [],
   "source": [
    "x = np.concatenate((data[\"Left\"], data[\"right\"]))\n",
    "y = np.concatenate"
   ]
  },
  {
   "cell_type": "code",
   "execution_count": 59,
   "metadata": {},
   "outputs": [
    {
     "data": {
      "text/plain": [
       "{'Left': array([[ 0.20013201,  0.22550814,  0.20978465, ...,  0.02067272,\n",
       "          0.06942118,  0.13551152],\n",
       "        [ 0.47472945,  0.48686923,  0.18978152, ...,  0.15823784,\n",
       "         -0.07016157,  0.09009802],\n",
       "        [ 0.15691818,  0.40881008, -0.00077462, ...,  0.36167258,\n",
       "          0.29791915,  0.22021039],\n",
       "        ...,\n",
       "        [ 0.14113485,  0.1070066 ,  0.49466546, ...,  0.48423024,\n",
       "          0.27000708,  0.19776193],\n",
       "        [ 0.05596349,  0.10104526,  0.0005844 , ...,  0.16334072,\n",
       "          0.07125245,  0.09117832],\n",
       "        [ 0.28478273, -0.10411799,  0.3449029 , ...,  0.09665885,\n",
       "          0.09595378,  0.02519962]]),\n",
       " 'Right': array([[-0.17148334,  0.12542581,  0.42379166, ...,  0.19978683,\n",
       "          0.21865633,  0.16346436],\n",
       "        [-0.01510535, -0.02911227,  0.45976214, ...,  0.14378414,\n",
       "          0.0817825 ,  0.09869288],\n",
       "        [-0.1224554 , -0.19111122,  0.46527117, ...,  0.35799027,\n",
       "          0.27486521,  0.28149029],\n",
       "        ...,\n",
       "        [-0.19204463, -0.41676402,  0.71955291, ...,  0.47815846,\n",
       "          0.37663269,  0.1598676 ],\n",
       "        [-0.46850518,  0.05046092,  0.40638401, ...,  0.01500153,\n",
       "          0.09689661,  0.0427098 ],\n",
       "        [-0.29391769, -0.05343763,  0.55690474, ...,  0.18661488,\n",
       "          0.08157342,  0.08494313]])}"
      ]
     },
     "execution_count": 59,
     "metadata": {},
     "output_type": "execute_result"
    }
   ],
   "source": [
    "data"
   ]
  },
  {
   "cell_type": "code",
   "execution_count": 136,
   "metadata": {},
   "outputs": [],
   "source": [
    "w1 = get_model_weight('lambda_1.0_REST1_3_0_gender_0.pt', sub_dir)[:, 0]\n",
    "w2 = get_model_weight('lambda_1.0_REST2_4_0_gender_0.pt', sub_dir)[:, 0]"
   ]
  },
  {
   "cell_type": "code",
   "execution_count": 155,
   "metadata": {},
   "outputs": [],
   "source": [
    "w1[np.where(np.abs(w1)<0.04)] = 0\n",
    "w2[np.where(np.abs(w2)<0.04)] = 0"
   ]
  },
  {
   "cell_type": "code",
   "execution_count": 156,
   "metadata": {},
   "outputs": [],
   "source": [
    "pred1 = torch.sigmoid(torch.from_numpy(np.dot(x, w1))).numpy()\n",
    "pred_1 = prob2label(pred1)\n",
    "\n",
    "pred2 = torch.sigmoid(torch.from_numpy(np.dot(x, w2))).numpy()\n",
    "pred_2 = prob2label(pred2)"
   ]
  },
  {
   "cell_type": "code",
   "execution_count": 147,
   "metadata": {},
   "outputs": [
    {
     "data": {
      "text/plain": [
       "tensor([0.1449, 0.9961, 0.0148,  ..., 0.0129, 0.8024, 0.0896],\n",
       "       dtype=torch.float64)"
      ]
     },
     "execution_count": 147,
     "metadata": {},
     "output_type": "execute_result"
    }
   ],
   "source": [
    "torch.sigmoid(torch.from_numpy(np.dot(x, w1)))"
   ]
  },
  {
   "cell_type": "code",
   "execution_count": 18,
   "metadata": {},
   "outputs": [],
   "source": []
  },
  {
   "cell_type": "code",
   "execution_count": 157,
   "metadata": {},
   "outputs": [
    {
     "name": "stdout",
     "output_type": "stream",
     "text": [
      "0.8383658969804618\n",
      "0.8042553191489362\n"
     ]
    }
   ],
   "source": [
    "print(accuracy_score(y[idx_female], pred_1[idx_female]))\n",
    "print(accuracy_score(y[idx_male], pred_1[idx_male]))"
   ]
  },
  {
   "cell_type": "code",
   "execution_count": 158,
   "metadata": {},
   "outputs": [
    {
     "name": "stdout",
     "output_type": "stream",
     "text": [
      "0.9360568383658969\n",
      "0.8659574468085106\n"
     ]
    }
   ],
   "source": [
    "print(accuracy_score(y[idx_female], pred_2[idx_female]))\n",
    "print(accuracy_score(y[idx_male], pred_2[idx_male]))"
   ]
  },
  {
   "cell_type": "code",
   "execution_count": 154,
   "metadata": {},
   "outputs": [
    {
     "name": "stdout",
     "output_type": "stream",
     "text": [
      "1.0\n",
      "1.0\n"
     ]
    }
   ],
   "source": [
    "print(accuracy_score(y[idx_female], pred_mean[idx_female]))\n",
    "print(accuracy_score(y[idx_male], pred_mean[idx_male]))"
   ]
  },
  {
   "cell_type": "code",
   "execution_count": 153,
   "metadata": {},
   "outputs": [],
   "source": [
    "pred_mean = torch.sigmoid(torch.from_numpy(np.dot(x, weights_mean))).numpy()\n",
    "pred_mean = prob2label(pred_mean)"
   ]
  },
  {
   "cell_type": "code",
   "execution_count": 130,
   "metadata": {},
   "outputs": [
    {
     "data": {
      "text/plain": [
       "tensor([0., 0., 0.,  ..., 0., 0., 0.], dtype=torch.float64)"
      ]
     },
     "execution_count": 130,
     "metadata": {},
     "output_type": "execute_result"
    }
   ],
   "source": [
    "pred_2"
   ]
  },
  {
   "cell_type": "code",
   "execution_count": 111,
   "metadata": {},
   "outputs": [
    {
     "data": {
      "text/plain": [
       "array([1, 0, 1, ..., 1, 1, 1])"
      ]
     },
     "execution_count": 111,
     "metadata": {},
     "output_type": "execute_result"
    }
   ],
   "source": [
    "y"
   ]
  },
  {
   "cell_type": "code",
   "execution_count": 112,
   "metadata": {},
   "outputs": [
    {
     "data": {
      "text/plain": [
       "tensor([0., 1., 0.,  ..., 0., 0., 0.], dtype=torch.float64)"
      ]
     },
     "execution_count": 112,
     "metadata": {},
     "output_type": "execute_result"
    }
   ],
   "source": [
    "pred_1"
   ]
  },
  {
   "cell_type": "code",
   "execution_count": 88,
   "metadata": {},
   "outputs": [],
   "source": [
    "weights_mean = np.mean(weights, axis=0)"
   ]
  },
  {
   "cell_type": "code",
   "execution_count": 65,
   "metadata": {},
   "outputs": [
    {
     "data": {
      "text/plain": [
       "0.00016119481"
      ]
     },
     "execution_count": 65,
     "metadata": {},
     "output_type": "execute_result"
    }
   ],
   "source": [
    "np.mean(weights)"
   ]
  },
  {
   "cell_type": "code",
   "execution_count": 66,
   "metadata": {},
   "outputs": [
    {
     "data": {
      "text/plain": [
       "0.021695133"
      ]
     },
     "execution_count": 66,
     "metadata": {},
     "output_type": "execute_result"
    }
   ],
   "source": [
    "np.std(weights)"
   ]
  },
  {
   "cell_type": "code",
   "execution_count": 50,
   "metadata": {},
   "outputs": [
    {
     "data": {
      "text/plain": [
       "(array([[ 0.,  0.,  0.,  1.,  0.,  0.,  1.,  1.,  2.,  2.,  0.,  0.,  0.,\n",
       "          0.,  1.,  0.,  1.,  0.,  1.,  0.,  0.,  1.,  0.,  1.,  0.,  1.,\n",
       "          0.,  1.,  0.,  0.,  2.,  1.,  1.,  0.,  1.,  3.,  2.,  4.,  2.,\n",
       "          3.,  8.,  5., 10., 12., 15., 25., 27., 43., 45., 43., 43., 44.,\n",
       "         39., 19., 20., 12.,  8.,  5.,  7.,  1.,  2.,  5.,  5.,  1.,  0.,\n",
       "          0.,  1.,  3.,  3.,  0.,  1.,  2.,  1.,  0.,  1.,  0.,  1.,  3.,\n",
       "          0.,  1.,  1.,  0.,  0.,  0.,  0.,  0.,  1.,  0.,  0.,  0.,  0.,\n",
       "          1.,  0.,  0.,  0.,  0.,  1.,  1.,  0.,  1.],\n",
       "        [ 1.,  1.,  0.,  0.,  0.,  1.,  0.,  0.,  0.,  1.,  0.,  0.,  1.,\n",
       "          0.,  0.,  1.,  0.,  2.,  2.,  1.,  0.,  1.,  2.,  0.,  1.,  1.,\n",
       "          1.,  1.,  1.,  0.,  4.,  0.,  0.,  1.,  2.,  2.,  7.,  1.,  2.,\n",
       "          4.,  4.,  6.,  6., 11., 18., 20., 36., 39., 47., 41., 42., 37.,\n",
       "         32., 27., 15., 12., 11., 10.,  6.,  4.,  4.,  4.,  2.,  1.,  2.,\n",
       "          2.,  1.,  0.,  1.,  0.,  1.,  1.,  1.,  0.,  1.,  0.,  1.,  0.,\n",
       "          0.,  1.,  1.,  0.,  0.,  0.,  1.,  0.,  2.,  0.,  1.,  1.,  0.,\n",
       "          1.,  2.,  0.,  0.,  2.,  0.,  0.,  0.,  0.]]),\n",
       " array([-0.53441095, -0.52364206, -0.5128732 , -0.50210434, -0.49133545,\n",
       "        -0.48056656, -0.4697977 , -0.45902884, -0.44825995, -0.43749106,\n",
       "        -0.4267222 , -0.41595334, -0.40518445, -0.39441556, -0.3836467 ,\n",
       "        -0.37287784, -0.36210895, -0.35134006, -0.3405712 , -0.32980233,\n",
       "        -0.31903344, -0.30826455, -0.2974957 , -0.28672683, -0.27595794,\n",
       "        -0.26518905, -0.2544202 , -0.24365132, -0.23288244, -0.22211356,\n",
       "        -0.21134469, -0.20057581, -0.18980694, -0.17903806, -0.16826919,\n",
       "        -0.15750031, -0.14673144, -0.13596256, -0.12519369, -0.11442481,\n",
       "        -0.10365593, -0.09288706, -0.08211818, -0.07134931, -0.06058043,\n",
       "        -0.04981156, -0.03904268, -0.02827381, -0.01750493, -0.00673606,\n",
       "         0.00403282,  0.0148017 ,  0.02557057,  0.03633945,  0.04710832,\n",
       "         0.0578772 ,  0.06864607,  0.07941495,  0.09018382,  0.1009527 ,\n",
       "         0.11172158,  0.12249045,  0.13325933,  0.1440282 ,  0.15479708,\n",
       "         0.16556595,  0.17633483,  0.1871037 ,  0.19787258,  0.20864145,\n",
       "         0.21941033,  0.2301792 ,  0.24094808,  0.25171697,  0.26248583,\n",
       "         0.2732547 ,  0.28402358,  0.29479247,  0.30556133,  0.3163302 ,\n",
       "         0.32709908,  0.33786798,  0.34863684,  0.3594057 ,  0.3701746 ,\n",
       "         0.38094348,  0.39171234,  0.4024812 ,  0.4132501 ,  0.42401898,\n",
       "         0.43478784,  0.4455567 ,  0.4563256 ,  0.46709448,  0.47786334,\n",
       "         0.4886322 ,  0.4994011 ,  0.51017   ,  0.5209389 ,  0.5317077 ,\n",
       "         0.5424766 ], dtype=float32),\n",
       " <a list of 2 BarContainer objects>)"
      ]
     },
     "execution_count": 50,
     "metadata": {},
     "output_type": "execute_result"
    },
    {
     "data": {
      "image/png": "[encoded data removed]",
      "text/plain": [
       "<Figure size 432x288 with 1 Axes>"
      ]
     },
     "metadata": {
      "needs_background": "light"
     },
     "output_type": "display_data"
    }
   ],
   "source": [
    "plt.hist(weight_i, bins=100)"
   ]
  },
  {
   "cell_type": "code",
   "execution_count": 84,
   "metadata": {},
   "outputs": [
    {
     "data": {
      "text/plain": [
       "(array([  0.,   0.,   0.,   0.,   0.,   0.,   0.,   0.,   0.,   0.,   0.,\n",
       "          0.,   0.,   0.,   0.,   0.,   0.,   0.,   0.,   0.,   0.,   0.,\n",
       "          0.,   0., 360.]),\n",
       " array([-1.  , -0.92, -0.84, -0.76, -0.68, -0.6 , -0.52, -0.44, -0.36,\n",
       "        -0.28, -0.2 , -0.12, -0.04,  0.04,  0.12,  0.2 ,  0.28,  0.36,\n",
       "         0.44,  0.52,  0.6 ,  0.68,  0.76,  0.84,  0.92,  1.  ]),\n",
       " <BarContainer object of 25 artists>)"
      ]
     },
     "execution_count": 84,
     "metadata": {},
     "output_type": "execute_result"
    },
    {
     "data": {
      "image/png": "[encoded data removed]",
      "text/plain": [
       "<Figure size 432x288 with 1 Axes>"
      ]
     },
     "metadata": {
      "needs_background": "light"
     },
     "output_type": "display_data"
    }
   ],
   "source": [
    "plt.hist(corrs, bins=25, range=(-1, 1))"
   ]
  },
  {
   "cell_type": "code",
   "execution_count": 85,
   "metadata": {},
   "outputs": [
    {
     "data": {
      "text/plain": [
       "(array([  4.,   0.,   0.,   0.,   0.,  16.,  28.,  64., 132., 116.]),\n",
       " array([0.97437864, 0.97687245, 0.97936626, 0.98186007, 0.98435388,\n",
       "        0.98684769, 0.9893415 , 0.99183531, 0.99432912, 0.99682294,\n",
       "        0.99931675]),\n",
       " <BarContainer object of 10 artists>)"
      ]
     },
     "execution_count": 85,
     "metadata": {},
     "output_type": "execute_result"
    },
    {
     "data": {
      "image/png": "[encoded data removed]",
      "text/plain": [
       "<Figure size 432x288 with 1 Axes>"
      ]
     },
     "metadata": {
      "needs_background": "light"
     },
     "output_type": "display_data"
    }
   ],
   "source": [
    "plt.hist(corrs)"
   ]
  },
  {
   "cell_type": "code",
   "execution_count": 33,
   "metadata": {},
   "outputs": [
    {
     "data": {
      "text/plain": [
       "360"
      ]
     },
     "execution_count": 33,
     "metadata": {},
     "output_type": "execute_result"
    }
   ],
   "source": [
    "len(corrs)"
   ]
  },
  {
   "cell_type": "code",
   "execution_count": 91,
   "metadata": {},
   "outputs": [
    {
     "data": {
      "text/plain": [
       "0.2791727883490044"
      ]
     },
     "execution_count": 91,
     "metadata": {},
     "output_type": "execute_result"
    }
   ],
   "source": [
    "np.mean(corrs)"
   ]
  },
  {
   "cell_type": "code",
   "execution_count": 92,
   "metadata": {},
   "outputs": [
    {
     "data": {
      "text/plain": [
       "400"
      ]
     },
     "execution_count": 92,
     "metadata": {},
     "output_type": "execute_result"
    }
   ],
   "source": [
    "len(corrs)"
   ]
  },
  {
   "cell_type": "code",
   "execution_count": 11,
   "metadata": {},
   "outputs": [],
   "source": [
    "import os\n",
    "import torch\n",
    "from scipy.stats import pearsonr\n",
    "\n",
    "lambdas = [1.0, 2.0, 5.0, 8.0, 10.0]\n",
    "genders = [0, 1]\n",
    "rand_splits = [0, 1, 2, 3, 4]\n",
    "corrs = []\n",
    "\n",
    "lambda_ = 1.0\n",
    "gender = 0\n",
    "\n",
    "for split in rand_splits:\n",
    "    rand_model_file = 'rand_half_lambda_%s_test_%s_gender_%s.pt' % (lambda_, split, gender)\n",
    "    rand_model_path = os.path.join(rand_dir, rand_model_file)    \n",
    "    model_rand = torch.load(rand_model_path)\n",
    "    \n",
    "    for ind_split in [0, 1]:\n",
    "        ind_model_file = 'lambda_%s_test_%s_gender_%s.pt' % (lambda_, ind_split, gender)\n",
    "        ind_model_path = os.path.join(ind_dir, ind_model_file)    \n",
    "        model_ind = torch.load(ind_model_path)\n",
    "\n",
    "        corr, _ = pearsonr(model_rand.model.weight.data.numpy().T[:, 0], \n",
    "                           model_ind.model.weight.data.numpy().T[:, 0])\n",
    "        \n",
    "        corrs.append(corr)\n",
    "# corr, _ = pearsonr(model.weight.data.numpy().T[:, 0], log_reg.weight.data.numpy().T[:, 0])"
   ]
  },
  {
   "cell_type": "code",
   "execution_count": 10,
   "metadata": {},
   "outputs": [
    {
     "data": {
      "text/plain": [
       "[0.6373856545068739,\n",
       " 0.8842265120163431,\n",
       " -0.4780962572829357,\n",
       " 0.5063204472048419,\n",
       " 0.8715218432271452,\n",
       " 0.3453616617015646,\n",
       " 0.06764275884924889,\n",
       " 0.8950136404930806,\n",
       " 0.3316219757543387,\n",
       " 0.954622459884883]"
      ]
     },
     "execution_count": 10,
     "metadata": {},
     "output_type": "execute_result"
    }
   ],
   "source": [
    "corrs"
   ]
  },
  {
   "cell_type": "code",
   "execution_count": 12,
   "metadata": {},
   "outputs": [
    {
     "data": {
      "text/plain": [
       "[0.6583145734969678,\n",
       " 0.5355813326845964,\n",
       " 0.825920336265305,\n",
       " -0.42731829421636824,\n",
       " 0.611338410678699,\n",
       " 0.5833261319648024,\n",
       " 0.8844762525228081,\n",
       " -0.2646175434376784,\n",
       " 0.8229522830341625,\n",
       " -0.41908577297278854]"
      ]
     },
     "execution_count": 12,
     "metadata": {},
     "output_type": "execute_result"
    }
   ],
   "source": [
    "corrs"
   ]
  },
  {
   "cell_type": "code",
   "execution_count": 73,
   "metadata": {},
   "outputs": [],
   "source": [
    "lambda_ = 0.0\n",
    "gender = 1"
   ]
  },
  {
   "cell_type": "code",
   "execution_count": 55,
   "metadata": {},
   "outputs": [],
   "source": [
    "import numpy as np"
   ]
  },
  {
   "cell_type": "code",
   "execution_count": 74,
   "metadata": {},
   "outputs": [
    {
     "name": "stdout",
     "output_type": "stream",
     "text": [
      "/media/shuoz/MyDrive/HCP/BNA/Results/Rand_Half/rand_half_lambda_0.0_test_0_gender_1.pt\n",
      "/media/shuoz/MyDrive/HCP/BNA/Results/Rand_Half/rand_half_lambda_0.0_test_1_gender_1.pt\n",
      "0.9725907834264225\n",
      "/media/shuoz/MyDrive/HCP/BNA/Results/Rand_Half/rand_half_lambda_0.0_test_0_gender_1.pt\n",
      "/media/shuoz/MyDrive/HCP/BNA/Results/Rand_Half/rand_half_lambda_0.0_test_2_gender_1.pt\n",
      "0.9730109133442503\n",
      "/media/shuoz/MyDrive/HCP/BNA/Results/Rand_Half/rand_half_lambda_0.0_test_0_gender_1.pt\n",
      "/media/shuoz/MyDrive/HCP/BNA/Results/Rand_Half/rand_half_lambda_0.0_test_3_gender_1.pt\n",
      "0.9785260535922544\n",
      "/media/shuoz/MyDrive/HCP/BNA/Results/Rand_Half/rand_half_lambda_0.0_test_0_gender_1.pt\n",
      "/media/shuoz/MyDrive/HCP/BNA/Results/Rand_Half/rand_half_lambda_0.0_test_4_gender_1.pt\n",
      "0.9761519819208606\n",
      "/media/shuoz/MyDrive/HCP/BNA/Results/Rand_Half/rand_half_lambda_0.0_test_1_gender_1.pt\n",
      "/media/shuoz/MyDrive/HCP/BNA/Results/Rand_Half/rand_half_lambda_0.0_test_2_gender_1.pt\n",
      "0.9723909667488008\n",
      "/media/shuoz/MyDrive/HCP/BNA/Results/Rand_Half/rand_half_lambda_0.0_test_1_gender_1.pt\n",
      "/media/shuoz/MyDrive/HCP/BNA/Results/Rand_Half/rand_half_lambda_0.0_test_3_gender_1.pt\n",
      "0.9761950438790473\n",
      "/media/shuoz/MyDrive/HCP/BNA/Results/Rand_Half/rand_half_lambda_0.0_test_1_gender_1.pt\n",
      "/media/shuoz/MyDrive/HCP/BNA/Results/Rand_Half/rand_half_lambda_0.0_test_4_gender_1.pt\n",
      "0.9768955758002058\n",
      "/media/shuoz/MyDrive/HCP/BNA/Results/Rand_Half/rand_half_lambda_0.0_test_2_gender_1.pt\n",
      "/media/shuoz/MyDrive/HCP/BNA/Results/Rand_Half/rand_half_lambda_0.0_test_3_gender_1.pt\n",
      "0.9761133212085429\n",
      "/media/shuoz/MyDrive/HCP/BNA/Results/Rand_Half/rand_half_lambda_0.0_test_2_gender_1.pt\n",
      "/media/shuoz/MyDrive/HCP/BNA/Results/Rand_Half/rand_half_lambda_0.0_test_4_gender_1.pt\n",
      "0.9756261199531031\n",
      "/media/shuoz/MyDrive/HCP/BNA/Results/Rand_Half/rand_half_lambda_0.0_test_3_gender_1.pt\n",
      "/media/shuoz/MyDrive/HCP/BNA/Results/Rand_Half/rand_half_lambda_0.0_test_4_gender_1.pt\n",
      "0.9770344843416159\n"
     ]
    }
   ],
   "source": [
    "n_model = len(rand_splits)\n",
    "corr_mat = np.ones((n_model, n_model))\n",
    "for i in range(len(rand_splits)):\n",
    "    split_i = rand_splits[i]\n",
    "    model_i_file = 'rand_half_lambda_%s_test_%s_gender_%s.pt' % (lambda_, split_i, gender)\n",
    "    model_i_path = os.path.join(rand_dir, model_i_file) \n",
    "    \n",
    "    model_i = torch.load(model_i_path)\n",
    "    for j in range(i+1, len(rand_splits)):\n",
    "        split_j = rand_splits[j]\n",
    "        model_j_file = 'rand_half_lambda_%s_test_%s_gender_%s.pt' % (lambda_, split_j, gender)\n",
    "        model_j_path = os.path.join(rand_dir, model_j_file)\n",
    "        print(model_i_path)\n",
    "        print(model_j_path)\n",
    "        model_j = torch.load(model_j_path)\n",
    "        corr, _ = pearsonr(model_i.model.weight.data.numpy().T[:, 0], \n",
    "                           model_j.model.weight.data.numpy().T[:, 0])\n",
    "        corr_mat[i, j] = corr\n",
    "        corr_mat[j, i] = corr\n",
    "        print(corr)"
   ]
  },
  {
   "cell_type": "code",
   "execution_count": 76,
   "metadata": {},
   "outputs": [
    {
     "data": {
      "image/png": "[encoded data removed]",
      "text/plain": [
       "<Figure size 432x288 with 2 Axes>"
      ]
     },
     "metadata": {
      "needs_background": "light"
     },
     "output_type": "display_data"
    }
   ],
   "source": [
    "\n",
    "\n",
    "ax = sns.heatmap(corr_mat, vmin=-1, vmax=1, annot=True, cmap='RdBu')"
   ]
  },
  {
   "cell_type": "code",
   "execution_count": 35,
   "metadata": {},
   "outputs": [],
   "source": [
    "weight_a = get_model_weight(model_a_file, ind_dir)"
   ]
  },
  {
   "cell_type": "code",
   "execution_count": 37,
   "metadata": {},
   "outputs": [
    {
     "data": {
      "text/plain": [
       "(7503,)"
      ]
     },
     "execution_count": 37,
     "metadata": {},
     "output_type": "execute_result"
    }
   ],
   "source": [
    "weight_a[:, 0].shape"
   ]
  },
  {
   "cell_type": "code",
   "execution_count": 19,
   "metadata": {},
   "outputs": [],
   "source": [
    "model_a_file = 'lambda_%s_test_%s_gender_%s.pt' % (lambda_, 0, gender)\n",
    "model_b_file = 'lambda_%s_test_%s_gender_%s.pt' % (lambda_, 1, gender)\n",
    "model_a_path = os.path.join(ind_dir, model_a_file)\n",
    "model_b_path = os.path.join(ind_dir, model_b_file)\n",
    "model_a = torch.load(model_a_path)\n",
    "model_b = torch.load(model_b_path)\n",
    "\n",
    "half_splits = range(5)\n",
    "\n",
    "corr, _ = pearsonr(model_a.model.weight.data.numpy().T[:, 0], \n",
    "                   model_b.model.weight.data.numpy().T[:, 0])"
   ]
  },
  {
   "cell_type": "code",
   "execution_count": 20,
   "metadata": {},
   "outputs": [
    {
     "data": {
      "text/plain": [
       "0.31951756930370495"
      ]
     },
     "execution_count": 20,
     "metadata": {},
     "output_type": "execute_result"
    }
   ],
   "source": [
    "corr"
   ]
  },
  {
   "cell_type": "code",
   "execution_count": null,
   "metadata": {},
   "outputs": [],
   "source": []
  }
 ],
 "metadata": {
  "kernelspec": {
   "display_name": "Python 3 (ipykernel)",
   "language": "python",
   "name": "python3"
  },
  "language_info": {
   "codemirror_mode": {
    "name": "ipython",
    "version": 3
   },
   "file_extension": ".py",
   "mimetype": "text/x-python",
   "name": "python",
   "nbconvert_exporter": "python",
   "pygments_lexer": "ipython3",
   "version": "3.8.8"
  }
 },
 "nbformat": 4,
 "nbformat_minor": 4
}
