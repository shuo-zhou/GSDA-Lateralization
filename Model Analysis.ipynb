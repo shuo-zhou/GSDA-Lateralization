{
 "cells": [
  {
   "cell_type": "code",
   "execution_count": 1,
   "metadata": {},
   "outputs": [],
   "source": [
    "import os\n",
    "import matplotlib.pylab as plt\n",
    "%matplotlib inline\n",
    "import numpy as np\n",
    "import pickle"
   ]
  },
  {
   "cell_type": "code",
   "execution_count": 2,
   "metadata": {},
   "outputs": [],
   "source": [
    "def fetch_model(fpath):\n",
    "    infile = open(fpath, 'rb')\n",
    "    res_dict = pickle.load(infile)\n",
    "    infile.close()\n",
    "    return res_dict"
   ]
  },
  {
   "cell_type": "code",
   "execution_count": 3,
   "metadata": {},
   "outputs": [],
   "source": [
    "def coef2matrix(coef, n_roi=192, top_coef_ratio=0.03):\n",
    "    coef = coef.reshape(-1)\n",
    "    n_top_coef = int(coef.shape[0] * top_coef_ratio)\n",
    "    print(n_top_coef)\n",
    "    idx_sorted = (-abs(coef)).argsort()\n",
    "    coef_ = np.zeros(coef.shape)\n",
    "    coef_[idx_sorted[:n_top_coef]] = coef[idx_sorted[:n_top_coef]]\n",
    "    idx = np.triu_indices(n_roi, k=1)\n",
    "    coef_matrix = np.zeros((n_roi, n_roi))\n",
    "    coef_matrix[idx] = coef_[:]\n",
    "    coef_matrix = coef_matrix.T\n",
    "    coef_matrix[idx] = coef_[:]\n",
    "    \n",
    "    return coef_matrix"
   ]
  },
  {
   "cell_type": "code",
   "execution_count": 4,
   "metadata": {},
   "outputs": [],
   "source": [
    "import seaborn as sns\n",
    "\n",
    "def plot_tri_coef(coef_matrix, xlabels=False, ylabels=False, fig_name='figure.pdf', cmap='coolwarm'):\n",
    "    mask = np.zeros_like(coef_matrix)\n",
    "    mask[np.triu_indices_from(mask)] = True\n",
    "    plt.figure(figsize=(16,12))\n",
    "    sns.heatmap(data=coef_matrix, mask=mask, xticklabels=xlabels, yticklabels=ylabels, cmap=cmap)\n",
    "    plt.yticks(fontsize=3)\n",
    "    plt.xticks(fontsize=3)\n",
    "    plt.savefig(fig_name, bbox_inches='tight')\n",
    "    plt.show()"
   ]
  },
  {
   "cell_type": "code",
   "execution_count": 25,
   "metadata": {},
   "outputs": [],
   "source": [
    "def cat_coef(res_dict, kernel_rev=False):\n",
    "    coef_ = []\n",
    "    for i in range(len(res_dict['clf'])):\n",
    "        pca = res_dict['embed'][i]\n",
    "        clf = res_dict['clf'][i]\n",
    "        clf_coef = clf.coef_\n",
    "        if kernel_rev:\n",
    "            clf_coef = np.dot(clf_coef.T, clf._X)\n",
    "        coef_.append(pca.inverse_transform(clf_coef).reshape((1, -1)))\n",
    "        \n",
    "    return np.concatenate(coef_, axis=0)"
   ]
  },
  {
   "cell_type": "markdown",
   "metadata": {},
   "source": [
    "### AICHA Model"
   ]
  },
  {
   "cell_type": "code",
   "execution_count": 15,
   "metadata": {},
   "outputs": [],
   "source": [
    "# redige coefficients\n",
    "basedir = 'D:/ShareFolder/AICHA_VolFC/Result'\n",
    "fname = 'intra_half_brain_Ridge_REST1_144.pickle'\n",
    "# fname = 'intra_half_brain_Ridge_REST1_144.pickle'\n",
    "res_dict = fetch_model(os.path.join(basedir, fname))\n",
    "ridge_coef = cat_coef(res_dict)"
   ]
  },
  {
   "cell_type": "code",
   "execution_count": 36,
   "metadata": {},
   "outputs": [],
   "source": [
    "# regularised clf coefficients\n",
    "basedir = 'D:/ShareFolder/AICHA_VolFC/Result'\n",
    "# fname = 'intra_half_brain_SIDeRLS_REST1_144.pickle'\n",
    "# fname = 'intra_half_brain_Ridge_REST1_144.pickle'\n",
    "fname =  'intra_half_brain_SVC_REST1_LR_144.pickle'\n",
    "res_dict = fetch_model(os.path.join(basedir, fname))\n",
    "sider_coef = cat_coef(res_dict)"
   ]
  },
  {
   "cell_type": "code",
   "execution_count": 37,
   "metadata": {},
   "outputs": [
    {
     "name": "stdout",
     "output_type": "stream",
     "text": [
      "0.8647510166402261\n",
      "0.8651446054186045\n",
      "0.8437044303181862\n",
      "0.8374912044418097\n",
      "0.8710054184975751\n",
      "0.850399131778997\n",
      "0.8622856164678376\n",
      "0.8660035242510282\n",
      "0.8419745663036243\n",
      "0.8556501173289457\n",
      "0.8628764471305692\n",
      "0.8588365821712928\n",
      "0.8464237171608358\n",
      "0.83196671033154\n",
      "0.8597168998716876\n",
      "0.8406938755746942\n",
      "0.8537188345914943\n",
      "0.8592208306749681\n",
      "0.8381443708929035\n",
      "0.8612533031477312\n",
      "0.8664925855943092\n",
      "0.8711305600746732\n",
      "0.8505240098841522\n",
      "0.8881626194117508\n",
      "0.8721092495956306\n",
      "0.8663602407749613\n",
      "0.8602557888421685\n",
      "0.8676476191780229\n",
      "0.8572080047787044\n",
      "0.8799424204074004\n",
      "0.8715835073012056\n",
      "0.870051159629031\n",
      "0.8655442206505191\n",
      "0.897259936256267\n",
      "0.8777526905786245\n",
      "0.8692775583566157\n",
      "0.8710748851335617\n",
      "0.8677015990275834\n",
      "0.8585039227646498\n",
      "0.8873391246413938\n",
      "0.8594732331637519\n",
      "0.8679175536288505\n",
      "0.860179061941527\n",
      "0.8899474855599432\n",
      "0.8706351180672776\n",
      "0.8708287491130748\n",
      "0.8687769147025071\n",
      "0.8674462539179815\n",
      "0.8672162305459468\n",
      "0.8805353923596881\n",
      "0.8701565101283515\n",
      "0.8766313605596346\n",
      "0.8583776631731129\n",
      "0.8896416732474677\n",
      "0.8707215395870694\n",
      "0.8740168985665625\n",
      "0.872211348793346\n",
      "0.8708717368018257\n",
      "0.8638463386103367\n",
      "0.8816749325200304\n",
      "0.876734012676103\n",
      "0.8747170631139876\n",
      "0.8566996368287185\n",
      "0.8831273293713331\n",
      "0.8753147706153064\n",
      "0.8749511625653569\n",
      "0.8685169493681931\n",
      "0.8744248506071759\n",
      "0.8659673339929582\n",
      "0.8751691418404783\n",
      "0.8661101321589629\n",
      "0.8706194554688533\n",
      "0.8585933127385705\n",
      "0.8898562444071076\n",
      "0.8675367417313885\n",
      "0.8710781826165079\n",
      "0.8684601587889582\n",
      "0.8682979669361356\n",
      "0.8516108997128977\n",
      "0.8766915713928293\n",
      "0.8672130687526393\n",
      "0.8707332929058405\n",
      "0.8531540948426573\n",
      "0.8817630401390423\n",
      "0.8725090406731675\n",
      "0.8724854178071987\n",
      "0.8669248743752366\n",
      "0.8720408767227266\n",
      "0.8499381392843091\n",
      "0.8774328579672326\n",
      "0.8738509695255475\n",
      "0.8755310910845171\n",
      "0.8600804454532869\n",
      "0.8789035508706302\n",
      "0.8778500559442721\n",
      "0.8776159095890914\n",
      "0.8704615055142721\n",
      "0.8704557428125864\n",
      "0.8627184517530978\n",
      "0.8814644366686721\n"
     ]
    }
   ],
   "source": [
    "from scipy.stats import pearsonr\n",
    "\n",
    "corrs = []\n",
    "for i in range(10):\n",
    "    coef_i = ridge_coef[i, :]\n",
    "    for j in range(10):\n",
    "        coef_j = sider_coef[j, :]\n",
    "        corr, _ = pearsonr(coef_i.reshape(-1), coef_j.reshape(-1))\n",
    "        corrs.append(corr)\n",
    "        print(corr)"
   ]
  },
  {
   "cell_type": "code",
   "execution_count": 38,
   "metadata": {},
   "outputs": [
    {
     "data": {
      "text/plain": [
       "0.8674589268048192"
      ]
     },
     "execution_count": 38,
     "metadata": {},
     "output_type": "execute_result"
    }
   ],
   "source": [
    "np.mean(corrs)"
   ]
  },
  {
   "cell_type": "code",
   "execution_count": 39,
   "metadata": {},
   "outputs": [
    {
     "data": {
      "text/plain": [
       "0.011832011856053502"
      ]
     },
     "execution_count": 39,
     "metadata": {},
     "output_type": "execute_result"
    }
   ],
   "source": [
    "np.std(corrs)"
   ]
  },
  {
   "cell_type": "code",
   "execution_count": 29,
   "metadata": {},
   "outputs": [
    {
     "data": {
      "text/plain": [
       "(10, 18336)"
      ]
     },
     "execution_count": 29,
     "metadata": {},
     "output_type": "execute_result"
    }
   ],
   "source": [
    "ridge_coef.shape"
   ]
  },
  {
   "cell_type": "code",
   "execution_count": 28,
   "metadata": {},
   "outputs": [
    {
     "name": "stdout",
     "output_type": "stream",
     "text": [
      "0.8352216802842669\n"
     ]
    }
   ],
   "source": [
    "print(corr)"
   ]
  },
  {
   "cell_type": "code",
   "execution_count": 7,
   "metadata": {},
   "outputs": [],
   "source": [
    "import pandas as pd\n",
    "\n",
    "roi_list_fpath = 'D:\\ShareFolder\\AICHA_VolFC\\AtlasInfo\\AICHA_ROI_MNI_V1.txt'\n",
    "\n",
    "rois = pd.read_table(roi_list_fpath, header=None)\n",
    "roi_list = list(rois.loc[0::2, 0])\n",
    "sub_roi_names = [sub_roi.replace('-L', '') for sub_roi in roi_list]\n",
    "roi_nams = [name.split('-')[0] for name in sub_roi_names]"
   ]
  },
  {
   "cell_type": "code",
   "execution_count": null,
   "metadata": {},
   "outputs": [],
   "source": [
    "plot_tri_coef()"
   ]
  },
  {
   "cell_type": "code",
   "execution_count": 8,
   "metadata": {},
   "outputs": [
    {
     "data": {
      "text/plain": [
       "(10, 18336)"
      ]
     },
     "execution_count": 8,
     "metadata": {},
     "output_type": "execute_result"
    }
   ],
   "source": [
    "coef_all.shape"
   ]
  },
  {
   "cell_type": "markdown",
   "metadata": {},
   "source": [
    "### BNA Model"
   ]
  },
  {
   "cell_type": "code",
   "execution_count": 3,
   "metadata": {},
   "outputs": [],
   "source": [
    "basedir = 'D:/ShareFolder/BNA/Result'\n",
    "fname = 'intra_half_brain_SVC_REST1_144.pickle'\n",
    "res_dict = fetch_model(os.path.join(basedir, fname))"
   ]
  },
  {
   "cell_type": "code",
   "execution_count": 22,
   "metadata": {},
   "outputs": [
    {
     "name": "stdout",
     "output_type": "stream",
     "text": [
      "225\n"
     ]
    }
   ],
   "source": [
    "pca = res_dict['embed'][0]\n",
    "clf = res_dict['clf'][0]\n",
    "coef_ = pca.inverse_transform(clf.coef_)\n",
    "coef_matrix = coef2matrix(coef_, n_roi=123)"
   ]
  },
  {
   "cell_type": "code",
   "execution_count": 23,
   "metadata": {},
   "outputs": [],
   "source": [
    "import pandas as pd\n",
    "import io_\n",
    "\n",
    "roi_list_fpath = 'D:\\ShareFolder\\BNA\\subregion_func_network.xlsx'\n",
    "\n",
    "rois = io_.read_table(roi_list_fpath, sheet_name='Brainnetome')['region']\n",
    "roi_list = list(rois.loc[0::2])\n",
    "roi_names = [sub_roi.replace('_L', '') for sub_roi in roi_list]\n",
    "# roi_nams = [name.split('-')[0] for name in sub_roi_names]"
   ]
  },
  {
   "cell_type": "code",
   "execution_count": 24,
   "metadata": {
    "collapsed": true,
    "jupyter": {
     "outputs_hidden": true
    },
    "scrolled": true
   },
   "outputs": [
    {
     "data": {
      "image/png": "[encoded data removed]",
      "text/plain": [
       "<Figure size 1152x864 with 2 Axes>"
      ]
     },
     "metadata": {
      "needs_background": "light"
     },
     "output_type": "display_data"
    }
   ],
   "source": [
    "plot_tri_coef(coef_matrix, cmap='coolwarm', xlabels=roi_names, ylabels=roi_names, fig_name='BNA_SVC.pdf')"
   ]
  },
  {
   "cell_type": "markdown",
   "metadata": {},
   "source": [
    "### Correlation analysis"
   ]
  },
  {
   "cell_type": "code",
   "execution_count": 19,
   "metadata": {},
   "outputs": [
    {
     "data": {
      "text/plain": [
       "{'acc': [1.0, 1.0, 1.0, 1.0, 1.0, 1.0, 0.9951690821256038, 1.0, 1.0, 1.0],\n",
       " 'auc': [1.0, 1.0, 1.0, 1.0, 1.0, 1.0, 1.0, 1.0, 1.0, 1.0],\n",
       " 'embed': [PCA(n_components=500, random_state=144),\n",
       "  PCA(n_components=500, random_state=144),\n",
       "  PCA(n_components=500, random_state=144),\n",
       "  PCA(n_components=500, random_state=144),\n",
       "  PCA(n_components=500, random_state=144),\n",
       "  PCA(n_components=500, random_state=144),\n",
       "  PCA(n_components=500, random_state=144),\n",
       "  PCA(n_components=500, random_state=144),\n",
       "  PCA(n_components=500, random_state=144),\n",
       "  PCA(n_components=500, random_state=144)],\n",
       " 'clf': [SVC(C=1, kernel='linear'),\n",
       "  SVC(C=1, kernel='linear'),\n",
       "  SVC(C=1, kernel='linear'),\n",
       "  SVC(C=1, kernel='linear'),\n",
       "  SVC(C=1, kernel='linear'),\n",
       "  SVC(C=1, kernel='linear'),\n",
       "  SVC(C=1, kernel='linear'),\n",
       "  SVC(C=1, kernel='linear'),\n",
       "  SVC(C=1, kernel='linear'),\n",
       "  SVC(C=1, kernel='linear')],\n",
       " 'params': [{'PCA': {'n_components': 500},\n",
       "   'clf': {'C': 1, 'kernel': 'linear'}},\n",
       "  {'PCA': {'n_components': 500}, 'clf': {'C': 1, 'kernel': 'linear'}},\n",
       "  {'PCA': {'n_components': 500}, 'clf': {'C': 1, 'kernel': 'linear'}},\n",
       "  {'PCA': {'n_components': 500}, 'clf': {'C': 1, 'kernel': 'linear'}},\n",
       "  {'PCA': {'n_components': 500}, 'clf': {'C': 1, 'kernel': 'linear'}},\n",
       "  {'PCA': {'n_components': 500}, 'clf': {'C': 1, 'kernel': 'linear'}},\n",
       "  {'PCA': {'n_components': 500}, 'clf': {'C': 1, 'kernel': 'linear'}},\n",
       "  {'PCA': {'n_components': 500}, 'clf': {'C': 1, 'kernel': 'linear'}},\n",
       "  {'PCA': {'n_components': 500}, 'clf': {'C': 1, 'kernel': 'linear'}},\n",
       "  {'PCA': {'n_components': 500}, 'clf': {'C': 1, 'kernel': 'linear'}}]}"
      ]
     },
     "execution_count": 19,
     "metadata": {},
     "output_type": "execute_result"
    }
   ],
   "source": [
    "res_dict"
   ]
  },
  {
   "cell_type": "code",
   "execution_count": 20,
   "metadata": {},
   "outputs": [],
   "source": [
    "pca1 = res_dict['embed'][3]\n",
    "clf1 = res_dict['clf'][3]\n",
    "coef1_ = pca1.inverse_transform(clf1.coef_)"
   ]
  },
  {
   "cell_type": "code",
   "execution_count": 21,
   "metadata": {},
   "outputs": [],
   "source": [
    "from scipy.stats import pearsonr\n",
    "\n",
    "corr, _ = pearsonr(coef_.reshape(-1), coef1_.reshape(-1))"
   ]
  },
  {
   "cell_type": "code",
   "execution_count": 22,
   "metadata": {},
   "outputs": [
    {
     "data": {
      "text/plain": [
       "0.8571242875472798"
      ]
     },
     "execution_count": 22,
     "metadata": {},
     "output_type": "execute_result"
    }
   ],
   "source": [
    "corr"
   ]
  },
  {
   "cell_type": "code",
   "execution_count": 35,
   "metadata": {},
   "outputs": [],
   "source": [
    "coef_random0 = np.random.random(coef_.shape)\n",
    "coef_random1 = np.random.random(coef_.shape)\n",
    "\n",
    "corr, _ = pearsonr(coef_random0.reshape(-1), coef_random1.reshape(-1))"
   ]
  },
  {
   "cell_type": "code",
   "execution_count": 5,
   "metadata": {},
   "outputs": [
    {
     "name": "stdout",
     "output_type": "stream",
     "text": [
      "916\n"
     ]
    }
   ],
   "source": [
    "coef_matrix = coef2matrix(coef_)"
   ]
  },
  {
   "cell_type": "code",
   "execution_count": 5,
   "metadata": {},
   "outputs": [],
   "source": [
    "def plot_coef(coef_matrix, xlabels=None, ylabels=None, cmap='gist_heat', fig_name='figure.pdf'):\n",
    "    if xlabels is not None:\n",
    "        plt.xticks(ticks=np.arange(len(xlabels)),labels=xlabels, rotation=90)\n",
    "    if ylabels is not None:\n",
    "        plt.yticks(ticks=np.arange(len(ylabels)),labels=ylabels)    \n",
    "    plt.imshow(coef_matrix, cmap='cool',interpolation=\"nearest\")\n",
    "    plt.savefig(fig_name, bbox_inches='tight')\n",
    "    plt.show()"
   ]
  },
  {
   "cell_type": "code",
   "execution_count": 11,
   "metadata": {},
   "outputs": [],
   "source": [
    "import seaborn as sns\n",
    "\n",
    "def plot_coef(coef_matrix, xlabels=False, ylabels=False, fig_name='figure.pdf'):\n",
    "    \n",
    "    sns.heatmap(data=coef_matrix, xticklabels=xlabels, yticklabels=ylabels)\n",
    "    plt.savefig(fig_name, bbox_inches='tight')\n",
    "    plt.show()"
   ]
  },
  {
   "cell_type": "code",
   "execution_count": 56,
   "metadata": {},
   "outputs": [],
   "source": [
    "import chart_studio.plotly as ply\n",
    "import plotly.graph_objs as go\n",
    "\n",
    "def make_layout(title, plot_size):\n",
    "    axis=dict(showline=False, # hide axis line, grid, ticklabels and  title\n",
    "          zeroline=False,\n",
    "          showgrid=False,\n",
    "          showticklabels=False,\n",
    "          title=''\n",
    "          )\n",
    "\n",
    "    return go.Layout(title=title,\n",
    "                  xaxis=dict(axis),\n",
    "                  yaxis=dict(axis),\n",
    "                  showlegend=False,\n",
    "                  width=plot_size,\n",
    "                  height=plot_size,\n",
    "                  margin=dict(t=25, b=25, l=25, r=25),\n",
    "                  hovermode='closest',\n",
    "                  shapes=[]# to this list one appends below the dicts defining the ribbon,\n",
    "                           #respectively the ideogram shapes\n",
    "                 )"
   ]
  },
  {
   "cell_type": "code",
   "execution_count": null,
   "metadata": {},
   "outputs": [],
   "source": [
    "link = {'source': [], 'target': [], 'value': []}\n",
    "\n",
    "for i in range(192):\n",
    "    for j in range\n",
    "    link['source'].append"
   ]
  },
  {
   "cell_type": "code",
   "execution_count": 14,
   "metadata": {},
   "outputs": [],
   "source": [
    "coef_df = pd.DataFrame(data=coef_matrix, columns=roi_names)\n",
    "coef_df.to_csv('Coef_matrix_sample1.csv', index=False)"
   ]
  },
  {
   "cell_type": "code",
   "execution_count": null,
   "metadata": {},
   "outputs": [],
   "source": [
    "layout=make_layout('Chord diagram', 400)"
   ]
  },
  {
   "cell_type": "code",
   "execution_count": 44,
   "metadata": {},
   "outputs": [
    {
     "name": "stdout",
     "output_type": "stream",
     "text": [
      "0.9655831739961759\n",
      "0.9933078393881453\n",
      "1.0\n",
      "1.0\n",
      "0.9794661190965093\n",
      "0.9856262833675564\n",
      "1.0\n",
      "1.0\n"
     ]
    }
   ],
   "source": [
    "from sklearn.metrics import accuracy_score, roc_auc_score\n",
    "import io_\n",
    "\n",
    "pca = res_dict['embed'][0]\n",
    "clf = res_dict['clf'][0]\n",
    "\n",
    "data_dir = 'D:/ShareFolder/AICHA_VolFC/Proc'\n",
    "sessions = ['REST1', 'REST2']\n",
    "runs = ['RL', 'LR']\n",
    "connection_type = 'intra'\n",
    "atlas = 'AICHA'\n",
    "for session in sessions:\n",
    "    for run_ in runs:\n",
    "        data = io_.load_half_brain(data_dir, atlas, session, run_, connection_type)\n",
    "        x_left = data['Left']\n",
    "        y_pred = clf.predict(pca.transform(x_left))\n",
    "        print(accuracy_score(np.ones(y_pred.shape), y_pred))\n",
    "        \n",
    "        x_right = data['Right']\n",
    "        y_pred = clf.predict(pca.transform(x_right))\n",
    "        print(accuracy_score(-1 * np.ones(y_pred.shape), y_pred))\n",
    "        "
   ]
  },
  {
   "cell_type": "code",
   "execution_count": null,
   "metadata": {},
   "outputs": [],
   "source": []
  }
 ],
 "metadata": {
  "kernelspec": {
   "display_name": "Python 3",
   "language": "python",
   "name": "python3"
  },
  "language_info": {
   "codemirror_mode": {
    "name": "ipython",
    "version": 3
   },
   "file_extension": ".py",
   "mimetype": "text/x-python",
   "name": "python",
   "nbconvert_exporter": "python",
   "pygments_lexer": "ipython3",
   "version": "3.7.3"
  }
 },
 "nbformat": 4,
 "nbformat_minor": 4
}
