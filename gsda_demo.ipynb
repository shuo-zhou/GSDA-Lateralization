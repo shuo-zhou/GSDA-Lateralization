{
  "cells": [
    {
      "cell_type": "markdown",
      "metadata": {},
      "source": [
        "# Group-Specific Discriminant Analysis for sex-specific lateralization Running Demo"
      ]
    },
    {
      "cell_type": "markdown",
      "metadata": {},
      "source": [
        "## Install essential packages"
      ]
    },
    {
      "cell_type": "code",
      "execution_count": null,
      "metadata": {},
      "outputs": [],
      "source": [
        "if 'google.colab' in str(get_ipython()):\n",
        "    print('Running on CoLab')\n",
        "    !pip uninstall --yes yellowbrick\n",
        "    !pip install -U -q psutil\n",
        "    !pip install dgl dgllife\n",
        "    !pip install rdkit-pypi\n",
        "    !pip install PrettyTable yacs\n",
        "    !git clone https://github.com/shuo-zhou/GSDA-Lateralization\n",
        "    %cd GSDA-Lateralization\n",
        "else:\n",
        "    print('Not running on CoLab')\n",
        "     "
      ]
    },
    {
      "cell_type": "code",
      "execution_count": null,
      "metadata": {},
      "outputs": [],
      "source": [
        "from configs.default_cfg import get_cfg_defaults\n",
        "from utils.experiment import run_experiment\n",
        "from joblib import Parallel, delayed"
      ]
    },
    {
      "cell_type": "markdown",
      "metadata": {},
      "source": [
        "## Set up the configurations"
      ]
    },
    {
      "cell_type": "code",
      "execution_count": null,
      "metadata": {},
      "outputs": [
        {
          "name": "stdout",
          "output_type": "stream",
          "text": [
            "DATASET:\n",
            "  ATLAS: BNA\n",
            "  CONNECTION: intra\n",
            "  DATASET: HCP\n",
            "  DOWNLOAD: True\n",
            "  FEATURE: correlation\n",
            "  MIX_GROUP: False\n",
            "  NUM_REPEAT: 1\n",
            "  REST1_ONLY: True\n",
            "  ROOT: data\n",
            "  RUN: Fisherz\n",
            "  SESSIONS: [None]\n",
            "  TEST_RATIO: 0.2\n",
            "  TYPE: functional\n",
            "OUTPUT:\n",
            "  ROOT: output\n",
            "SOLVER:\n",
            "  ALPHA: 10\n",
            "  LAMBDA_: [0.0, 2.0, 5.0, 10]\n",
            "  LR: 0.08\n",
            "  SEED: 2023\n"
          ]
        }
      ],
      "source": [
        "# ---- setup configs ----\n",
        "cfg_path = \"configs/hcp_demo.yaml\" # Path to `.yaml` config file\n",
        "\n",
        "cfg = get_cfg_defaults()\n",
        "cfg.merge_from_file(cfg_path)\n",
        "cfg.freeze()\n",
        "print(cfg)"
      ]
    },
    {
      "cell_type": "markdown",
      "metadata": {},
      "source": [
        "## Run experiments\n",
        "\n",
        "It could take a while (15 to 25 mins) to run the experiments. "
      ]
    },
    {
      "cell_type": "code",
      "execution_count": null,
      "metadata": {},
      "outputs": [
        {
          "name": "stdout",
          "output_type": "stream",
          "text": [
            "Training model with lambda = 0.0 on HCP dataset\n",
            "Training model with lambda = 5.0 on HCP dataset\n",
            "Training model with lambda = 10 on HCP dataset\n",
            "Training model with lambda = 2.0 on HCP dataset\n"
          ]
        },
        {
          "data": {
            "text/plain": [
              "[None, None, None, None]"
            ]
          },
          "execution_count": 5,
          "metadata": {},
          "output_type": "execute_result"
        }
      ],
      "source": [
        "Parallel(n_jobs=2)(delayed(run_experiment)(cfg, lambda_) for lambda_ in cfg.SOLVER.LAMBDA_)\n",
        "# run_experiment(cfg)"
      ]
    },
    {
      "cell_type": "code",
      "execution_count": null,
      "metadata": {},
      "outputs": [],
      "source": [
        "from utils.io_ import load_result, reformat_results\n",
        "from utils import plot"
      ]
    },
    {
      "cell_type": "code",
      "execution_count": null,
      "metadata": {},
      "outputs": [],
      "source": [
        "dataset = cfg.DATASET.DATASET\n",
        "model_root_dir = cfg.OUTPUT.ROOT\n",
        "lambdas = cfg.SOLVER.LAMBDA_\n",
        "seed_start = cfg.SOLVER.SEED\n",
        "test_size = cfg.DATASET.TEST_RATIO\n",
        "\n",
        "res_df_all = load_result(dataset=dataset, root_dir=model_root_dir, \n",
        "                         lambdas=lambdas, seed_start=seed_start, test_size=test_size)\n",
        "# res_df_all[\"gap_train_session\"] = res_df_all[\"acc_tgt_train_session\"] - res_df_all[\"acc_nt_train_session\"]\n",
        "# res_df_all[\"gap_test_session\"] = res_df_all[\"acc_tgt_test_session\"] - res_df_all[\"acc_nt_test_session\"]\n",
        "res_df_all[\"GSI_train_session\"] = 2 * (res_df_all[\"acc_tgt_train_session\"] * \n",
        "                                       (res_df_all[\"acc_tgt_train_session\"] - \n",
        "                                        res_df_all[\"acc_nt_train_session\"]))\n",
        "res_df_all[\"GSI_test_session\"] = 2 * (res_df_all[\"acc_tgt_test_session\"] * \n",
        "                                      (res_df_all[\"acc_tgt_test_session\"] - \n",
        "                                       res_df_all[\"acc_nt_test_session\"]))\n",
        "\n",
        "res_df_is = reformat_results(res_df_all, [\"acc_tgt_train_session\", \"acc_nt_train_session\"])\n",
        "res_df_os = reformat_results(res_df_all, [\"acc_tgt_test_session\", \"acc_nt_test_session\"])\n",
        "\n",
        "res_df_all.loc[res_df_all[\"train_group\" ]==0, \"train_group\" ] = \"Male\"\n",
        "res_df_all.loc[res_df_all[\"train_group\" ]==1, \"train_group\" ] = \"Female\""
      ]
    },
    {
      "cell_type": "code",
      "execution_count": null,
      "metadata": {},
      "outputs": [],
      "source": [
        "plot.plot_accuracy(res_df_is, outfile=\"figures/HCP_in_session_test%s\" % test_size, outfig_format=[\"svg\", \"pdf\"])"
      ]
    },
    {
      "cell_type": "code",
      "execution_count": null,
      "metadata": {},
      "outputs": [],
      "source": [
        "plot.plot_gsi(res_df_all, x=\"lambda\", y=\"GSI_train_session\", hue=\"train_group\", outfile=\"figures/GSI_box_HCP_in_session_test\", outfig_format=[\"svg\", \"pdf\"])"
      ]
    }
  ],
  "metadata": {
    "kernelspec": {
      "display_name": "torch2",
      "language": "python",
      "name": "python3"
    }
  },
  "nbformat": 4,
  "nbformat_minor": 2
}
