{
  "nbformat": 4,
  "nbformat_minor": 2,
  "metadata": {
    "kernelspec": {
      "display_name": "Python 3 (ipykernel)",
      "language": "python",
      "name": "python3"
    }
  },
  "cells": [
    {
      "metadata": {},
      "source": [
        "# Group-Specific Discriminant Analysis for sex-specific lateralization Running Demo\n",
        "\n",
        "[Open in Colab](https://colab.research.google.com/github/shuo-zhou/GSDA-Lateralization/blob/main/gsda_demo.ipynb)  (click `Runtime`\u2006\u2192\u2006`Run all (Ctrl+F9)`)"
      ],
      "cell_type": "markdown"
    },
    {
      "metadata": {},
      "source": [
        "## Setup\n",
        "\n",
        "The first few blocks of code are necessary to set up the notebook execution environment. This checks if the notebook is running on Google Colab and installs required packages.\n"
      ],
      "cell_type": "markdown"
    },
    {
      "metadata": {},
      "source": [
        "#@title  ---- setup environment and fetch code from GitHub ----\n",
        "if 'google.colab' in str(get_ipython()):\n",
        "    print('Running on CoLab')\n",
        "    !pip install yacs\n",
        "    !git clone https://github.com/shuo-zhou/GSDA-Lateralization\n",
        "    %cd GSDA-Lateralization\n",
        "else:\n",
        "    print('Not running on CoLab')\n",
        "     "
      ],
      "cell_type": "code",
      "outputs": [],
      "execution_count": null
    },
    {
      "metadata": {},
      "source": [
        "## Import required modules"
      ],
      "cell_type": "markdown"
    },
    {
      "metadata": {},
      "source": [
        "#@title ---- import modules ----\n",
        "import os\n",
        "from configs.default_cfg import get_cfg_defaults\n",
        "from utils.experiment import run_experiment\n",
        "from joblib import Parallel, delayed\n",
        "\n",
        "from utils.io_ import load_result, reformat_results\n",
        "from utils import plot"
      ],
      "cell_type": "code",
      "outputs": [],
      "execution_count": null
    },
    {
      "metadata": {},
      "source": [
        "## Configurations\n",
        "\n",
        "The customized configuration used in this demo is stored in `configs/gsda_demo.yaml`, this file overwrites defaults in `default_cfg.py` where a value is specified."
      ],
      "cell_type": "markdown"
    },
    {
      "metadata": {},
      "source": [
        "#@title ---- setup configs ----\n",
        "cfg_path = \"configs/demo-hcp.yaml\" # Path to `.yaml` config file\n",
        "\n",
        "cfg = get_cfg_defaults()\n",
        "cfg.merge_from_file(cfg_path)\n",
        "cfg.freeze()\n",
        "print(cfg)"
      ],
      "cell_type": "code",
      "outputs": [],
      "execution_count": null
    },
    {
      "metadata": {},
      "source": [
        "## Model training\n",
        "\n",
        "It could take a while (15 to 25 mins) to run the experiments. "
      ],
      "cell_type": "markdown"
    },
    {
      "metadata": {},
      "source": [
        "Parallel(n_jobs=2)(delayed(run_experiment)(cfg, lambda_) for lambda_ in cfg.SOLVER.LAMBDA_)\n",
        "# run_experiment(cfg)"
      ],
      "cell_type": "code",
      "outputs": [],
      "execution_count": null
    },
    {
      "metadata": {},
      "source": [
        "## Load and visualize results "
      ],
      "cell_type": "markdown"
    },
    {
      "metadata": {
        "tags": [
          "hide-input"
        ]
      },
      "source": [
        "#@title ---- load results to a dataframe ----\n",
        "\n",
        "dataset = cfg.DATASET.DATASET\n",
        "model_root_dir = cfg.OUTPUT.ROOT\n",
        "lambdas = cfg.SOLVER.LAMBDA_\n",
        "seed_start = cfg.SOLVER.SEED\n",
        "test_size = cfg.DATASET.TEST_RATIO\n",
        "\n",
        "res_df = load_result(dataset=dataset, root_dir=model_root_dir, \n",
        "                         lambdas=lambdas, seed_start=seed_start, test_size=test_size)\n",
        "\n",
        "res_df[\"GSI_train_session\"] = 2 * (res_df[\"acc_tgt_train_session\"] * \n",
        "                                       (res_df[\"acc_tgt_train_session\"] - \n",
        "                                        res_df[\"acc_nt_train_session\"]))\n",
        "res_df[\"GSI_test_session\"] = 2 * (res_df[\"acc_tgt_test_session\"] * \n",
        "                                      (res_df[\"acc_tgt_test_session\"] - \n",
        "                                       res_df[\"acc_nt_test_session\"]))\n",
        "\n",
        "res_df_train_session = reformat_results(res_df, [\"acc_tgt_train_session\", \"acc_nt_train_session\"])\n",
        "res_df_test_session = reformat_results(res_df, [\"acc_tgt_test_session\", \"acc_nt_test_session\"])\n",
        "\n",
        "res_df.loc[res_df[\"train_group\" ]==0, \"train_group\" ] = \"Male\"\n",
        "res_df.loc[res_df[\"train_group\" ]==1, \"train_group\" ] = \"Female\""
      ],
      "cell_type": "code",
      "outputs": [],
      "execution_count": null
    },
    {
      "metadata": {},
      "source": [
        "if not os.path.exists(\"figures\"):\n",
        "    os.mkdir(\"figures\")\n",
        "plot.plot_accuracy(res_df_train_session)"
      ],
      "cell_type": "code",
      "outputs": [],
      "execution_count": null
    },
    {
      "metadata": {},
      "source": [
        "plot.plot_gsi(res_df, x=\"lambda\", y=\"GSI_train_session\", hue=\"train_group\")"
      ],
      "cell_type": "code",
      "outputs": [],
      "execution_count": null
    }
  ]
}
