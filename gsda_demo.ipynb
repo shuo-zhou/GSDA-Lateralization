{
  "nbformat": 4,
  "nbformat_minor": 2,
  "metadata": {
    "kernelspec": {
      "display_name": "torch2",
      "language": "python",
      "name": "python3"
    }
  },
  "cells": [
    {
      "metadata": {},
      "source": [
        "# Group-Specific Discriminant Analysis for sex-specific lateralization Running Demo"
      ],
      "cell_type": "markdown"
    },
    {
      "metadata": {},
      "source": [
        "## Install essential packages"
      ],
      "cell_type": "markdown"
    },
    {
      "metadata": {},
      "source": [
        "if 'google.colab' in str(get_ipython()):\n",
        "    print('Running on CoLab')\n",
        "    !pip uninstall --yes yellowbrick\n",
        "    !pip install -U -q psutil\n",
        "    !pip install dgl dgllife\n",
        "    !pip install rdkit-pypi\n",
        "    !pip install PrettyTable yacs\n",
        "    !git clone https://github.com/shuo-zhou/GSDA-Lateralization\n",
        "    %cd GSDA-Lateralization\n",
        "else:\n",
        "    print('Not running on CoLab')\n",
        "     "
      ],
      "cell_type": "code",
      "outputs": [],
      "execution_count": null
    },
    {
      "metadata": {},
      "source": [
        "from configs.default_cfg import get_cfg_defaults\n",
        "from utils.experiment import run_experiment"
      ],
      "cell_type": "code",
      "outputs": [],
      "execution_count": null
    },
    {
      "metadata": {},
      "source": [
        "## Set up the configurations"
      ],
      "cell_type": "markdown"
    },
    {
      "metadata": {},
      "source": [
        "# ---- setup configs ----\n",
        "cfg_path = \"configs/demo.yaml\" # Path to `.yaml` config file\n",
        "\n",
        "cfg = get_cfg_defaults()\n",
        "cfg.merge_from_file(cfg_path)\n",
        "cfg.freeze()\n",
        "print(cfg)"
      ],
      "cell_type": "code",
      "outputs": [
        {
          "output_type": "stream",
          "name": "stdout",
          "text": [
            "DATASET:\n",
            "  ATLAS: BNA\n",
            "  CONNECTION: intra\n",
            "  DATASET: GSP\n",
            "  DOWNLOAD: True\n",
            "  FEATURE: correlation\n",
            "  MIX_GROUP: False\n",
            "  NUM_REPEAT: 1\n",
            "  REST1_ONLY: True\n",
            "  ROOT: data\n",
            "  RUN: Fisherz\n",
            "  SESSIONS: [None]\n",
            "  TEST_SIZE: 0.2\n",
            "  TYPE: functional\n",
            "OUTPUT:\n",
            "  ROOT: output\n",
            "SOLVER:\n",
            "  ALPHA: 10\n",
            "  LAMBDA_: [0.0, 1.0, 2.0, 5.0, 8.0, 10.0]\n",
            "  LR: 0.04\n",
            "  SEED: 2023\n"
          ]
        }
      ],
      "execution_count": null
    },
    {
      "metadata": {},
      "source": [
        "## Run experiments\n",
        "\n",
        "It could take a while (15 to 25 mins) to run the experiments. "
      ],
      "cell_type": "markdown"
    },
    {
      "metadata": {},
      "source": [
        "run_experiment(cfg)"
      ],
      "cell_type": "code",
      "outputs": [
        {
          "output_type": "stream",
          "name": "stdout",
          "text": [
            "Training model with lambda = 0.0 on GSP dataset\n"
          ]
        }
      ],
      "execution_count": null
    },
    {
      "metadata": {},
      "source": [],
      "cell_type": "code",
      "outputs": [],
      "execution_count": null
    }
  ]
}
