{
  "nbformat": 4,
  "nbformat_minor": 2,
  "metadata": {},
  "cells": [
    {
      "metadata": {},
      "source": [
        "# Group-Specific Discriminant Analysis for sex-specific lateralization Running Demo"
      ],
      "cell_type": "markdown"
    },
    {
      "metadata": {},
      "source": [
        "if 'google.colab' in str(get_ipython()):\n",
        "    print('Running on CoLab')\n",
        "    !pip uninstall --yes yellowbrick\n",
        "    !pip install -U -q psutil\n",
        "    !pip install dgl dgllife\n",
        "    !pip install rdkit-pypi\n",
        "    !pip install PrettyTable yacs\n",
        "    !git clone https://github.com/shuo-zhou/GSDA-Lateralization\n",
        "    %cd GSDA-Lateralization\n",
        "else:\n",
        "    print('Not running on CoLab')\n",
        "     "
      ],
      "cell_type": "code",
      "outputs": [],
      "execution_count": null
    },
    {
      "metadata": {},
      "source": [
        "def arg_parse():\n",
        "    \"\"\"Parsing arguments\"\"\"\n",
        "    parser = argparse.ArgumentParser(\n",
        "        description=\"GSDA brain hemispheres classification\"\n",
        "    )\n",
        "    parser.add_argument(\"--cfg\", required=True, help=\"path to config file\", type=str)\n",
        "    # parser.add_argument(\"--gpus\", default=None, help=\"gpu id(s) to use\", type=str)\n",
        "    parser.add_argument(\"--resume\", default=\"\", type=str)\n",
        "    args = parser.parse_args()\n",
        "    return args"
      ],
      "cell_type": "code",
      "outputs": [],
      "execution_count": null
    },
    {
      "metadata": {},
      "source": [
        "import argparse\n",
        "\n",
        "from default_cfg import get_cfg_defaults\n",
        "from experiment import run_experiment"
      ],
      "cell_type": "code",
      "outputs": [],
      "execution_count": null
    },
    {
      "metadata": {},
      "source": [
        "args = arg_parse()\n",
        "# ---- setup configs ----\n",
        "cfg = get_cfg_defaults()\n",
        "cfg.merge_from_file(args.cfg)\n",
        "cfg.freeze()\n",
        "print(cfg)\n",
        "\n",
        "results, outfile = run_experiment(cfg)\n",
        "results.to_csv(outfile, index=False)\n"
      ],
      "cell_type": "code",
      "outputs": [],
      "execution_count": null
    }
  ]
}
