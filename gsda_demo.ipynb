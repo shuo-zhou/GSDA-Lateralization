{
  "cells": [
    {
      "cell_type": "markdown",
      "metadata": {},
      "source": [
        "# Group-Specific Discriminant Analysis for sex-specific lateralization Running Demo\n",
        "\n",
        "[Open in Colab](https://colab.research.google.com/github/shuo-zhou/GSDA-Lateralization/blob/main/gsda_demo.ipynb)  (click `Runtime` → `Run all (Ctrl+F9)`)\n",
        "\n",
        "Online demo for the article [\"Group-specific discriminant analysis reveals statistically validated sex differences in lateralization of brain functional network\"](https://arxiv.org/abs/2404.05781)"
      ]
    },
    {
      "cell_type": "markdown",
      "metadata": {},
      "source": [
        "## Setup\n",
        "\n",
        "The first few blocks of code are necessary to set up the notebook execution environment. This checks if the notebook is running on Google Colab and installs required packages."
      ]
    },
    {
      "cell_type": "code",
      "execution_count": null,
      "metadata": {},
      "outputs": [],
      "source": [
        "#@title Setup environment and fetch code from GitHub\n",
        "\n",
        "if 'google.colab' in str(get_ipython()):\n",
        "    print('Running on CoLab')\n",
        "    !pip install yacs\n",
        "    !git clone https://github.com/shuo-zhou/GSDA-Lateralization\n",
        "    %cd GSDA-Lateralization\n",
        "else:\n",
        "    print('Not running on CoLab')\n",
        "     "
      ]
    },
    {
      "cell_type": "code",
      "execution_count": null,
      "metadata": {},
      "outputs": [],
      "source": [
        "#@title Import required modules\n",
        "import os\n",
        "from configs.default_cfg import get_cfg_defaults\n",
        "from utils.experiment import run_experiment\n",
        "from joblib import Parallel, delayed\n",
        "\n",
        "from utils.io_ import load_result, reformat_results\n",
        "from utils import plot"
      ]
    },
    {
      "cell_type": "markdown",
      "metadata": {},
      "source": [
        "### Configurations\n",
        "\n",
        "The customized configuration used in this demo is stored in `configs/demoh-cp.yaml`, this file overwrites defaults in `default_cfg.py` where a value is specified. Change the configuration file path to `cfg_path = \"configs/demo-gsp.yaml\"` for running the demo with GSP data. The processed intrahemispheric functional connectivity data is publicly available on Zenodo at\n",
        "\n",
        "- [Human Connectome Project (HCP)](https://zenodo.org/records/10050233)\n",
        "- [Brain Genomics Superstruct Project (GSP)](https://zenodo.org/records/10050234)"
      ]
    },
    {
      "cell_type": "code",
      "execution_count": null,
      "metadata": {},
      "outputs": [],
      "source": [
        "#@title Setup configs using .yaml file\n",
        "cfg_path = \"configs/demo-hcp.yaml\" # Path to `.yaml` config file\n",
        "\n",
        "cfg = get_cfg_defaults()\n",
        "cfg.merge_from_file(cfg_path)\n",
        "cfg.freeze()\n",
        "print(cfg)"
      ]
    },
    {
      "cell_type": "markdown",
      "metadata": {},
      "source": [
        "## Group-specific model training\n",
        "\n",
        "It could take a while (15 to 25 mins) to run the experiments. "
      ]
    },
    {
      "cell_type": "code",
      "execution_count": null,
      "metadata": {},
      "outputs": [],
      "source": [
        "_ = Parallel(n_jobs=2)(delayed(run_experiment)(cfg, lambda_) for lambda_ in cfg.SOLVER.LAMBDA_)\n",
        "\n",
        "# print() doesn't work with `Parallel` on Colab, please comment out the above line and uncomment the following line \n",
        "# if you are would like to see the outputs during training. Please be aware that this would slow down the whole training process.\n",
        "# _ = [run_experiment(cfg, lambda_) for lambda_ in cfg.SOLVER.LAMBDA_]"
      ]
    },
    {
      "cell_type": "markdown",
      "metadata": {},
      "source": [
        "## Classification result visualization"
      ]
    },
    {
      "cell_type": "code",
      "execution_count": null,
      "metadata": {
        "tags": [
          "hide-input"
        ]
      },
      "outputs": [],
      "source": [
        "#@title Load results and reformat as a dataframe\n",
        "\n",
        "dataset = cfg.DATASET.DATASET\n",
        "model_root_dir = cfg.OUTPUT.ROOT\n",
        "lambdas = cfg.SOLVER.LAMBDA_\n",
        "seed_start = cfg.SOLVER.SEED\n",
        "test_size = cfg.DATASET.TEST_RATIO\n",
        "\n",
        "res_df = load_result(dataset=dataset, root_dir=model_root_dir, \n",
        "                         lambdas=lambdas, seed_start=seed_start, test_size=test_size)\n",
        "\n",
        "res_df[\"GSI_train_session\"] = 2 * (res_df[\"acc_tgt_train_session\"] * \n",
        "                                       (res_df[\"acc_tgt_train_session\"] - \n",
        "                                        res_df[\"acc_nt_train_session\"]))\n",
        "res_df[\"GSI_test_session\"] = 2 * (res_df[\"acc_tgt_test_session\"] * \n",
        "                                      (res_df[\"acc_tgt_test_session\"] - \n",
        "                                       res_df[\"acc_nt_test_session\"]))\n",
        "\n",
        "res_df_train_session = reformat_results(res_df, [\"acc_tgt_train_session\", \"acc_nt_train_session\"])\n",
        "res_df_test_session = reformat_results(res_df, [\"acc_tgt_test_session\", \"acc_nt_test_session\"])"
      ]
    },
    {
      "cell_type": "code",
      "execution_count": null,
      "metadata": {},
      "outputs": [],
      "source": [
        "#@title Plot accuracy\n",
        "\n",
        "if not os.path.exists(\"figures\"):\n",
        "    os.mkdir(\"figures\")\n",
        "plot.plot_accuracy(res_df_train_session)"
      ]
    },
    {
      "cell_type": "code",
      "execution_count": null,
      "metadata": {},
      "outputs": [],
      "source": [
        "#@title Plot Group Specificity Index (GSI)\n",
        "plot.plot_gsi(res_df, x=\"lambda\", y=\"GSI_train_session\", hue=\"target_group\")"
      ]
    },
    {
      "cell_type": "markdown",
      "metadata": {},
      "source": [
        "## Citation\n",
        "\n",
        "If you find this work useful, please cite the following paper:\n",
        "\n",
        "```(bibtex)\n",
        "@misc{zhou2024groupspecific,\n",
        "      title={Group-specific discriminant analysis reveals statistically validated sex differences in lateralization of brain functional network},\n",
        "      author={Shuo Zhou and Junhao Luo and Yaya Jiang and Haolin Wang and Haiping Lu and Gaolang Gong},\n",
        "      year={2024},\n",
        "      eprint={2404.05781},\n",
        "      archivePrefix={arXiv},\n",
        "      primaryClass={q-bio.NC}\n",
        "}"
      ]
    }
  ],
  "metadata": {
    "kernelspec": {
      "display_name": "Python 3 (ipykernel)",
      "language": "python",
      "name": "python3"
    }
  },
  "nbformat": 4,
  "nbformat_minor": 2
}
